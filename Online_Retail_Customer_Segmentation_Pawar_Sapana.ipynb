{
  "nbformat": 4,
  "nbformat_minor": 0,
  "metadata": {
    "kernelspec": {
      "display_name": "Python 3",
      "language": "python",
      "name": "python3"
    },
    "language_info": {
      "codemirror_mode": {
        "name": "ipython",
        "version": 3
      },
      "file_extension": ".py",
      "mimetype": "text/x-python",
      "name": "python",
      "nbconvert_exporter": "python",
      "pygments_lexer": "ipython3",
      "version": "3.6.6"
    },
    "colab": {
      "name": "Online Retail Customer Segmentation - Pawar Sapana",
      "provenance": [],
      "collapsed_sections": [],
      "include_colab_link": true
    }
  },
  "cells": [
    {
      "cell_type": "markdown",
      "metadata": {
        "id": "view-in-github",
        "colab_type": "text"
      },
      "source": [
        "<a href=\"https://colab.research.google.com/github/sapanapawar/Online-Retail-Customer-Segmentation/blob/main/Online_Retail_Customer_Segmentation_Pawar_Sapana.ipynb\" target=\"_parent\"><img src=\"https://colab.research.google.com/assets/colab-badge.svg\" alt=\"Open In Colab\"/></a>"
      ]
    },
    {
      "cell_type": "markdown",
      "metadata": {
        "id": "tOGC-qoyhJeX"
      },
      "source": [
        "# <b><u> Project Title : Extraction/identification of major topics & themes discussed in news articles. </u></b>"
      ]
    },
    {
      "cell_type": "markdown",
      "metadata": {
        "id": "Y06xIdG26kRF"
      },
      "source": [
        "## <b> Problem Description </b>\n",
        "\n",
        "### In this project, your task is to identify major customer segments on a transnational data set which contains all the transactions occurring between 01/12/2010 and 09/12/2011 for a UK-based and registered non-store online retail.The company mainly sells unique all-occasion gifts. Many customers of the company are wholesalers."
      ]
    },
    {
      "cell_type": "markdown",
      "metadata": {
        "id": "AlLxAtlziMbP"
      },
      "source": [
        "## <b> Data Description </b>\n",
        "\n",
        "### <b>Attribute Information: </b>\n",
        "\n",
        "* ### InvoiceNo: Invoice number. Nominal, a 6-digit integral number uniquely assigned to each transaction. If this code starts with letter 'c', it indicates a cancellation.\n",
        "* ### StockCode: Product (item) code. Nominal, a 5-digit integral number uniquely assigned to each distinct product.\n",
        "* ### Description: Product (item) name. Nominal.\n",
        "* ### Quantity: The quantities of each product (item) per transaction. Numeric.\n",
        "* ### InvoiceDate: Invice Date and time. Numeric, the day and time when each transaction was generated.\n",
        "* ### UnitPrice: Unit price. Numeric, Product price per unit in sterling.\n",
        "* ### CustomerID: Customer number. Nominal, a 5-digit integral number uniquely assigned to each customer.\n",
        "* ### Country: Country name. Nominal, the name of the country where each customer resides."
      ]
    },
    {
      "cell_type": "markdown",
      "source": [
        "##**Import Python Libraries**"
      ],
      "metadata": {
        "id": "yyKExercbV11"
      }
    },
    {
      "cell_type": "code",
      "metadata": {
        "id": "dByMsuzT8Tnw"
      },
      "source": [
        "# Importing the libraries\n",
        "import numpy as np\n",
        "import pandas as pd\n",
        "\n",
        "import matplotlib.pyplot as plt\n",
        "%matplotlib inline\n",
        "import seaborn as sns\n",
        "import datetime as dt\n",
        "\n",
        "import warnings\n",
        "warnings.filterwarnings('ignore')"
      ],
      "execution_count": 1,
      "outputs": []
    },
    {
      "cell_type": "code",
      "source": [
        "# import required libraries for clustering\n",
        "import sklearn\n",
        "from sklearn.preprocessing import StandardScaler\n",
        "from sklearn.cluster import KMeans\n",
        "from sklearn.metrics import silhouette_score\n",
        "from scipy.cluster.hierarchy import linkage\n",
        "from scipy.cluster.hierarchy import dendrogram\n",
        "from scipy.cluster.hierarchy import cut_tree"
      ],
      "metadata": {
        "id": "KVsOFqVQm-Q4"
      },
      "execution_count": 2,
      "outputs": []
    },
    {
      "cell_type": "markdown",
      "source": [
        "##**Mount drive & load the dataset**"
      ],
      "metadata": {
        "id": "13KzFEBSblDl"
      }
    },
    {
      "cell_type": "code",
      "source": [
        "#Mounting drive\n",
        "from google.colab import drive\n",
        "drive.mount('/content/drive')"
      ],
      "metadata": {
        "colab": {
          "base_uri": "https://localhost:8080/"
        },
        "id": "2jog9qxGTviE",
        "outputId": "ef895b8e-0935-4e99-fe65-b9494a7bb9b3"
      },
      "execution_count": 3,
      "outputs": [
        {
          "output_type": "stream",
          "name": "stdout",
          "text": [
            "Mounted at /content/drive\n"
          ]
        }
      ]
    },
    {
      "cell_type": "code",
      "source": [
        "#Working directory path\n",
        "file_path = \"/content/drive/MyDrive/pd csv file/Online Retail.xlsx\""
      ],
      "metadata": {
        "id": "2YfGrn3VTy4C"
      },
      "execution_count": 4,
      "outputs": []
    },
    {
      "cell_type": "code",
      "source": [
        "#Reading the dataset\n",
        "df = pd.read_excel(file_path)"
      ],
      "metadata": {
        "id": "O-_Y1sJPT2MP"
      },
      "execution_count": 5,
      "outputs": []
    },
    {
      "cell_type": "markdown",
      "source": [
        "##**Data Exploration**"
      ],
      "metadata": {
        "id": "JaL9RxQQbqsB"
      }
    },
    {
      "cell_type": "code",
      "source": [
        "#Let's how the dataset look like\n",
        "df"
      ],
      "metadata": {
        "colab": {
          "base_uri": "https://localhost:8080/",
          "height": 424
        },
        "id": "DwvNLhnnF8iI",
        "outputId": "4540ca67-6b23-4343-8094-38e858bce197"
      },
      "execution_count": 6,
      "outputs": [
        {
          "output_type": "execute_result",
          "data": {
            "text/plain": [
              "       InvoiceNo StockCode                          Description  Quantity  \\\n",
              "0         536365    85123A   WHITE HANGING HEART T-LIGHT HOLDER         6   \n",
              "1         536365     71053                  WHITE METAL LANTERN         6   \n",
              "2         536365    84406B       CREAM CUPID HEARTS COAT HANGER         8   \n",
              "3         536365    84029G  KNITTED UNION FLAG HOT WATER BOTTLE         6   \n",
              "4         536365    84029E       RED WOOLLY HOTTIE WHITE HEART.         6   \n",
              "...          ...       ...                                  ...       ...   \n",
              "541904    581587     22613          PACK OF 20 SPACEBOY NAPKINS        12   \n",
              "541905    581587     22899         CHILDREN'S APRON DOLLY GIRL          6   \n",
              "541906    581587     23254        CHILDRENS CUTLERY DOLLY GIRL          4   \n",
              "541907    581587     23255      CHILDRENS CUTLERY CIRCUS PARADE         4   \n",
              "541908    581587     22138        BAKING SET 9 PIECE RETROSPOT          3   \n",
              "\n",
              "               InvoiceDate  UnitPrice  CustomerID         Country  \n",
              "0      2010-12-01 08:26:00       2.55     17850.0  United Kingdom  \n",
              "1      2010-12-01 08:26:00       3.39     17850.0  United Kingdom  \n",
              "2      2010-12-01 08:26:00       2.75     17850.0  United Kingdom  \n",
              "3      2010-12-01 08:26:00       3.39     17850.0  United Kingdom  \n",
              "4      2010-12-01 08:26:00       3.39     17850.0  United Kingdom  \n",
              "...                    ...        ...         ...             ...  \n",
              "541904 2011-12-09 12:50:00       0.85     12680.0          France  \n",
              "541905 2011-12-09 12:50:00       2.10     12680.0          France  \n",
              "541906 2011-12-09 12:50:00       4.15     12680.0          France  \n",
              "541907 2011-12-09 12:50:00       4.15     12680.0          France  \n",
              "541908 2011-12-09 12:50:00       4.95     12680.0          France  \n",
              "\n",
              "[541909 rows x 8 columns]"
            ],
            "text/html": [
              "\n",
              "  <div id=\"df-12df434a-f16d-419b-aef2-7ffe0b9789c8\">\n",
              "    <div class=\"colab-df-container\">\n",
              "      <div>\n",
              "<style scoped>\n",
              "    .dataframe tbody tr th:only-of-type {\n",
              "        vertical-align: middle;\n",
              "    }\n",
              "\n",
              "    .dataframe tbody tr th {\n",
              "        vertical-align: top;\n",
              "    }\n",
              "\n",
              "    .dataframe thead th {\n",
              "        text-align: right;\n",
              "    }\n",
              "</style>\n",
              "<table border=\"1\" class=\"dataframe\">\n",
              "  <thead>\n",
              "    <tr style=\"text-align: right;\">\n",
              "      <th></th>\n",
              "      <th>InvoiceNo</th>\n",
              "      <th>StockCode</th>\n",
              "      <th>Description</th>\n",
              "      <th>Quantity</th>\n",
              "      <th>InvoiceDate</th>\n",
              "      <th>UnitPrice</th>\n",
              "      <th>CustomerID</th>\n",
              "      <th>Country</th>\n",
              "    </tr>\n",
              "  </thead>\n",
              "  <tbody>\n",
              "    <tr>\n",
              "      <th>0</th>\n",
              "      <td>536365</td>\n",
              "      <td>85123A</td>\n",
              "      <td>WHITE HANGING HEART T-LIGHT HOLDER</td>\n",
              "      <td>6</td>\n",
              "      <td>2010-12-01 08:26:00</td>\n",
              "      <td>2.55</td>\n",
              "      <td>17850.0</td>\n",
              "      <td>United Kingdom</td>\n",
              "    </tr>\n",
              "    <tr>\n",
              "      <th>1</th>\n",
              "      <td>536365</td>\n",
              "      <td>71053</td>\n",
              "      <td>WHITE METAL LANTERN</td>\n",
              "      <td>6</td>\n",
              "      <td>2010-12-01 08:26:00</td>\n",
              "      <td>3.39</td>\n",
              "      <td>17850.0</td>\n",
              "      <td>United Kingdom</td>\n",
              "    </tr>\n",
              "    <tr>\n",
              "      <th>2</th>\n",
              "      <td>536365</td>\n",
              "      <td>84406B</td>\n",
              "      <td>CREAM CUPID HEARTS COAT HANGER</td>\n",
              "      <td>8</td>\n",
              "      <td>2010-12-01 08:26:00</td>\n",
              "      <td>2.75</td>\n",
              "      <td>17850.0</td>\n",
              "      <td>United Kingdom</td>\n",
              "    </tr>\n",
              "    <tr>\n",
              "      <th>3</th>\n",
              "      <td>536365</td>\n",
              "      <td>84029G</td>\n",
              "      <td>KNITTED UNION FLAG HOT WATER BOTTLE</td>\n",
              "      <td>6</td>\n",
              "      <td>2010-12-01 08:26:00</td>\n",
              "      <td>3.39</td>\n",
              "      <td>17850.0</td>\n",
              "      <td>United Kingdom</td>\n",
              "    </tr>\n",
              "    <tr>\n",
              "      <th>4</th>\n",
              "      <td>536365</td>\n",
              "      <td>84029E</td>\n",
              "      <td>RED WOOLLY HOTTIE WHITE HEART.</td>\n",
              "      <td>6</td>\n",
              "      <td>2010-12-01 08:26:00</td>\n",
              "      <td>3.39</td>\n",
              "      <td>17850.0</td>\n",
              "      <td>United Kingdom</td>\n",
              "    </tr>\n",
              "    <tr>\n",
              "      <th>...</th>\n",
              "      <td>...</td>\n",
              "      <td>...</td>\n",
              "      <td>...</td>\n",
              "      <td>...</td>\n",
              "      <td>...</td>\n",
              "      <td>...</td>\n",
              "      <td>...</td>\n",
              "      <td>...</td>\n",
              "    </tr>\n",
              "    <tr>\n",
              "      <th>541904</th>\n",
              "      <td>581587</td>\n",
              "      <td>22613</td>\n",
              "      <td>PACK OF 20 SPACEBOY NAPKINS</td>\n",
              "      <td>12</td>\n",
              "      <td>2011-12-09 12:50:00</td>\n",
              "      <td>0.85</td>\n",
              "      <td>12680.0</td>\n",
              "      <td>France</td>\n",
              "    </tr>\n",
              "    <tr>\n",
              "      <th>541905</th>\n",
              "      <td>581587</td>\n",
              "      <td>22899</td>\n",
              "      <td>CHILDREN'S APRON DOLLY GIRL</td>\n",
              "      <td>6</td>\n",
              "      <td>2011-12-09 12:50:00</td>\n",
              "      <td>2.10</td>\n",
              "      <td>12680.0</td>\n",
              "      <td>France</td>\n",
              "    </tr>\n",
              "    <tr>\n",
              "      <th>541906</th>\n",
              "      <td>581587</td>\n",
              "      <td>23254</td>\n",
              "      <td>CHILDRENS CUTLERY DOLLY GIRL</td>\n",
              "      <td>4</td>\n",
              "      <td>2011-12-09 12:50:00</td>\n",
              "      <td>4.15</td>\n",
              "      <td>12680.0</td>\n",
              "      <td>France</td>\n",
              "    </tr>\n",
              "    <tr>\n",
              "      <th>541907</th>\n",
              "      <td>581587</td>\n",
              "      <td>23255</td>\n",
              "      <td>CHILDRENS CUTLERY CIRCUS PARADE</td>\n",
              "      <td>4</td>\n",
              "      <td>2011-12-09 12:50:00</td>\n",
              "      <td>4.15</td>\n",
              "      <td>12680.0</td>\n",
              "      <td>France</td>\n",
              "    </tr>\n",
              "    <tr>\n",
              "      <th>541908</th>\n",
              "      <td>581587</td>\n",
              "      <td>22138</td>\n",
              "      <td>BAKING SET 9 PIECE RETROSPOT</td>\n",
              "      <td>3</td>\n",
              "      <td>2011-12-09 12:50:00</td>\n",
              "      <td>4.95</td>\n",
              "      <td>12680.0</td>\n",
              "      <td>France</td>\n",
              "    </tr>\n",
              "  </tbody>\n",
              "</table>\n",
              "<p>541909 rows × 8 columns</p>\n",
              "</div>\n",
              "      <button class=\"colab-df-convert\" onclick=\"convertToInteractive('df-12df434a-f16d-419b-aef2-7ffe0b9789c8')\"\n",
              "              title=\"Convert this dataframe to an interactive table.\"\n",
              "              style=\"display:none;\">\n",
              "        \n",
              "  <svg xmlns=\"http://www.w3.org/2000/svg\" height=\"24px\"viewBox=\"0 0 24 24\"\n",
              "       width=\"24px\">\n",
              "    <path d=\"M0 0h24v24H0V0z\" fill=\"none\"/>\n",
              "    <path d=\"M18.56 5.44l.94 2.06.94-2.06 2.06-.94-2.06-.94-.94-2.06-.94 2.06-2.06.94zm-11 1L8.5 8.5l.94-2.06 2.06-.94-2.06-.94L8.5 2.5l-.94 2.06-2.06.94zm10 10l.94 2.06.94-2.06 2.06-.94-2.06-.94-.94-2.06-.94 2.06-2.06.94z\"/><path d=\"M17.41 7.96l-1.37-1.37c-.4-.4-.92-.59-1.43-.59-.52 0-1.04.2-1.43.59L10.3 9.45l-7.72 7.72c-.78.78-.78 2.05 0 2.83L4 21.41c.39.39.9.59 1.41.59.51 0 1.02-.2 1.41-.59l7.78-7.78 2.81-2.81c.8-.78.8-2.07 0-2.86zM5.41 20L4 18.59l7.72-7.72 1.47 1.35L5.41 20z\"/>\n",
              "  </svg>\n",
              "      </button>\n",
              "      \n",
              "  <style>\n",
              "    .colab-df-container {\n",
              "      display:flex;\n",
              "      flex-wrap:wrap;\n",
              "      gap: 12px;\n",
              "    }\n",
              "\n",
              "    .colab-df-convert {\n",
              "      background-color: #E8F0FE;\n",
              "      border: none;\n",
              "      border-radius: 50%;\n",
              "      cursor: pointer;\n",
              "      display: none;\n",
              "      fill: #1967D2;\n",
              "      height: 32px;\n",
              "      padding: 0 0 0 0;\n",
              "      width: 32px;\n",
              "    }\n",
              "\n",
              "    .colab-df-convert:hover {\n",
              "      background-color: #E2EBFA;\n",
              "      box-shadow: 0px 1px 2px rgba(60, 64, 67, 0.3), 0px 1px 3px 1px rgba(60, 64, 67, 0.15);\n",
              "      fill: #174EA6;\n",
              "    }\n",
              "\n",
              "    [theme=dark] .colab-df-convert {\n",
              "      background-color: #3B4455;\n",
              "      fill: #D2E3FC;\n",
              "    }\n",
              "\n",
              "    [theme=dark] .colab-df-convert:hover {\n",
              "      background-color: #434B5C;\n",
              "      box-shadow: 0px 1px 3px 1px rgba(0, 0, 0, 0.15);\n",
              "      filter: drop-shadow(0px 1px 2px rgba(0, 0, 0, 0.3));\n",
              "      fill: #FFFFFF;\n",
              "    }\n",
              "  </style>\n",
              "\n",
              "      <script>\n",
              "        const buttonEl =\n",
              "          document.querySelector('#df-12df434a-f16d-419b-aef2-7ffe0b9789c8 button.colab-df-convert');\n",
              "        buttonEl.style.display =\n",
              "          google.colab.kernel.accessAllowed ? 'block' : 'none';\n",
              "\n",
              "        async function convertToInteractive(key) {\n",
              "          const element = document.querySelector('#df-12df434a-f16d-419b-aef2-7ffe0b9789c8');\n",
              "          const dataTable =\n",
              "            await google.colab.kernel.invokeFunction('convertToInteractive',\n",
              "                                                     [key], {});\n",
              "          if (!dataTable) return;\n",
              "\n",
              "          const docLinkHtml = 'Like what you see? Visit the ' +\n",
              "            '<a target=\"_blank\" href=https://colab.research.google.com/notebooks/data_table.ipynb>data table notebook</a>'\n",
              "            + ' to learn more about interactive tables.';\n",
              "          element.innerHTML = '';\n",
              "          dataTable['output_type'] = 'display_data';\n",
              "          await google.colab.output.renderOutput(dataTable, element);\n",
              "          const docLink = document.createElement('div');\n",
              "          docLink.innerHTML = docLinkHtml;\n",
              "          element.appendChild(docLink);\n",
              "        }\n",
              "      </script>\n",
              "    </div>\n",
              "  </div>\n",
              "  "
            ]
          },
          "metadata": {},
          "execution_count": 6
        }
      ]
    },
    {
      "cell_type": "markdown",
      "source": [
        "#**Data Cleaning and EDA**"
      ],
      "metadata": {
        "id": "Ltm0wZFULdmc"
      }
    },
    {
      "cell_type": "code",
      "source": [
        "#Observing first five rows\n",
        "df.head()"
      ],
      "metadata": {
        "colab": {
          "base_uri": "https://localhost:8080/",
          "height": 206
        },
        "id": "5X1xGFoILdAg",
        "outputId": "cd4e2abe-6a8d-4808-b869-7e597af8ccba"
      },
      "execution_count": 7,
      "outputs": [
        {
          "output_type": "execute_result",
          "data": {
            "text/plain": [
              "  InvoiceNo StockCode                          Description  Quantity  \\\n",
              "0    536365    85123A   WHITE HANGING HEART T-LIGHT HOLDER         6   \n",
              "1    536365     71053                  WHITE METAL LANTERN         6   \n",
              "2    536365    84406B       CREAM CUPID HEARTS COAT HANGER         8   \n",
              "3    536365    84029G  KNITTED UNION FLAG HOT WATER BOTTLE         6   \n",
              "4    536365    84029E       RED WOOLLY HOTTIE WHITE HEART.         6   \n",
              "\n",
              "          InvoiceDate  UnitPrice  CustomerID         Country  \n",
              "0 2010-12-01 08:26:00       2.55     17850.0  United Kingdom  \n",
              "1 2010-12-01 08:26:00       3.39     17850.0  United Kingdom  \n",
              "2 2010-12-01 08:26:00       2.75     17850.0  United Kingdom  \n",
              "3 2010-12-01 08:26:00       3.39     17850.0  United Kingdom  \n",
              "4 2010-12-01 08:26:00       3.39     17850.0  United Kingdom  "
            ],
            "text/html": [
              "\n",
              "  <div id=\"df-2b0bedbb-e4fc-44ee-b9f3-a3935e7346c0\">\n",
              "    <div class=\"colab-df-container\">\n",
              "      <div>\n",
              "<style scoped>\n",
              "    .dataframe tbody tr th:only-of-type {\n",
              "        vertical-align: middle;\n",
              "    }\n",
              "\n",
              "    .dataframe tbody tr th {\n",
              "        vertical-align: top;\n",
              "    }\n",
              "\n",
              "    .dataframe thead th {\n",
              "        text-align: right;\n",
              "    }\n",
              "</style>\n",
              "<table border=\"1\" class=\"dataframe\">\n",
              "  <thead>\n",
              "    <tr style=\"text-align: right;\">\n",
              "      <th></th>\n",
              "      <th>InvoiceNo</th>\n",
              "      <th>StockCode</th>\n",
              "      <th>Description</th>\n",
              "      <th>Quantity</th>\n",
              "      <th>InvoiceDate</th>\n",
              "      <th>UnitPrice</th>\n",
              "      <th>CustomerID</th>\n",
              "      <th>Country</th>\n",
              "    </tr>\n",
              "  </thead>\n",
              "  <tbody>\n",
              "    <tr>\n",
              "      <th>0</th>\n",
              "      <td>536365</td>\n",
              "      <td>85123A</td>\n",
              "      <td>WHITE HANGING HEART T-LIGHT HOLDER</td>\n",
              "      <td>6</td>\n",
              "      <td>2010-12-01 08:26:00</td>\n",
              "      <td>2.55</td>\n",
              "      <td>17850.0</td>\n",
              "      <td>United Kingdom</td>\n",
              "    </tr>\n",
              "    <tr>\n",
              "      <th>1</th>\n",
              "      <td>536365</td>\n",
              "      <td>71053</td>\n",
              "      <td>WHITE METAL LANTERN</td>\n",
              "      <td>6</td>\n",
              "      <td>2010-12-01 08:26:00</td>\n",
              "      <td>3.39</td>\n",
              "      <td>17850.0</td>\n",
              "      <td>United Kingdom</td>\n",
              "    </tr>\n",
              "    <tr>\n",
              "      <th>2</th>\n",
              "      <td>536365</td>\n",
              "      <td>84406B</td>\n",
              "      <td>CREAM CUPID HEARTS COAT HANGER</td>\n",
              "      <td>8</td>\n",
              "      <td>2010-12-01 08:26:00</td>\n",
              "      <td>2.75</td>\n",
              "      <td>17850.0</td>\n",
              "      <td>United Kingdom</td>\n",
              "    </tr>\n",
              "    <tr>\n",
              "      <th>3</th>\n",
              "      <td>536365</td>\n",
              "      <td>84029G</td>\n",
              "      <td>KNITTED UNION FLAG HOT WATER BOTTLE</td>\n",
              "      <td>6</td>\n",
              "      <td>2010-12-01 08:26:00</td>\n",
              "      <td>3.39</td>\n",
              "      <td>17850.0</td>\n",
              "      <td>United Kingdom</td>\n",
              "    </tr>\n",
              "    <tr>\n",
              "      <th>4</th>\n",
              "      <td>536365</td>\n",
              "      <td>84029E</td>\n",
              "      <td>RED WOOLLY HOTTIE WHITE HEART.</td>\n",
              "      <td>6</td>\n",
              "      <td>2010-12-01 08:26:00</td>\n",
              "      <td>3.39</td>\n",
              "      <td>17850.0</td>\n",
              "      <td>United Kingdom</td>\n",
              "    </tr>\n",
              "  </tbody>\n",
              "</table>\n",
              "</div>\n",
              "      <button class=\"colab-df-convert\" onclick=\"convertToInteractive('df-2b0bedbb-e4fc-44ee-b9f3-a3935e7346c0')\"\n",
              "              title=\"Convert this dataframe to an interactive table.\"\n",
              "              style=\"display:none;\">\n",
              "        \n",
              "  <svg xmlns=\"http://www.w3.org/2000/svg\" height=\"24px\"viewBox=\"0 0 24 24\"\n",
              "       width=\"24px\">\n",
              "    <path d=\"M0 0h24v24H0V0z\" fill=\"none\"/>\n",
              "    <path d=\"M18.56 5.44l.94 2.06.94-2.06 2.06-.94-2.06-.94-.94-2.06-.94 2.06-2.06.94zm-11 1L8.5 8.5l.94-2.06 2.06-.94-2.06-.94L8.5 2.5l-.94 2.06-2.06.94zm10 10l.94 2.06.94-2.06 2.06-.94-2.06-.94-.94-2.06-.94 2.06-2.06.94z\"/><path d=\"M17.41 7.96l-1.37-1.37c-.4-.4-.92-.59-1.43-.59-.52 0-1.04.2-1.43.59L10.3 9.45l-7.72 7.72c-.78.78-.78 2.05 0 2.83L4 21.41c.39.39.9.59 1.41.59.51 0 1.02-.2 1.41-.59l7.78-7.78 2.81-2.81c.8-.78.8-2.07 0-2.86zM5.41 20L4 18.59l7.72-7.72 1.47 1.35L5.41 20z\"/>\n",
              "  </svg>\n",
              "      </button>\n",
              "      \n",
              "  <style>\n",
              "    .colab-df-container {\n",
              "      display:flex;\n",
              "      flex-wrap:wrap;\n",
              "      gap: 12px;\n",
              "    }\n",
              "\n",
              "    .colab-df-convert {\n",
              "      background-color: #E8F0FE;\n",
              "      border: none;\n",
              "      border-radius: 50%;\n",
              "      cursor: pointer;\n",
              "      display: none;\n",
              "      fill: #1967D2;\n",
              "      height: 32px;\n",
              "      padding: 0 0 0 0;\n",
              "      width: 32px;\n",
              "    }\n",
              "\n",
              "    .colab-df-convert:hover {\n",
              "      background-color: #E2EBFA;\n",
              "      box-shadow: 0px 1px 2px rgba(60, 64, 67, 0.3), 0px 1px 3px 1px rgba(60, 64, 67, 0.15);\n",
              "      fill: #174EA6;\n",
              "    }\n",
              "\n",
              "    [theme=dark] .colab-df-convert {\n",
              "      background-color: #3B4455;\n",
              "      fill: #D2E3FC;\n",
              "    }\n",
              "\n",
              "    [theme=dark] .colab-df-convert:hover {\n",
              "      background-color: #434B5C;\n",
              "      box-shadow: 0px 1px 3px 1px rgba(0, 0, 0, 0.15);\n",
              "      filter: drop-shadow(0px 1px 2px rgba(0, 0, 0, 0.3));\n",
              "      fill: #FFFFFF;\n",
              "    }\n",
              "  </style>\n",
              "\n",
              "      <script>\n",
              "        const buttonEl =\n",
              "          document.querySelector('#df-2b0bedbb-e4fc-44ee-b9f3-a3935e7346c0 button.colab-df-convert');\n",
              "        buttonEl.style.display =\n",
              "          google.colab.kernel.accessAllowed ? 'block' : 'none';\n",
              "\n",
              "        async function convertToInteractive(key) {\n",
              "          const element = document.querySelector('#df-2b0bedbb-e4fc-44ee-b9f3-a3935e7346c0');\n",
              "          const dataTable =\n",
              "            await google.colab.kernel.invokeFunction('convertToInteractive',\n",
              "                                                     [key], {});\n",
              "          if (!dataTable) return;\n",
              "\n",
              "          const docLinkHtml = 'Like what you see? Visit the ' +\n",
              "            '<a target=\"_blank\" href=https://colab.research.google.com/notebooks/data_table.ipynb>data table notebook</a>'\n",
              "            + ' to learn more about interactive tables.';\n",
              "          element.innerHTML = '';\n",
              "          dataTable['output_type'] = 'display_data';\n",
              "          await google.colab.output.renderOutput(dataTable, element);\n",
              "          const docLink = document.createElement('div');\n",
              "          docLink.innerHTML = docLinkHtml;\n",
              "          element.appendChild(docLink);\n",
              "        }\n",
              "      </script>\n",
              "    </div>\n",
              "  </div>\n",
              "  "
            ]
          },
          "metadata": {},
          "execution_count": 7
        }
      ]
    },
    {
      "cell_type": "code",
      "source": [
        "#Observing last five rows\n",
        "df.tail()"
      ],
      "metadata": {
        "colab": {
          "base_uri": "https://localhost:8080/",
          "height": 206
        },
        "id": "qBl2ZXuIJe48",
        "outputId": "b2a93ea4-d57d-4f38-9ad4-1f446649921f"
      },
      "execution_count": 8,
      "outputs": [
        {
          "output_type": "execute_result",
          "data": {
            "text/plain": [
              "       InvoiceNo StockCode                      Description  Quantity  \\\n",
              "541904    581587     22613      PACK OF 20 SPACEBOY NAPKINS        12   \n",
              "541905    581587     22899     CHILDREN'S APRON DOLLY GIRL          6   \n",
              "541906    581587     23254    CHILDRENS CUTLERY DOLLY GIRL          4   \n",
              "541907    581587     23255  CHILDRENS CUTLERY CIRCUS PARADE         4   \n",
              "541908    581587     22138    BAKING SET 9 PIECE RETROSPOT          3   \n",
              "\n",
              "               InvoiceDate  UnitPrice  CustomerID Country  \n",
              "541904 2011-12-09 12:50:00       0.85     12680.0  France  \n",
              "541905 2011-12-09 12:50:00       2.10     12680.0  France  \n",
              "541906 2011-12-09 12:50:00       4.15     12680.0  France  \n",
              "541907 2011-12-09 12:50:00       4.15     12680.0  France  \n",
              "541908 2011-12-09 12:50:00       4.95     12680.0  France  "
            ],
            "text/html": [
              "\n",
              "  <div id=\"df-efebbd78-f4b8-441b-9e61-f1c9a148a94d\">\n",
              "    <div class=\"colab-df-container\">\n",
              "      <div>\n",
              "<style scoped>\n",
              "    .dataframe tbody tr th:only-of-type {\n",
              "        vertical-align: middle;\n",
              "    }\n",
              "\n",
              "    .dataframe tbody tr th {\n",
              "        vertical-align: top;\n",
              "    }\n",
              "\n",
              "    .dataframe thead th {\n",
              "        text-align: right;\n",
              "    }\n",
              "</style>\n",
              "<table border=\"1\" class=\"dataframe\">\n",
              "  <thead>\n",
              "    <tr style=\"text-align: right;\">\n",
              "      <th></th>\n",
              "      <th>InvoiceNo</th>\n",
              "      <th>StockCode</th>\n",
              "      <th>Description</th>\n",
              "      <th>Quantity</th>\n",
              "      <th>InvoiceDate</th>\n",
              "      <th>UnitPrice</th>\n",
              "      <th>CustomerID</th>\n",
              "      <th>Country</th>\n",
              "    </tr>\n",
              "  </thead>\n",
              "  <tbody>\n",
              "    <tr>\n",
              "      <th>541904</th>\n",
              "      <td>581587</td>\n",
              "      <td>22613</td>\n",
              "      <td>PACK OF 20 SPACEBOY NAPKINS</td>\n",
              "      <td>12</td>\n",
              "      <td>2011-12-09 12:50:00</td>\n",
              "      <td>0.85</td>\n",
              "      <td>12680.0</td>\n",
              "      <td>France</td>\n",
              "    </tr>\n",
              "    <tr>\n",
              "      <th>541905</th>\n",
              "      <td>581587</td>\n",
              "      <td>22899</td>\n",
              "      <td>CHILDREN'S APRON DOLLY GIRL</td>\n",
              "      <td>6</td>\n",
              "      <td>2011-12-09 12:50:00</td>\n",
              "      <td>2.10</td>\n",
              "      <td>12680.0</td>\n",
              "      <td>France</td>\n",
              "    </tr>\n",
              "    <tr>\n",
              "      <th>541906</th>\n",
              "      <td>581587</td>\n",
              "      <td>23254</td>\n",
              "      <td>CHILDRENS CUTLERY DOLLY GIRL</td>\n",
              "      <td>4</td>\n",
              "      <td>2011-12-09 12:50:00</td>\n",
              "      <td>4.15</td>\n",
              "      <td>12680.0</td>\n",
              "      <td>France</td>\n",
              "    </tr>\n",
              "    <tr>\n",
              "      <th>541907</th>\n",
              "      <td>581587</td>\n",
              "      <td>23255</td>\n",
              "      <td>CHILDRENS CUTLERY CIRCUS PARADE</td>\n",
              "      <td>4</td>\n",
              "      <td>2011-12-09 12:50:00</td>\n",
              "      <td>4.15</td>\n",
              "      <td>12680.0</td>\n",
              "      <td>France</td>\n",
              "    </tr>\n",
              "    <tr>\n",
              "      <th>541908</th>\n",
              "      <td>581587</td>\n",
              "      <td>22138</td>\n",
              "      <td>BAKING SET 9 PIECE RETROSPOT</td>\n",
              "      <td>3</td>\n",
              "      <td>2011-12-09 12:50:00</td>\n",
              "      <td>4.95</td>\n",
              "      <td>12680.0</td>\n",
              "      <td>France</td>\n",
              "    </tr>\n",
              "  </tbody>\n",
              "</table>\n",
              "</div>\n",
              "      <button class=\"colab-df-convert\" onclick=\"convertToInteractive('df-efebbd78-f4b8-441b-9e61-f1c9a148a94d')\"\n",
              "              title=\"Convert this dataframe to an interactive table.\"\n",
              "              style=\"display:none;\">\n",
              "        \n",
              "  <svg xmlns=\"http://www.w3.org/2000/svg\" height=\"24px\"viewBox=\"0 0 24 24\"\n",
              "       width=\"24px\">\n",
              "    <path d=\"M0 0h24v24H0V0z\" fill=\"none\"/>\n",
              "    <path d=\"M18.56 5.44l.94 2.06.94-2.06 2.06-.94-2.06-.94-.94-2.06-.94 2.06-2.06.94zm-11 1L8.5 8.5l.94-2.06 2.06-.94-2.06-.94L8.5 2.5l-.94 2.06-2.06.94zm10 10l.94 2.06.94-2.06 2.06-.94-2.06-.94-.94-2.06-.94 2.06-2.06.94z\"/><path d=\"M17.41 7.96l-1.37-1.37c-.4-.4-.92-.59-1.43-.59-.52 0-1.04.2-1.43.59L10.3 9.45l-7.72 7.72c-.78.78-.78 2.05 0 2.83L4 21.41c.39.39.9.59 1.41.59.51 0 1.02-.2 1.41-.59l7.78-7.78 2.81-2.81c.8-.78.8-2.07 0-2.86zM5.41 20L4 18.59l7.72-7.72 1.47 1.35L5.41 20z\"/>\n",
              "  </svg>\n",
              "      </button>\n",
              "      \n",
              "  <style>\n",
              "    .colab-df-container {\n",
              "      display:flex;\n",
              "      flex-wrap:wrap;\n",
              "      gap: 12px;\n",
              "    }\n",
              "\n",
              "    .colab-df-convert {\n",
              "      background-color: #E8F0FE;\n",
              "      border: none;\n",
              "      border-radius: 50%;\n",
              "      cursor: pointer;\n",
              "      display: none;\n",
              "      fill: #1967D2;\n",
              "      height: 32px;\n",
              "      padding: 0 0 0 0;\n",
              "      width: 32px;\n",
              "    }\n",
              "\n",
              "    .colab-df-convert:hover {\n",
              "      background-color: #E2EBFA;\n",
              "      box-shadow: 0px 1px 2px rgba(60, 64, 67, 0.3), 0px 1px 3px 1px rgba(60, 64, 67, 0.15);\n",
              "      fill: #174EA6;\n",
              "    }\n",
              "\n",
              "    [theme=dark] .colab-df-convert {\n",
              "      background-color: #3B4455;\n",
              "      fill: #D2E3FC;\n",
              "    }\n",
              "\n",
              "    [theme=dark] .colab-df-convert:hover {\n",
              "      background-color: #434B5C;\n",
              "      box-shadow: 0px 1px 3px 1px rgba(0, 0, 0, 0.15);\n",
              "      filter: drop-shadow(0px 1px 2px rgba(0, 0, 0, 0.3));\n",
              "      fill: #FFFFFF;\n",
              "    }\n",
              "  </style>\n",
              "\n",
              "      <script>\n",
              "        const buttonEl =\n",
              "          document.querySelector('#df-efebbd78-f4b8-441b-9e61-f1c9a148a94d button.colab-df-convert');\n",
              "        buttonEl.style.display =\n",
              "          google.colab.kernel.accessAllowed ? 'block' : 'none';\n",
              "\n",
              "        async function convertToInteractive(key) {\n",
              "          const element = document.querySelector('#df-efebbd78-f4b8-441b-9e61-f1c9a148a94d');\n",
              "          const dataTable =\n",
              "            await google.colab.kernel.invokeFunction('convertToInteractive',\n",
              "                                                     [key], {});\n",
              "          if (!dataTable) return;\n",
              "\n",
              "          const docLinkHtml = 'Like what you see? Visit the ' +\n",
              "            '<a target=\"_blank\" href=https://colab.research.google.com/notebooks/data_table.ipynb>data table notebook</a>'\n",
              "            + ' to learn more about interactive tables.';\n",
              "          element.innerHTML = '';\n",
              "          dataTable['output_type'] = 'display_data';\n",
              "          await google.colab.output.renderOutput(dataTable, element);\n",
              "          const docLink = document.createElement('div');\n",
              "          docLink.innerHTML = docLinkHtml;\n",
              "          element.appendChild(docLink);\n",
              "        }\n",
              "      </script>\n",
              "    </div>\n",
              "  </div>\n",
              "  "
            ]
          },
          "metadata": {},
          "execution_count": 8
        }
      ]
    },
    {
      "cell_type": "code",
      "source": [
        "#Checking for number of rows and columns\n",
        "df.shape"
      ],
      "metadata": {
        "colab": {
          "base_uri": "https://localhost:8080/"
        },
        "id": "7pe--EpEL1rU",
        "outputId": "ab2801ff-3429-4137-87df-20cbcbc5873b"
      },
      "execution_count": 9,
      "outputs": [
        {
          "output_type": "execute_result",
          "data": {
            "text/plain": [
              "(541909, 8)"
            ]
          },
          "metadata": {},
          "execution_count": 9
        }
      ]
    },
    {
      "cell_type": "code",
      "source": [
        "#Let's see the descriptive summary \n",
        "df.describe(include='all')"
      ],
      "metadata": {
        "colab": {
          "base_uri": "https://localhost:8080/",
          "height": 457
        },
        "id": "ZScVv325ML7q",
        "outputId": "e977cafb-a181-4320-af10-7e3c0fab571b"
      },
      "execution_count": 10,
      "outputs": [
        {
          "output_type": "execute_result",
          "data": {
            "text/plain": [
              "        InvoiceNo StockCode                         Description  \\\n",
              "count    541909.0    541909                              540455   \n",
              "unique    25900.0      4070                                4223   \n",
              "top      573585.0    85123A  WHITE HANGING HEART T-LIGHT HOLDER   \n",
              "freq       1114.0      2313                                2369   \n",
              "first         NaN       NaN                                 NaN   \n",
              "last          NaN       NaN                                 NaN   \n",
              "mean          NaN       NaN                                 NaN   \n",
              "std           NaN       NaN                                 NaN   \n",
              "min           NaN       NaN                                 NaN   \n",
              "25%           NaN       NaN                                 NaN   \n",
              "50%           NaN       NaN                                 NaN   \n",
              "75%           NaN       NaN                                 NaN   \n",
              "max           NaN       NaN                                 NaN   \n",
              "\n",
              "             Quantity          InvoiceDate      UnitPrice     CustomerID  \\\n",
              "count   541909.000000               541909  541909.000000  406829.000000   \n",
              "unique            NaN                23260            NaN            NaN   \n",
              "top               NaN  2011-10-31 14:41:00            NaN            NaN   \n",
              "freq              NaN                 1114            NaN            NaN   \n",
              "first             NaN  2010-12-01 08:26:00            NaN            NaN   \n",
              "last              NaN  2011-12-09 12:50:00            NaN            NaN   \n",
              "mean         9.552250                  NaN       4.611114   15287.690570   \n",
              "std        218.081158                  NaN      96.759853    1713.600303   \n",
              "min     -80995.000000                  NaN  -11062.060000   12346.000000   \n",
              "25%          1.000000                  NaN       1.250000   13953.000000   \n",
              "50%          3.000000                  NaN       2.080000   15152.000000   \n",
              "75%         10.000000                  NaN       4.130000   16791.000000   \n",
              "max      80995.000000                  NaN   38970.000000   18287.000000   \n",
              "\n",
              "               Country  \n",
              "count           541909  \n",
              "unique              38  \n",
              "top     United Kingdom  \n",
              "freq            495478  \n",
              "first              NaN  \n",
              "last               NaN  \n",
              "mean               NaN  \n",
              "std                NaN  \n",
              "min                NaN  \n",
              "25%                NaN  \n",
              "50%                NaN  \n",
              "75%                NaN  \n",
              "max                NaN  "
            ],
            "text/html": [
              "\n",
              "  <div id=\"df-e8ce7a62-2106-4dbf-b61f-693277530cc9\">\n",
              "    <div class=\"colab-df-container\">\n",
              "      <div>\n",
              "<style scoped>\n",
              "    .dataframe tbody tr th:only-of-type {\n",
              "        vertical-align: middle;\n",
              "    }\n",
              "\n",
              "    .dataframe tbody tr th {\n",
              "        vertical-align: top;\n",
              "    }\n",
              "\n",
              "    .dataframe thead th {\n",
              "        text-align: right;\n",
              "    }\n",
              "</style>\n",
              "<table border=\"1\" class=\"dataframe\">\n",
              "  <thead>\n",
              "    <tr style=\"text-align: right;\">\n",
              "      <th></th>\n",
              "      <th>InvoiceNo</th>\n",
              "      <th>StockCode</th>\n",
              "      <th>Description</th>\n",
              "      <th>Quantity</th>\n",
              "      <th>InvoiceDate</th>\n",
              "      <th>UnitPrice</th>\n",
              "      <th>CustomerID</th>\n",
              "      <th>Country</th>\n",
              "    </tr>\n",
              "  </thead>\n",
              "  <tbody>\n",
              "    <tr>\n",
              "      <th>count</th>\n",
              "      <td>541909.0</td>\n",
              "      <td>541909</td>\n",
              "      <td>540455</td>\n",
              "      <td>541909.000000</td>\n",
              "      <td>541909</td>\n",
              "      <td>541909.000000</td>\n",
              "      <td>406829.000000</td>\n",
              "      <td>541909</td>\n",
              "    </tr>\n",
              "    <tr>\n",
              "      <th>unique</th>\n",
              "      <td>25900.0</td>\n",
              "      <td>4070</td>\n",
              "      <td>4223</td>\n",
              "      <td>NaN</td>\n",
              "      <td>23260</td>\n",
              "      <td>NaN</td>\n",
              "      <td>NaN</td>\n",
              "      <td>38</td>\n",
              "    </tr>\n",
              "    <tr>\n",
              "      <th>top</th>\n",
              "      <td>573585.0</td>\n",
              "      <td>85123A</td>\n",
              "      <td>WHITE HANGING HEART T-LIGHT HOLDER</td>\n",
              "      <td>NaN</td>\n",
              "      <td>2011-10-31 14:41:00</td>\n",
              "      <td>NaN</td>\n",
              "      <td>NaN</td>\n",
              "      <td>United Kingdom</td>\n",
              "    </tr>\n",
              "    <tr>\n",
              "      <th>freq</th>\n",
              "      <td>1114.0</td>\n",
              "      <td>2313</td>\n",
              "      <td>2369</td>\n",
              "      <td>NaN</td>\n",
              "      <td>1114</td>\n",
              "      <td>NaN</td>\n",
              "      <td>NaN</td>\n",
              "      <td>495478</td>\n",
              "    </tr>\n",
              "    <tr>\n",
              "      <th>first</th>\n",
              "      <td>NaN</td>\n",
              "      <td>NaN</td>\n",
              "      <td>NaN</td>\n",
              "      <td>NaN</td>\n",
              "      <td>2010-12-01 08:26:00</td>\n",
              "      <td>NaN</td>\n",
              "      <td>NaN</td>\n",
              "      <td>NaN</td>\n",
              "    </tr>\n",
              "    <tr>\n",
              "      <th>last</th>\n",
              "      <td>NaN</td>\n",
              "      <td>NaN</td>\n",
              "      <td>NaN</td>\n",
              "      <td>NaN</td>\n",
              "      <td>2011-12-09 12:50:00</td>\n",
              "      <td>NaN</td>\n",
              "      <td>NaN</td>\n",
              "      <td>NaN</td>\n",
              "    </tr>\n",
              "    <tr>\n",
              "      <th>mean</th>\n",
              "      <td>NaN</td>\n",
              "      <td>NaN</td>\n",
              "      <td>NaN</td>\n",
              "      <td>9.552250</td>\n",
              "      <td>NaN</td>\n",
              "      <td>4.611114</td>\n",
              "      <td>15287.690570</td>\n",
              "      <td>NaN</td>\n",
              "    </tr>\n",
              "    <tr>\n",
              "      <th>std</th>\n",
              "      <td>NaN</td>\n",
              "      <td>NaN</td>\n",
              "      <td>NaN</td>\n",
              "      <td>218.081158</td>\n",
              "      <td>NaN</td>\n",
              "      <td>96.759853</td>\n",
              "      <td>1713.600303</td>\n",
              "      <td>NaN</td>\n",
              "    </tr>\n",
              "    <tr>\n",
              "      <th>min</th>\n",
              "      <td>NaN</td>\n",
              "      <td>NaN</td>\n",
              "      <td>NaN</td>\n",
              "      <td>-80995.000000</td>\n",
              "      <td>NaN</td>\n",
              "      <td>-11062.060000</td>\n",
              "      <td>12346.000000</td>\n",
              "      <td>NaN</td>\n",
              "    </tr>\n",
              "    <tr>\n",
              "      <th>25%</th>\n",
              "      <td>NaN</td>\n",
              "      <td>NaN</td>\n",
              "      <td>NaN</td>\n",
              "      <td>1.000000</td>\n",
              "      <td>NaN</td>\n",
              "      <td>1.250000</td>\n",
              "      <td>13953.000000</td>\n",
              "      <td>NaN</td>\n",
              "    </tr>\n",
              "    <tr>\n",
              "      <th>50%</th>\n",
              "      <td>NaN</td>\n",
              "      <td>NaN</td>\n",
              "      <td>NaN</td>\n",
              "      <td>3.000000</td>\n",
              "      <td>NaN</td>\n",
              "      <td>2.080000</td>\n",
              "      <td>15152.000000</td>\n",
              "      <td>NaN</td>\n",
              "    </tr>\n",
              "    <tr>\n",
              "      <th>75%</th>\n",
              "      <td>NaN</td>\n",
              "      <td>NaN</td>\n",
              "      <td>NaN</td>\n",
              "      <td>10.000000</td>\n",
              "      <td>NaN</td>\n",
              "      <td>4.130000</td>\n",
              "      <td>16791.000000</td>\n",
              "      <td>NaN</td>\n",
              "    </tr>\n",
              "    <tr>\n",
              "      <th>max</th>\n",
              "      <td>NaN</td>\n",
              "      <td>NaN</td>\n",
              "      <td>NaN</td>\n",
              "      <td>80995.000000</td>\n",
              "      <td>NaN</td>\n",
              "      <td>38970.000000</td>\n",
              "      <td>18287.000000</td>\n",
              "      <td>NaN</td>\n",
              "    </tr>\n",
              "  </tbody>\n",
              "</table>\n",
              "</div>\n",
              "      <button class=\"colab-df-convert\" onclick=\"convertToInteractive('df-e8ce7a62-2106-4dbf-b61f-693277530cc9')\"\n",
              "              title=\"Convert this dataframe to an interactive table.\"\n",
              "              style=\"display:none;\">\n",
              "        \n",
              "  <svg xmlns=\"http://www.w3.org/2000/svg\" height=\"24px\"viewBox=\"0 0 24 24\"\n",
              "       width=\"24px\">\n",
              "    <path d=\"M0 0h24v24H0V0z\" fill=\"none\"/>\n",
              "    <path d=\"M18.56 5.44l.94 2.06.94-2.06 2.06-.94-2.06-.94-.94-2.06-.94 2.06-2.06.94zm-11 1L8.5 8.5l.94-2.06 2.06-.94-2.06-.94L8.5 2.5l-.94 2.06-2.06.94zm10 10l.94 2.06.94-2.06 2.06-.94-2.06-.94-.94-2.06-.94 2.06-2.06.94z\"/><path d=\"M17.41 7.96l-1.37-1.37c-.4-.4-.92-.59-1.43-.59-.52 0-1.04.2-1.43.59L10.3 9.45l-7.72 7.72c-.78.78-.78 2.05 0 2.83L4 21.41c.39.39.9.59 1.41.59.51 0 1.02-.2 1.41-.59l7.78-7.78 2.81-2.81c.8-.78.8-2.07 0-2.86zM5.41 20L4 18.59l7.72-7.72 1.47 1.35L5.41 20z\"/>\n",
              "  </svg>\n",
              "      </button>\n",
              "      \n",
              "  <style>\n",
              "    .colab-df-container {\n",
              "      display:flex;\n",
              "      flex-wrap:wrap;\n",
              "      gap: 12px;\n",
              "    }\n",
              "\n",
              "    .colab-df-convert {\n",
              "      background-color: #E8F0FE;\n",
              "      border: none;\n",
              "      border-radius: 50%;\n",
              "      cursor: pointer;\n",
              "      display: none;\n",
              "      fill: #1967D2;\n",
              "      height: 32px;\n",
              "      padding: 0 0 0 0;\n",
              "      width: 32px;\n",
              "    }\n",
              "\n",
              "    .colab-df-convert:hover {\n",
              "      background-color: #E2EBFA;\n",
              "      box-shadow: 0px 1px 2px rgba(60, 64, 67, 0.3), 0px 1px 3px 1px rgba(60, 64, 67, 0.15);\n",
              "      fill: #174EA6;\n",
              "    }\n",
              "\n",
              "    [theme=dark] .colab-df-convert {\n",
              "      background-color: #3B4455;\n",
              "      fill: #D2E3FC;\n",
              "    }\n",
              "\n",
              "    [theme=dark] .colab-df-convert:hover {\n",
              "      background-color: #434B5C;\n",
              "      box-shadow: 0px 1px 3px 1px rgba(0, 0, 0, 0.15);\n",
              "      filter: drop-shadow(0px 1px 2px rgba(0, 0, 0, 0.3));\n",
              "      fill: #FFFFFF;\n",
              "    }\n",
              "  </style>\n",
              "\n",
              "      <script>\n",
              "        const buttonEl =\n",
              "          document.querySelector('#df-e8ce7a62-2106-4dbf-b61f-693277530cc9 button.colab-df-convert');\n",
              "        buttonEl.style.display =\n",
              "          google.colab.kernel.accessAllowed ? 'block' : 'none';\n",
              "\n",
              "        async function convertToInteractive(key) {\n",
              "          const element = document.querySelector('#df-e8ce7a62-2106-4dbf-b61f-693277530cc9');\n",
              "          const dataTable =\n",
              "            await google.colab.kernel.invokeFunction('convertToInteractive',\n",
              "                                                     [key], {});\n",
              "          if (!dataTable) return;\n",
              "\n",
              "          const docLinkHtml = 'Like what you see? Visit the ' +\n",
              "            '<a target=\"_blank\" href=https://colab.research.google.com/notebooks/data_table.ipynb>data table notebook</a>'\n",
              "            + ' to learn more about interactive tables.';\n",
              "          element.innerHTML = '';\n",
              "          dataTable['output_type'] = 'display_data';\n",
              "          await google.colab.output.renderOutput(dataTable, element);\n",
              "          const docLink = document.createElement('div');\n",
              "          docLink.innerHTML = docLinkHtml;\n",
              "          element.appendChild(docLink);\n",
              "        }\n",
              "      </script>\n",
              "    </div>\n",
              "  </div>\n",
              "  "
            ]
          },
          "metadata": {},
          "execution_count": 10
        }
      ]
    },
    {
      "cell_type": "code",
      "source": [
        "#Basic information of dataset\n",
        "df.info()"
      ],
      "metadata": {
        "colab": {
          "base_uri": "https://localhost:8080/"
        },
        "id": "OLSzlawsMU-Y",
        "outputId": "e7ad1de0-9365-49fe-f0d2-c96559b1cbe0"
      },
      "execution_count": 11,
      "outputs": [
        {
          "output_type": "stream",
          "name": "stdout",
          "text": [
            "<class 'pandas.core.frame.DataFrame'>\n",
            "RangeIndex: 541909 entries, 0 to 541908\n",
            "Data columns (total 8 columns):\n",
            " #   Column       Non-Null Count   Dtype         \n",
            "---  ------       --------------   -----         \n",
            " 0   InvoiceNo    541909 non-null  object        \n",
            " 1   StockCode    541909 non-null  object        \n",
            " 2   Description  540455 non-null  object        \n",
            " 3   Quantity     541909 non-null  int64         \n",
            " 4   InvoiceDate  541909 non-null  datetime64[ns]\n",
            " 5   UnitPrice    541909 non-null  float64       \n",
            " 6   CustomerID   406829 non-null  float64       \n",
            " 7   Country      541909 non-null  object        \n",
            "dtypes: datetime64[ns](1), float64(2), int64(1), object(4)\n",
            "memory usage: 33.1+ MB\n"
          ]
        }
      ]
    },
    {
      "cell_type": "code",
      "source": [
        "#Looking for duplicates\n",
        "df.duplicated().sum()"
      ],
      "metadata": {
        "colab": {
          "base_uri": "https://localhost:8080/"
        },
        "id": "MzIc-ErAMYSj",
        "outputId": "6f3181fc-d25a-45dc-bb91-92b2885ee4ef"
      },
      "execution_count": 12,
      "outputs": [
        {
          "output_type": "execute_result",
          "data": {
            "text/plain": [
              "5268"
            ]
          },
          "metadata": {},
          "execution_count": 12
        }
      ]
    },
    {
      "cell_type": "code",
      "source": [
        "#Dropping duplicates\n",
        "df.drop_duplicates()"
      ],
      "metadata": {
        "colab": {
          "base_uri": "https://localhost:8080/",
          "height": 424
        },
        "id": "l8uW02MWMbUt",
        "outputId": "020db479-bf78-4376-cf27-75e628fd4e2f"
      },
      "execution_count": 13,
      "outputs": [
        {
          "output_type": "execute_result",
          "data": {
            "text/plain": [
              "       InvoiceNo StockCode                          Description  Quantity  \\\n",
              "0         536365    85123A   WHITE HANGING HEART T-LIGHT HOLDER         6   \n",
              "1         536365     71053                  WHITE METAL LANTERN         6   \n",
              "2         536365    84406B       CREAM CUPID HEARTS COAT HANGER         8   \n",
              "3         536365    84029G  KNITTED UNION FLAG HOT WATER BOTTLE         6   \n",
              "4         536365    84029E       RED WOOLLY HOTTIE WHITE HEART.         6   \n",
              "...          ...       ...                                  ...       ...   \n",
              "541904    581587     22613          PACK OF 20 SPACEBOY NAPKINS        12   \n",
              "541905    581587     22899         CHILDREN'S APRON DOLLY GIRL          6   \n",
              "541906    581587     23254        CHILDRENS CUTLERY DOLLY GIRL          4   \n",
              "541907    581587     23255      CHILDRENS CUTLERY CIRCUS PARADE         4   \n",
              "541908    581587     22138        BAKING SET 9 PIECE RETROSPOT          3   \n",
              "\n",
              "               InvoiceDate  UnitPrice  CustomerID         Country  \n",
              "0      2010-12-01 08:26:00       2.55     17850.0  United Kingdom  \n",
              "1      2010-12-01 08:26:00       3.39     17850.0  United Kingdom  \n",
              "2      2010-12-01 08:26:00       2.75     17850.0  United Kingdom  \n",
              "3      2010-12-01 08:26:00       3.39     17850.0  United Kingdom  \n",
              "4      2010-12-01 08:26:00       3.39     17850.0  United Kingdom  \n",
              "...                    ...        ...         ...             ...  \n",
              "541904 2011-12-09 12:50:00       0.85     12680.0          France  \n",
              "541905 2011-12-09 12:50:00       2.10     12680.0          France  \n",
              "541906 2011-12-09 12:50:00       4.15     12680.0          France  \n",
              "541907 2011-12-09 12:50:00       4.15     12680.0          France  \n",
              "541908 2011-12-09 12:50:00       4.95     12680.0          France  \n",
              "\n",
              "[536641 rows x 8 columns]"
            ],
            "text/html": [
              "\n",
              "  <div id=\"df-5b33951d-46b0-4aa7-a34d-beba35d77a4a\">\n",
              "    <div class=\"colab-df-container\">\n",
              "      <div>\n",
              "<style scoped>\n",
              "    .dataframe tbody tr th:only-of-type {\n",
              "        vertical-align: middle;\n",
              "    }\n",
              "\n",
              "    .dataframe tbody tr th {\n",
              "        vertical-align: top;\n",
              "    }\n",
              "\n",
              "    .dataframe thead th {\n",
              "        text-align: right;\n",
              "    }\n",
              "</style>\n",
              "<table border=\"1\" class=\"dataframe\">\n",
              "  <thead>\n",
              "    <tr style=\"text-align: right;\">\n",
              "      <th></th>\n",
              "      <th>InvoiceNo</th>\n",
              "      <th>StockCode</th>\n",
              "      <th>Description</th>\n",
              "      <th>Quantity</th>\n",
              "      <th>InvoiceDate</th>\n",
              "      <th>UnitPrice</th>\n",
              "      <th>CustomerID</th>\n",
              "      <th>Country</th>\n",
              "    </tr>\n",
              "  </thead>\n",
              "  <tbody>\n",
              "    <tr>\n",
              "      <th>0</th>\n",
              "      <td>536365</td>\n",
              "      <td>85123A</td>\n",
              "      <td>WHITE HANGING HEART T-LIGHT HOLDER</td>\n",
              "      <td>6</td>\n",
              "      <td>2010-12-01 08:26:00</td>\n",
              "      <td>2.55</td>\n",
              "      <td>17850.0</td>\n",
              "      <td>United Kingdom</td>\n",
              "    </tr>\n",
              "    <tr>\n",
              "      <th>1</th>\n",
              "      <td>536365</td>\n",
              "      <td>71053</td>\n",
              "      <td>WHITE METAL LANTERN</td>\n",
              "      <td>6</td>\n",
              "      <td>2010-12-01 08:26:00</td>\n",
              "      <td>3.39</td>\n",
              "      <td>17850.0</td>\n",
              "      <td>United Kingdom</td>\n",
              "    </tr>\n",
              "    <tr>\n",
              "      <th>2</th>\n",
              "      <td>536365</td>\n",
              "      <td>84406B</td>\n",
              "      <td>CREAM CUPID HEARTS COAT HANGER</td>\n",
              "      <td>8</td>\n",
              "      <td>2010-12-01 08:26:00</td>\n",
              "      <td>2.75</td>\n",
              "      <td>17850.0</td>\n",
              "      <td>United Kingdom</td>\n",
              "    </tr>\n",
              "    <tr>\n",
              "      <th>3</th>\n",
              "      <td>536365</td>\n",
              "      <td>84029G</td>\n",
              "      <td>KNITTED UNION FLAG HOT WATER BOTTLE</td>\n",
              "      <td>6</td>\n",
              "      <td>2010-12-01 08:26:00</td>\n",
              "      <td>3.39</td>\n",
              "      <td>17850.0</td>\n",
              "      <td>United Kingdom</td>\n",
              "    </tr>\n",
              "    <tr>\n",
              "      <th>4</th>\n",
              "      <td>536365</td>\n",
              "      <td>84029E</td>\n",
              "      <td>RED WOOLLY HOTTIE WHITE HEART.</td>\n",
              "      <td>6</td>\n",
              "      <td>2010-12-01 08:26:00</td>\n",
              "      <td>3.39</td>\n",
              "      <td>17850.0</td>\n",
              "      <td>United Kingdom</td>\n",
              "    </tr>\n",
              "    <tr>\n",
              "      <th>...</th>\n",
              "      <td>...</td>\n",
              "      <td>...</td>\n",
              "      <td>...</td>\n",
              "      <td>...</td>\n",
              "      <td>...</td>\n",
              "      <td>...</td>\n",
              "      <td>...</td>\n",
              "      <td>...</td>\n",
              "    </tr>\n",
              "    <tr>\n",
              "      <th>541904</th>\n",
              "      <td>581587</td>\n",
              "      <td>22613</td>\n",
              "      <td>PACK OF 20 SPACEBOY NAPKINS</td>\n",
              "      <td>12</td>\n",
              "      <td>2011-12-09 12:50:00</td>\n",
              "      <td>0.85</td>\n",
              "      <td>12680.0</td>\n",
              "      <td>France</td>\n",
              "    </tr>\n",
              "    <tr>\n",
              "      <th>541905</th>\n",
              "      <td>581587</td>\n",
              "      <td>22899</td>\n",
              "      <td>CHILDREN'S APRON DOLLY GIRL</td>\n",
              "      <td>6</td>\n",
              "      <td>2011-12-09 12:50:00</td>\n",
              "      <td>2.10</td>\n",
              "      <td>12680.0</td>\n",
              "      <td>France</td>\n",
              "    </tr>\n",
              "    <tr>\n",
              "      <th>541906</th>\n",
              "      <td>581587</td>\n",
              "      <td>23254</td>\n",
              "      <td>CHILDRENS CUTLERY DOLLY GIRL</td>\n",
              "      <td>4</td>\n",
              "      <td>2011-12-09 12:50:00</td>\n",
              "      <td>4.15</td>\n",
              "      <td>12680.0</td>\n",
              "      <td>France</td>\n",
              "    </tr>\n",
              "    <tr>\n",
              "      <th>541907</th>\n",
              "      <td>581587</td>\n",
              "      <td>23255</td>\n",
              "      <td>CHILDRENS CUTLERY CIRCUS PARADE</td>\n",
              "      <td>4</td>\n",
              "      <td>2011-12-09 12:50:00</td>\n",
              "      <td>4.15</td>\n",
              "      <td>12680.0</td>\n",
              "      <td>France</td>\n",
              "    </tr>\n",
              "    <tr>\n",
              "      <th>541908</th>\n",
              "      <td>581587</td>\n",
              "      <td>22138</td>\n",
              "      <td>BAKING SET 9 PIECE RETROSPOT</td>\n",
              "      <td>3</td>\n",
              "      <td>2011-12-09 12:50:00</td>\n",
              "      <td>4.95</td>\n",
              "      <td>12680.0</td>\n",
              "      <td>France</td>\n",
              "    </tr>\n",
              "  </tbody>\n",
              "</table>\n",
              "<p>536641 rows × 8 columns</p>\n",
              "</div>\n",
              "      <button class=\"colab-df-convert\" onclick=\"convertToInteractive('df-5b33951d-46b0-4aa7-a34d-beba35d77a4a')\"\n",
              "              title=\"Convert this dataframe to an interactive table.\"\n",
              "              style=\"display:none;\">\n",
              "        \n",
              "  <svg xmlns=\"http://www.w3.org/2000/svg\" height=\"24px\"viewBox=\"0 0 24 24\"\n",
              "       width=\"24px\">\n",
              "    <path d=\"M0 0h24v24H0V0z\" fill=\"none\"/>\n",
              "    <path d=\"M18.56 5.44l.94 2.06.94-2.06 2.06-.94-2.06-.94-.94-2.06-.94 2.06-2.06.94zm-11 1L8.5 8.5l.94-2.06 2.06-.94-2.06-.94L8.5 2.5l-.94 2.06-2.06.94zm10 10l.94 2.06.94-2.06 2.06-.94-2.06-.94-.94-2.06-.94 2.06-2.06.94z\"/><path d=\"M17.41 7.96l-1.37-1.37c-.4-.4-.92-.59-1.43-.59-.52 0-1.04.2-1.43.59L10.3 9.45l-7.72 7.72c-.78.78-.78 2.05 0 2.83L4 21.41c.39.39.9.59 1.41.59.51 0 1.02-.2 1.41-.59l7.78-7.78 2.81-2.81c.8-.78.8-2.07 0-2.86zM5.41 20L4 18.59l7.72-7.72 1.47 1.35L5.41 20z\"/>\n",
              "  </svg>\n",
              "      </button>\n",
              "      \n",
              "  <style>\n",
              "    .colab-df-container {\n",
              "      display:flex;\n",
              "      flex-wrap:wrap;\n",
              "      gap: 12px;\n",
              "    }\n",
              "\n",
              "    .colab-df-convert {\n",
              "      background-color: #E8F0FE;\n",
              "      border: none;\n",
              "      border-radius: 50%;\n",
              "      cursor: pointer;\n",
              "      display: none;\n",
              "      fill: #1967D2;\n",
              "      height: 32px;\n",
              "      padding: 0 0 0 0;\n",
              "      width: 32px;\n",
              "    }\n",
              "\n",
              "    .colab-df-convert:hover {\n",
              "      background-color: #E2EBFA;\n",
              "      box-shadow: 0px 1px 2px rgba(60, 64, 67, 0.3), 0px 1px 3px 1px rgba(60, 64, 67, 0.15);\n",
              "      fill: #174EA6;\n",
              "    }\n",
              "\n",
              "    [theme=dark] .colab-df-convert {\n",
              "      background-color: #3B4455;\n",
              "      fill: #D2E3FC;\n",
              "    }\n",
              "\n",
              "    [theme=dark] .colab-df-convert:hover {\n",
              "      background-color: #434B5C;\n",
              "      box-shadow: 0px 1px 3px 1px rgba(0, 0, 0, 0.15);\n",
              "      filter: drop-shadow(0px 1px 2px rgba(0, 0, 0, 0.3));\n",
              "      fill: #FFFFFF;\n",
              "    }\n",
              "  </style>\n",
              "\n",
              "      <script>\n",
              "        const buttonEl =\n",
              "          document.querySelector('#df-5b33951d-46b0-4aa7-a34d-beba35d77a4a button.colab-df-convert');\n",
              "        buttonEl.style.display =\n",
              "          google.colab.kernel.accessAllowed ? 'block' : 'none';\n",
              "\n",
              "        async function convertToInteractive(key) {\n",
              "          const element = document.querySelector('#df-5b33951d-46b0-4aa7-a34d-beba35d77a4a');\n",
              "          const dataTable =\n",
              "            await google.colab.kernel.invokeFunction('convertToInteractive',\n",
              "                                                     [key], {});\n",
              "          if (!dataTable) return;\n",
              "\n",
              "          const docLinkHtml = 'Like what you see? Visit the ' +\n",
              "            '<a target=\"_blank\" href=https://colab.research.google.com/notebooks/data_table.ipynb>data table notebook</a>'\n",
              "            + ' to learn more about interactive tables.';\n",
              "          element.innerHTML = '';\n",
              "          dataTable['output_type'] = 'display_data';\n",
              "          await google.colab.output.renderOutput(dataTable, element);\n",
              "          const docLink = document.createElement('div');\n",
              "          docLink.innerHTML = docLinkHtml;\n",
              "          element.appendChild(docLink);\n",
              "        }\n",
              "      </script>\n",
              "    </div>\n",
              "  </div>\n",
              "  "
            ]
          },
          "metadata": {},
          "execution_count": 13
        }
      ]
    },
    {
      "cell_type": "code",
      "source": [
        "df.nunique()"
      ],
      "metadata": {
        "colab": {
          "base_uri": "https://localhost:8080/"
        },
        "id": "VcvCMtPGMjMB",
        "outputId": "4fa6c122-97e3-4113-e95f-c6443f6b6096"
      },
      "execution_count": 14,
      "outputs": [
        {
          "output_type": "execute_result",
          "data": {
            "text/plain": [
              "InvoiceNo      25900\n",
              "StockCode       4070\n",
              "Description     4223\n",
              "Quantity         722\n",
              "InvoiceDate    23260\n",
              "UnitPrice       1630\n",
              "CustomerID      4372\n",
              "Country           38\n",
              "dtype: int64"
            ]
          },
          "metadata": {},
          "execution_count": 14
        }
      ]
    },
    {
      "cell_type": "code",
      "source": [
        "#Checking for NaN values\n",
        "df.loc[df.isnull().any(axis=1)]"
      ],
      "metadata": {
        "colab": {
          "base_uri": "https://localhost:8080/",
          "height": 424
        },
        "id": "htdY_wmcPAb_",
        "outputId": "003405d9-bf40-47d6-815f-d39d80dca7b7"
      },
      "execution_count": 15,
      "outputs": [
        {
          "output_type": "execute_result",
          "data": {
            "text/plain": [
              "       InvoiceNo StockCode                      Description  Quantity  \\\n",
              "622       536414     22139                              NaN        56   \n",
              "1443      536544     21773  DECORATIVE ROSE BATHROOM BOTTLE         1   \n",
              "1444      536544     21774  DECORATIVE CATS BATHROOM BOTTLE         2   \n",
              "1445      536544     21786               POLKADOT RAIN HAT          4   \n",
              "1446      536544     21787            RAIN PONCHO RETROSPOT         2   \n",
              "...          ...       ...                              ...       ...   \n",
              "541536    581498    85099B          JUMBO BAG RED RETROSPOT         5   \n",
              "541537    581498    85099C   JUMBO  BAG BAROQUE BLACK WHITE         4   \n",
              "541538    581498     85150    LADIES & GENTLEMEN METAL SIGN         1   \n",
              "541539    581498     85174                S/4 CACTI CANDLES         1   \n",
              "541540    581498       DOT                   DOTCOM POSTAGE         1   \n",
              "\n",
              "               InvoiceDate  UnitPrice  CustomerID         Country  \n",
              "622    2010-12-01 11:52:00       0.00         NaN  United Kingdom  \n",
              "1443   2010-12-01 14:32:00       2.51         NaN  United Kingdom  \n",
              "1444   2010-12-01 14:32:00       2.51         NaN  United Kingdom  \n",
              "1445   2010-12-01 14:32:00       0.85         NaN  United Kingdom  \n",
              "1446   2010-12-01 14:32:00       1.66         NaN  United Kingdom  \n",
              "...                    ...        ...         ...             ...  \n",
              "541536 2011-12-09 10:26:00       4.13         NaN  United Kingdom  \n",
              "541537 2011-12-09 10:26:00       4.13         NaN  United Kingdom  \n",
              "541538 2011-12-09 10:26:00       4.96         NaN  United Kingdom  \n",
              "541539 2011-12-09 10:26:00      10.79         NaN  United Kingdom  \n",
              "541540 2011-12-09 10:26:00    1714.17         NaN  United Kingdom  \n",
              "\n",
              "[135080 rows x 8 columns]"
            ],
            "text/html": [
              "\n",
              "  <div id=\"df-1508a279-4b11-46c3-b0b2-aa000e02f3ff\">\n",
              "    <div class=\"colab-df-container\">\n",
              "      <div>\n",
              "<style scoped>\n",
              "    .dataframe tbody tr th:only-of-type {\n",
              "        vertical-align: middle;\n",
              "    }\n",
              "\n",
              "    .dataframe tbody tr th {\n",
              "        vertical-align: top;\n",
              "    }\n",
              "\n",
              "    .dataframe thead th {\n",
              "        text-align: right;\n",
              "    }\n",
              "</style>\n",
              "<table border=\"1\" class=\"dataframe\">\n",
              "  <thead>\n",
              "    <tr style=\"text-align: right;\">\n",
              "      <th></th>\n",
              "      <th>InvoiceNo</th>\n",
              "      <th>StockCode</th>\n",
              "      <th>Description</th>\n",
              "      <th>Quantity</th>\n",
              "      <th>InvoiceDate</th>\n",
              "      <th>UnitPrice</th>\n",
              "      <th>CustomerID</th>\n",
              "      <th>Country</th>\n",
              "    </tr>\n",
              "  </thead>\n",
              "  <tbody>\n",
              "    <tr>\n",
              "      <th>622</th>\n",
              "      <td>536414</td>\n",
              "      <td>22139</td>\n",
              "      <td>NaN</td>\n",
              "      <td>56</td>\n",
              "      <td>2010-12-01 11:52:00</td>\n",
              "      <td>0.00</td>\n",
              "      <td>NaN</td>\n",
              "      <td>United Kingdom</td>\n",
              "    </tr>\n",
              "    <tr>\n",
              "      <th>1443</th>\n",
              "      <td>536544</td>\n",
              "      <td>21773</td>\n",
              "      <td>DECORATIVE ROSE BATHROOM BOTTLE</td>\n",
              "      <td>1</td>\n",
              "      <td>2010-12-01 14:32:00</td>\n",
              "      <td>2.51</td>\n",
              "      <td>NaN</td>\n",
              "      <td>United Kingdom</td>\n",
              "    </tr>\n",
              "    <tr>\n",
              "      <th>1444</th>\n",
              "      <td>536544</td>\n",
              "      <td>21774</td>\n",
              "      <td>DECORATIVE CATS BATHROOM BOTTLE</td>\n",
              "      <td>2</td>\n",
              "      <td>2010-12-01 14:32:00</td>\n",
              "      <td>2.51</td>\n",
              "      <td>NaN</td>\n",
              "      <td>United Kingdom</td>\n",
              "    </tr>\n",
              "    <tr>\n",
              "      <th>1445</th>\n",
              "      <td>536544</td>\n",
              "      <td>21786</td>\n",
              "      <td>POLKADOT RAIN HAT</td>\n",
              "      <td>4</td>\n",
              "      <td>2010-12-01 14:32:00</td>\n",
              "      <td>0.85</td>\n",
              "      <td>NaN</td>\n",
              "      <td>United Kingdom</td>\n",
              "    </tr>\n",
              "    <tr>\n",
              "      <th>1446</th>\n",
              "      <td>536544</td>\n",
              "      <td>21787</td>\n",
              "      <td>RAIN PONCHO RETROSPOT</td>\n",
              "      <td>2</td>\n",
              "      <td>2010-12-01 14:32:00</td>\n",
              "      <td>1.66</td>\n",
              "      <td>NaN</td>\n",
              "      <td>United Kingdom</td>\n",
              "    </tr>\n",
              "    <tr>\n",
              "      <th>...</th>\n",
              "      <td>...</td>\n",
              "      <td>...</td>\n",
              "      <td>...</td>\n",
              "      <td>...</td>\n",
              "      <td>...</td>\n",
              "      <td>...</td>\n",
              "      <td>...</td>\n",
              "      <td>...</td>\n",
              "    </tr>\n",
              "    <tr>\n",
              "      <th>541536</th>\n",
              "      <td>581498</td>\n",
              "      <td>85099B</td>\n",
              "      <td>JUMBO BAG RED RETROSPOT</td>\n",
              "      <td>5</td>\n",
              "      <td>2011-12-09 10:26:00</td>\n",
              "      <td>4.13</td>\n",
              "      <td>NaN</td>\n",
              "      <td>United Kingdom</td>\n",
              "    </tr>\n",
              "    <tr>\n",
              "      <th>541537</th>\n",
              "      <td>581498</td>\n",
              "      <td>85099C</td>\n",
              "      <td>JUMBO  BAG BAROQUE BLACK WHITE</td>\n",
              "      <td>4</td>\n",
              "      <td>2011-12-09 10:26:00</td>\n",
              "      <td>4.13</td>\n",
              "      <td>NaN</td>\n",
              "      <td>United Kingdom</td>\n",
              "    </tr>\n",
              "    <tr>\n",
              "      <th>541538</th>\n",
              "      <td>581498</td>\n",
              "      <td>85150</td>\n",
              "      <td>LADIES &amp; GENTLEMEN METAL SIGN</td>\n",
              "      <td>1</td>\n",
              "      <td>2011-12-09 10:26:00</td>\n",
              "      <td>4.96</td>\n",
              "      <td>NaN</td>\n",
              "      <td>United Kingdom</td>\n",
              "    </tr>\n",
              "    <tr>\n",
              "      <th>541539</th>\n",
              "      <td>581498</td>\n",
              "      <td>85174</td>\n",
              "      <td>S/4 CACTI CANDLES</td>\n",
              "      <td>1</td>\n",
              "      <td>2011-12-09 10:26:00</td>\n",
              "      <td>10.79</td>\n",
              "      <td>NaN</td>\n",
              "      <td>United Kingdom</td>\n",
              "    </tr>\n",
              "    <tr>\n",
              "      <th>541540</th>\n",
              "      <td>581498</td>\n",
              "      <td>DOT</td>\n",
              "      <td>DOTCOM POSTAGE</td>\n",
              "      <td>1</td>\n",
              "      <td>2011-12-09 10:26:00</td>\n",
              "      <td>1714.17</td>\n",
              "      <td>NaN</td>\n",
              "      <td>United Kingdom</td>\n",
              "    </tr>\n",
              "  </tbody>\n",
              "</table>\n",
              "<p>135080 rows × 8 columns</p>\n",
              "</div>\n",
              "      <button class=\"colab-df-convert\" onclick=\"convertToInteractive('df-1508a279-4b11-46c3-b0b2-aa000e02f3ff')\"\n",
              "              title=\"Convert this dataframe to an interactive table.\"\n",
              "              style=\"display:none;\">\n",
              "        \n",
              "  <svg xmlns=\"http://www.w3.org/2000/svg\" height=\"24px\"viewBox=\"0 0 24 24\"\n",
              "       width=\"24px\">\n",
              "    <path d=\"M0 0h24v24H0V0z\" fill=\"none\"/>\n",
              "    <path d=\"M18.56 5.44l.94 2.06.94-2.06 2.06-.94-2.06-.94-.94-2.06-.94 2.06-2.06.94zm-11 1L8.5 8.5l.94-2.06 2.06-.94-2.06-.94L8.5 2.5l-.94 2.06-2.06.94zm10 10l.94 2.06.94-2.06 2.06-.94-2.06-.94-.94-2.06-.94 2.06-2.06.94z\"/><path d=\"M17.41 7.96l-1.37-1.37c-.4-.4-.92-.59-1.43-.59-.52 0-1.04.2-1.43.59L10.3 9.45l-7.72 7.72c-.78.78-.78 2.05 0 2.83L4 21.41c.39.39.9.59 1.41.59.51 0 1.02-.2 1.41-.59l7.78-7.78 2.81-2.81c.8-.78.8-2.07 0-2.86zM5.41 20L4 18.59l7.72-7.72 1.47 1.35L5.41 20z\"/>\n",
              "  </svg>\n",
              "      </button>\n",
              "      \n",
              "  <style>\n",
              "    .colab-df-container {\n",
              "      display:flex;\n",
              "      flex-wrap:wrap;\n",
              "      gap: 12px;\n",
              "    }\n",
              "\n",
              "    .colab-df-convert {\n",
              "      background-color: #E8F0FE;\n",
              "      border: none;\n",
              "      border-radius: 50%;\n",
              "      cursor: pointer;\n",
              "      display: none;\n",
              "      fill: #1967D2;\n",
              "      height: 32px;\n",
              "      padding: 0 0 0 0;\n",
              "      width: 32px;\n",
              "    }\n",
              "\n",
              "    .colab-df-convert:hover {\n",
              "      background-color: #E2EBFA;\n",
              "      box-shadow: 0px 1px 2px rgba(60, 64, 67, 0.3), 0px 1px 3px 1px rgba(60, 64, 67, 0.15);\n",
              "      fill: #174EA6;\n",
              "    }\n",
              "\n",
              "    [theme=dark] .colab-df-convert {\n",
              "      background-color: #3B4455;\n",
              "      fill: #D2E3FC;\n",
              "    }\n",
              "\n",
              "    [theme=dark] .colab-df-convert:hover {\n",
              "      background-color: #434B5C;\n",
              "      box-shadow: 0px 1px 3px 1px rgba(0, 0, 0, 0.15);\n",
              "      filter: drop-shadow(0px 1px 2px rgba(0, 0, 0, 0.3));\n",
              "      fill: #FFFFFF;\n",
              "    }\n",
              "  </style>\n",
              "\n",
              "      <script>\n",
              "        const buttonEl =\n",
              "          document.querySelector('#df-1508a279-4b11-46c3-b0b2-aa000e02f3ff button.colab-df-convert');\n",
              "        buttonEl.style.display =\n",
              "          google.colab.kernel.accessAllowed ? 'block' : 'none';\n",
              "\n",
              "        async function convertToInteractive(key) {\n",
              "          const element = document.querySelector('#df-1508a279-4b11-46c3-b0b2-aa000e02f3ff');\n",
              "          const dataTable =\n",
              "            await google.colab.kernel.invokeFunction('convertToInteractive',\n",
              "                                                     [key], {});\n",
              "          if (!dataTable) return;\n",
              "\n",
              "          const docLinkHtml = 'Like what you see? Visit the ' +\n",
              "            '<a target=\"_blank\" href=https://colab.research.google.com/notebooks/data_table.ipynb>data table notebook</a>'\n",
              "            + ' to learn more about interactive tables.';\n",
              "          element.innerHTML = '';\n",
              "          dataTable['output_type'] = 'display_data';\n",
              "          await google.colab.output.renderOutput(dataTable, element);\n",
              "          const docLink = document.createElement('div');\n",
              "          docLink.innerHTML = docLinkHtml;\n",
              "          element.appendChild(docLink);\n",
              "        }\n",
              "      </script>\n",
              "    </div>\n",
              "  </div>\n",
              "  "
            ]
          },
          "metadata": {},
          "execution_count": 15
        }
      ]
    },
    {
      "cell_type": "markdown",
      "source": [
        "Subset of data containing CustomerID as NaN value"
      ],
      "metadata": {
        "id": "dj7ilECBPJ0b"
      }
    },
    {
      "cell_type": "code",
      "source": [
        "# Droping rows having missing values\n",
        "df = df.dropna()\n",
        "df.shape"
      ],
      "metadata": {
        "colab": {
          "base_uri": "https://localhost:8080/"
        },
        "id": "kIDbeeJPbz05",
        "outputId": "89b45dbf-4f8d-46c5-a7ec-e89508197cd8"
      },
      "execution_count": 16,
      "outputs": [
        {
          "output_type": "execute_result",
          "data": {
            "text/plain": [
              "(406829, 8)"
            ]
          },
          "metadata": {},
          "execution_count": 16
        }
      ]
    },
    {
      "cell_type": "code",
      "source": [
        "# Changing the datatype of Customer Id as per Business understanding\n",
        "\n",
        "df['CustomerID'] = df['CustomerID'].astype(str)"
      ],
      "metadata": {
        "id": "AAwz3sxWdcGw"
      },
      "execution_count": 17,
      "outputs": []
    },
    {
      "cell_type": "markdown",
      "source": [
        "#**Data Visualization**"
      ],
      "metadata": {
        "id": "UKh_Ax_op9Dd"
      }
    },
    {
      "cell_type": "code",
      "source": [
        "#Country Distribution\n",
        "plt.figure(figsize=(12,5))\n",
        "sns.countplot(df['Country'],palette= 'Set3')\n",
        "plt.xticks(rotation=40,ha='right')\n",
        "plt.title(\"Country Distribution\")\n",
        "plt.xlabel('Country')\n",
        "plt.ylabel('Count');"
      ],
      "metadata": {
        "id": "4gFafGh6qDTt",
        "colab": {
          "base_uri": "https://localhost:8080/",
          "height": 417
        },
        "outputId": "5f96a47f-793f-4444-8fde-b9d0f268470b"
      },
      "execution_count": 18,
      "outputs": [
        {
          "output_type": "display_data",
          "data": {
            "text/plain": [
              "<Figure size 864x360 with 1 Axes>"
            ],
            "image/png": "[encoded data removed]"
          },
          "metadata": {
            "needs_background": "light"
          }
        }
      ]
    },
    {
      "cell_type": "markdown",
      "source": [
        "Large number of the customers are from UK."
      ],
      "metadata": {
        "id": "h0CJwPpoqHsN"
      }
    },
    {
      "cell_type": "code",
      "source": [
        "#Yearwise Distribution\n",
        "plt.figure(figsize=(8,5))\n",
        "sns.countplot(df['InvoiceDate'].dt.year,palette= 'Set1')\n",
        "plt.xticks(rotation=40,ha='right')\n",
        "plt.title(\"Year Distribution\")\n",
        "plt.xlabel('Year')\n",
        "plt.ylabel('Count');"
      ],
      "metadata": {
        "id": "toPZGXrkqEpr",
        "colab": {
          "base_uri": "https://localhost:8080/",
          "height": 364
        },
        "outputId": "239d182c-9fcf-45b1-f5a5-64cdbbcbe79d"
      },
      "execution_count": 19,
      "outputs": [
        {
          "output_type": "display_data",
          "data": {
            "text/plain": [
              "<Figure size 576x360 with 1 Axes>"
            ],
            "image/png": "[encoded data removed]"
          },
          "metadata": {
            "needs_background": "light"
          }
        }
      ]
    },
    {
      "cell_type": "markdown",
      "source": [
        "As we can see more transaction is seen in 2011."
      ],
      "metadata": {
        "id": "sZ8j_BHhqPWb"
      }
    },
    {
      "cell_type": "code",
      "source": [
        "#Month Distribution\n",
        "plt.figure(figsize=(8,5))\n",
        "sns.countplot(df['InvoiceDate'].dt.month_name(),palette= 'Spectral')\n",
        "plt.xticks(rotation=40,ha='right')\n",
        "plt.title(\"Month Distribution\")\n",
        "plt.xlabel('Month')\n",
        "plt.ylabel('Count');"
      ],
      "metadata": {
        "id": "PJoA5UwfqS3Q",
        "colab": {
          "base_uri": "https://localhost:8080/",
          "height": 383
        },
        "outputId": "6e229862-1126-4fbd-8c09-c7cd289d760a"
      },
      "execution_count": 20,
      "outputs": [
        {
          "output_type": "display_data",
          "data": {
            "text/plain": [
              "<Figure size 576x360 with 1 Axes>"
            ],
            "image/png": "[encoded data removed]"
          },
          "metadata": {
            "needs_background": "light"
          }
        }
      ]
    },
    {
      "cell_type": "markdown",
      "source": [
        "Year ends show more transaction with November being the highest."
      ],
      "metadata": {
        "id": "bXCEhHROqV-3"
      }
    },
    {
      "cell_type": "code",
      "source": [
        "#Week Distribution\n",
        "plt.figure(figsize=(8,5))\n",
        "sns.countplot(df['InvoiceDate'].dt.day_name(),palette= 'Set1')\n",
        "plt.xticks(rotation=40,ha='right')\n",
        "plt.title(\"Week Distribution\")\n",
        "plt.xlabel('Week')\n",
        "plt.ylabel('Count');"
      ],
      "metadata": {
        "id": "fPm74uPBqZmi",
        "colab": {
          "base_uri": "https://localhost:8080/",
          "height": 385
        },
        "outputId": "8441717c-b782-4e9b-9512-a71ba939c9c8"
      },
      "execution_count": 21,
      "outputs": [
        {
          "output_type": "display_data",
          "data": {
            "text/plain": [
              "<Figure size 576x360 with 1 Axes>"
            ],
            "image/png": "[encoded data removed]"
          },
          "metadata": {
            "needs_background": "light"
          }
        }
      ]
    },
    {
      "cell_type": "markdown",
      "source": [
        "Thursdays have shown more transactions and Fridays the lowest. No transactions on Saturdays."
      ],
      "metadata": {
        "id": "e8a0HWjCqdYd"
      }
    },
    {
      "cell_type": "markdown",
      "source": [
        "**Top 10 ordering countries**"
      ],
      "metadata": {
        "id": "vjhBm_OOqi5w"
      }
    },
    {
      "cell_type": "code",
      "source": [
        "#Barplot of Country\n",
        "df.Country.value_counts().head(10).plot.bar(figsize=(8,5))"
      ],
      "metadata": {
        "id": "3Alf1m5aqdDQ",
        "colab": {
          "base_uri": "https://localhost:8080/",
          "height": 407
        },
        "outputId": "27069467-2e98-4823-d595-37b99752cbe8"
      },
      "execution_count": 22,
      "outputs": [
        {
          "output_type": "execute_result",
          "data": {
            "text/plain": [
              "<matplotlib.axes._subplots.AxesSubplot at 0x7fc219aeb510>"
            ]
          },
          "metadata": {},
          "execution_count": 22
        },
        {
          "output_type": "display_data",
          "data": {
            "text/plain": [
              "<Figure size 576x360 with 1 Axes>"
            ],
            "image/png": "[encoded data removed]"
          },
          "metadata": {
            "needs_background": "light"
          }
        }
      ]
    },
    {
      "cell_type": "markdown",
      "source": [
        "**Unique customers and order share of top customers**"
      ],
      "metadata": {
        "id": "dXAnR6XiqrV1"
      }
    },
    {
      "cell_type": "code",
      "source": [
        "len(df.CustomerID.unique())"
      ],
      "metadata": {
        "id": "ak1a6KX0qv15",
        "colab": {
          "base_uri": "https://localhost:8080/"
        },
        "outputId": "5248416e-2007-4509-b05d-536eac579ac9"
      },
      "execution_count": 23,
      "outputs": [
        {
          "output_type": "execute_result",
          "data": {
            "text/plain": [
              "4372"
            ]
          },
          "metadata": {},
          "execution_count": 23
        }
      ]
    },
    {
      "cell_type": "markdown",
      "source": [
        "There are 4373 unique customer records in the dataset."
      ],
      "metadata": {
        "id": "RZcq03MvqyV5"
      }
    },
    {
      "cell_type": "markdown",
      "source": [
        "**Unique item stock codes and their description**"
      ],
      "metadata": {
        "id": "p848bAjsq33z"
      }
    },
    {
      "cell_type": "code",
      "source": [
        "#Find number of unique items in stock\n",
        "print(f\"Number of unique item stock codes: {len(df.StockCode.unique())}\")\n",
        "print(f\"Number of unique item descriptions: {len(df.Description.unique())}\")"
      ],
      "metadata": {
        "id": "OwHhn3F9rCwB",
        "colab": {
          "base_uri": "https://localhost:8080/"
        },
        "outputId": "b496f8b8-3337-45f6-f7f3-9c64f3141910"
      },
      "execution_count": 24,
      "outputs": [
        {
          "output_type": "stream",
          "name": "stdout",
          "text": [
            "Number of unique item stock codes: 3684\n",
            "Number of unique item descriptions: 3896\n"
          ]
        }
      ]
    },
    {
      "cell_type": "markdown",
      "source": [
        "The count of unique stock unit ids and their descriptions should have matched but they do not. This implies some stock units might have more than one descriptions."
      ],
      "metadata": {
        "id": "W269XlPjrIYA"
      }
    },
    {
      "cell_type": "markdown",
      "source": [
        "**Exploring Quantity and Unit Price fields**"
      ],
      "metadata": {
        "id": "kU6Lv4LurKNZ"
      }
    },
    {
      "cell_type": "code",
      "source": [
        "#Descriptive summary of Quantity \n",
        "df.Quantity.describe()"
      ],
      "metadata": {
        "id": "BuQmAKvGrUhH",
        "colab": {
          "base_uri": "https://localhost:8080/"
        },
        "outputId": "f284b881-99b1-49d8-863b-a05fd62ec0c1"
      },
      "execution_count": 25,
      "outputs": [
        {
          "output_type": "execute_result",
          "data": {
            "text/plain": [
              "count    406829.000000\n",
              "mean         12.061303\n",
              "std         248.693370\n",
              "min      -80995.000000\n",
              "25%           2.000000\n",
              "50%           5.000000\n",
              "75%          12.000000\n",
              "max       80995.000000\n",
              "Name: Quantity, dtype: float64"
            ]
          },
          "metadata": {},
          "execution_count": 25
        }
      ]
    },
    {
      "cell_type": "markdown",
      "source": [
        "We see 10 goods being sold on an average with a standard deviation of around 200. Also, the minimum quantity includes a negative value, this implies that the dataset includes returned items as well, a common scenario in retail domain."
      ],
      "metadata": {
        "id": "LfwXxQhtrZHw"
      }
    },
    {
      "cell_type": "code",
      "source": [
        "#Descriptive summary of UnitPrice\n",
        "df.UnitPrice.describe()"
      ],
      "metadata": {
        "id": "W1l-NfPkrehP",
        "colab": {
          "base_uri": "https://localhost:8080/"
        },
        "outputId": "2dabf8fa-d7eb-45fa-c788-93dd3a5b55e7"
      },
      "execution_count": 26,
      "outputs": [
        {
          "output_type": "execute_result",
          "data": {
            "text/plain": [
              "count    406829.000000\n",
              "mean          3.460471\n",
              "std          69.315162\n",
              "min           0.000000\n",
              "25%           1.250000\n",
              "50%           1.950000\n",
              "75%           3.750000\n",
              "max       38970.000000\n",
              "Name: UnitPrice, dtype: float64"
            ]
          },
          "metadata": {},
          "execution_count": 26
        }
      ]
    },
    {
      "cell_type": "markdown",
      "source": [
        "The unit price field echoes the similar observations as Quantity variable."
      ],
      "metadata": {
        "id": "1odDLygvrqPR"
      }
    },
    {
      "cell_type": "markdown",
      "source": [
        "#**Data Preparation**"
      ],
      "metadata": {
        "id": "4enxyoRC-dHs"
      }
    },
    {
      "cell_type": "markdown",
      "source": [
        "We are going to analysis the Customers based on below 3 factors:\n",
        "\n",
        "R (Recency): Number of days since last purchase\n",
        "\n",
        "F (Frequency): Number of transactions\n",
        "\n",
        "M (Monetary): Total Amount of transactions (revenue contributed)"
      ],
      "metadata": {
        "id": "7Z8aqgyz-iQm"
      }
    },
    {
      "cell_type": "code",
      "source": [
        "#New Attribute : Monetary\n",
        "df['Amount'] = df['Quantity']*df['UnitPrice']\n",
        "rfm_m = df.groupby('CustomerID')['Amount'].sum()\n",
        "rfm_m = rfm_m.reset_index()\n",
        "rfm_m.head()"
      ],
      "metadata": {
        "colab": {
          "base_uri": "https://localhost:8080/",
          "height": 206
        },
        "id": "k1x-W6ZN-l39",
        "outputId": "a5750e1f-fa71-4fe9-e42b-63b2b2cab7c6"
      },
      "execution_count": 27,
      "outputs": [
        {
          "output_type": "execute_result",
          "data": {
            "text/plain": [
              "  CustomerID   Amount\n",
              "0    12346.0     0.00\n",
              "1    12347.0  4310.00\n",
              "2    12348.0  1797.24\n",
              "3    12349.0  1757.55\n",
              "4    12350.0   334.40"
            ],
            "text/html": [
              "\n",
              "  <div id=\"df-13596ed2-5803-44c6-9c4e-10141b8298fc\">\n",
              "    <div class=\"colab-df-container\">\n",
              "      <div>\n",
              "<style scoped>\n",
              "    .dataframe tbody tr th:only-of-type {\n",
              "        vertical-align: middle;\n",
              "    }\n",
              "\n",
              "    .dataframe tbody tr th {\n",
              "        vertical-align: top;\n",
              "    }\n",
              "\n",
              "    .dataframe thead th {\n",
              "        text-align: right;\n",
              "    }\n",
              "</style>\n",
              "<table border=\"1\" class=\"dataframe\">\n",
              "  <thead>\n",
              "    <tr style=\"text-align: right;\">\n",
              "      <th></th>\n",
              "      <th>CustomerID</th>\n",
              "      <th>Amount</th>\n",
              "    </tr>\n",
              "  </thead>\n",
              "  <tbody>\n",
              "    <tr>\n",
              "      <th>0</th>\n",
              "      <td>12346.0</td>\n",
              "      <td>0.00</td>\n",
              "    </tr>\n",
              "    <tr>\n",
              "      <th>1</th>\n",
              "      <td>12347.0</td>\n",
              "      <td>4310.00</td>\n",
              "    </tr>\n",
              "    <tr>\n",
              "      <th>2</th>\n",
              "      <td>12348.0</td>\n",
              "      <td>1797.24</td>\n",
              "    </tr>\n",
              "    <tr>\n",
              "      <th>3</th>\n",
              "      <td>12349.0</td>\n",
              "      <td>1757.55</td>\n",
              "    </tr>\n",
              "    <tr>\n",
              "      <th>4</th>\n",
              "      <td>12350.0</td>\n",
              "      <td>334.40</td>\n",
              "    </tr>\n",
              "  </tbody>\n",
              "</table>\n",
              "</div>\n",
              "      <button class=\"colab-df-convert\" onclick=\"convertToInteractive('df-13596ed2-5803-44c6-9c4e-10141b8298fc')\"\n",
              "              title=\"Convert this dataframe to an interactive table.\"\n",
              "              style=\"display:none;\">\n",
              "        \n",
              "  <svg xmlns=\"http://www.w3.org/2000/svg\" height=\"24px\"viewBox=\"0 0 24 24\"\n",
              "       width=\"24px\">\n",
              "    <path d=\"M0 0h24v24H0V0z\" fill=\"none\"/>\n",
              "    <path d=\"M18.56 5.44l.94 2.06.94-2.06 2.06-.94-2.06-.94-.94-2.06-.94 2.06-2.06.94zm-11 1L8.5 8.5l.94-2.06 2.06-.94-2.06-.94L8.5 2.5l-.94 2.06-2.06.94zm10 10l.94 2.06.94-2.06 2.06-.94-2.06-.94-.94-2.06-.94 2.06-2.06.94z\"/><path d=\"M17.41 7.96l-1.37-1.37c-.4-.4-.92-.59-1.43-.59-.52 0-1.04.2-1.43.59L10.3 9.45l-7.72 7.72c-.78.78-.78 2.05 0 2.83L4 21.41c.39.39.9.59 1.41.59.51 0 1.02-.2 1.41-.59l7.78-7.78 2.81-2.81c.8-.78.8-2.07 0-2.86zM5.41 20L4 18.59l7.72-7.72 1.47 1.35L5.41 20z\"/>\n",
              "  </svg>\n",
              "      </button>\n",
              "      \n",
              "  <style>\n",
              "    .colab-df-container {\n",
              "      display:flex;\n",
              "      flex-wrap:wrap;\n",
              "      gap: 12px;\n",
              "    }\n",
              "\n",
              "    .colab-df-convert {\n",
              "      background-color: #E8F0FE;\n",
              "      border: none;\n",
              "      border-radius: 50%;\n",
              "      cursor: pointer;\n",
              "      display: none;\n",
              "      fill: #1967D2;\n",
              "      height: 32px;\n",
              "      padding: 0 0 0 0;\n",
              "      width: 32px;\n",
              "    }\n",
              "\n",
              "    .colab-df-convert:hover {\n",
              "      background-color: #E2EBFA;\n",
              "      box-shadow: 0px 1px 2px rgba(60, 64, 67, 0.3), 0px 1px 3px 1px rgba(60, 64, 67, 0.15);\n",
              "      fill: #174EA6;\n",
              "    }\n",
              "\n",
              "    [theme=dark] .colab-df-convert {\n",
              "      background-color: #3B4455;\n",
              "      fill: #D2E3FC;\n",
              "    }\n",
              "\n",
              "    [theme=dark] .colab-df-convert:hover {\n",
              "      background-color: #434B5C;\n",
              "      box-shadow: 0px 1px 3px 1px rgba(0, 0, 0, 0.15);\n",
              "      filter: drop-shadow(0px 1px 2px rgba(0, 0, 0, 0.3));\n",
              "      fill: #FFFFFF;\n",
              "    }\n",
              "  </style>\n",
              "\n",
              "      <script>\n",
              "        const buttonEl =\n",
              "          document.querySelector('#df-13596ed2-5803-44c6-9c4e-10141b8298fc button.colab-df-convert');\n",
              "        buttonEl.style.display =\n",
              "          google.colab.kernel.accessAllowed ? 'block' : 'none';\n",
              "\n",
              "        async function convertToInteractive(key) {\n",
              "          const element = document.querySelector('#df-13596ed2-5803-44c6-9c4e-10141b8298fc');\n",
              "          const dataTable =\n",
              "            await google.colab.kernel.invokeFunction('convertToInteractive',\n",
              "                                                     [key], {});\n",
              "          if (!dataTable) return;\n",
              "\n",
              "          const docLinkHtml = 'Like what you see? Visit the ' +\n",
              "            '<a target=\"_blank\" href=https://colab.research.google.com/notebooks/data_table.ipynb>data table notebook</a>'\n",
              "            + ' to learn more about interactive tables.';\n",
              "          element.innerHTML = '';\n",
              "          dataTable['output_type'] = 'display_data';\n",
              "          await google.colab.output.renderOutput(dataTable, element);\n",
              "          const docLink = document.createElement('div');\n",
              "          docLink.innerHTML = docLinkHtml;\n",
              "          element.appendChild(docLink);\n",
              "        }\n",
              "      </script>\n",
              "    </div>\n",
              "  </div>\n",
              "  "
            ]
          },
          "metadata": {},
          "execution_count": 27
        }
      ]
    },
    {
      "cell_type": "code",
      "source": [
        "# New Attribute : Frequency\n",
        "rfm_f = df.groupby('CustomerID')['InvoiceNo'].count()\n",
        "rfm_f = rfm_f.reset_index()\n",
        "rfm_f.columns = ['CustomerID', 'Frequency']\n",
        "rfm_f.head()"
      ],
      "metadata": {
        "colab": {
          "base_uri": "https://localhost:8080/",
          "height": 206
        },
        "id": "wGNRio2f-mZe",
        "outputId": "32554578-3ba3-4e19-f14d-1e8c64c9c2ca"
      },
      "execution_count": 28,
      "outputs": [
        {
          "output_type": "execute_result",
          "data": {
            "text/plain": [
              "  CustomerID  Frequency\n",
              "0    12346.0          2\n",
              "1    12347.0        182\n",
              "2    12348.0         31\n",
              "3    12349.0         73\n",
              "4    12350.0         17"
            ],
            "text/html": [
              "\n",
              "  <div id=\"df-8baf230f-0cb9-46b3-80a3-204894e279d2\">\n",
              "    <div class=\"colab-df-container\">\n",
              "      <div>\n",
              "<style scoped>\n",
              "    .dataframe tbody tr th:only-of-type {\n",
              "        vertical-align: middle;\n",
              "    }\n",
              "\n",
              "    .dataframe tbody tr th {\n",
              "        vertical-align: top;\n",
              "    }\n",
              "\n",
              "    .dataframe thead th {\n",
              "        text-align: right;\n",
              "    }\n",
              "</style>\n",
              "<table border=\"1\" class=\"dataframe\">\n",
              "  <thead>\n",
              "    <tr style=\"text-align: right;\">\n",
              "      <th></th>\n",
              "      <th>CustomerID</th>\n",
              "      <th>Frequency</th>\n",
              "    </tr>\n",
              "  </thead>\n",
              "  <tbody>\n",
              "    <tr>\n",
              "      <th>0</th>\n",
              "      <td>12346.0</td>\n",
              "      <td>2</td>\n",
              "    </tr>\n",
              "    <tr>\n",
              "      <th>1</th>\n",
              "      <td>12347.0</td>\n",
              "      <td>182</td>\n",
              "    </tr>\n",
              "    <tr>\n",
              "      <th>2</th>\n",
              "      <td>12348.0</td>\n",
              "      <td>31</td>\n",
              "    </tr>\n",
              "    <tr>\n",
              "      <th>3</th>\n",
              "      <td>12349.0</td>\n",
              "      <td>73</td>\n",
              "    </tr>\n",
              "    <tr>\n",
              "      <th>4</th>\n",
              "      <td>12350.0</td>\n",
              "      <td>17</td>\n",
              "    </tr>\n",
              "  </tbody>\n",
              "</table>\n",
              "</div>\n",
              "      <button class=\"colab-df-convert\" onclick=\"convertToInteractive('df-8baf230f-0cb9-46b3-80a3-204894e279d2')\"\n",
              "              title=\"Convert this dataframe to an interactive table.\"\n",
              "              style=\"display:none;\">\n",
              "        \n",
              "  <svg xmlns=\"http://www.w3.org/2000/svg\" height=\"24px\"viewBox=\"0 0 24 24\"\n",
              "       width=\"24px\">\n",
              "    <path d=\"M0 0h24v24H0V0z\" fill=\"none\"/>\n",
              "    <path d=\"M18.56 5.44l.94 2.06.94-2.06 2.06-.94-2.06-.94-.94-2.06-.94 2.06-2.06.94zm-11 1L8.5 8.5l.94-2.06 2.06-.94-2.06-.94L8.5 2.5l-.94 2.06-2.06.94zm10 10l.94 2.06.94-2.06 2.06-.94-2.06-.94-.94-2.06-.94 2.06-2.06.94z\"/><path d=\"M17.41 7.96l-1.37-1.37c-.4-.4-.92-.59-1.43-.59-.52 0-1.04.2-1.43.59L10.3 9.45l-7.72 7.72c-.78.78-.78 2.05 0 2.83L4 21.41c.39.39.9.59 1.41.59.51 0 1.02-.2 1.41-.59l7.78-7.78 2.81-2.81c.8-.78.8-2.07 0-2.86zM5.41 20L4 18.59l7.72-7.72 1.47 1.35L5.41 20z\"/>\n",
              "  </svg>\n",
              "      </button>\n",
              "      \n",
              "  <style>\n",
              "    .colab-df-container {\n",
              "      display:flex;\n",
              "      flex-wrap:wrap;\n",
              "      gap: 12px;\n",
              "    }\n",
              "\n",
              "    .colab-df-convert {\n",
              "      background-color: #E8F0FE;\n",
              "      border: none;\n",
              "      border-radius: 50%;\n",
              "      cursor: pointer;\n",
              "      display: none;\n",
              "      fill: #1967D2;\n",
              "      height: 32px;\n",
              "      padding: 0 0 0 0;\n",
              "      width: 32px;\n",
              "    }\n",
              "\n",
              "    .colab-df-convert:hover {\n",
              "      background-color: #E2EBFA;\n",
              "      box-shadow: 0px 1px 2px rgba(60, 64, 67, 0.3), 0px 1px 3px 1px rgba(60, 64, 67, 0.15);\n",
              "      fill: #174EA6;\n",
              "    }\n",
              "\n",
              "    [theme=dark] .colab-df-convert {\n",
              "      background-color: #3B4455;\n",
              "      fill: #D2E3FC;\n",
              "    }\n",
              "\n",
              "    [theme=dark] .colab-df-convert:hover {\n",
              "      background-color: #434B5C;\n",
              "      box-shadow: 0px 1px 3px 1px rgba(0, 0, 0, 0.15);\n",
              "      filter: drop-shadow(0px 1px 2px rgba(0, 0, 0, 0.3));\n",
              "      fill: #FFFFFF;\n",
              "    }\n",
              "  </style>\n",
              "\n",
              "      <script>\n",
              "        const buttonEl =\n",
              "          document.querySelector('#df-8baf230f-0cb9-46b3-80a3-204894e279d2 button.colab-df-convert');\n",
              "        buttonEl.style.display =\n",
              "          google.colab.kernel.accessAllowed ? 'block' : 'none';\n",
              "\n",
              "        async function convertToInteractive(key) {\n",
              "          const element = document.querySelector('#df-8baf230f-0cb9-46b3-80a3-204894e279d2');\n",
              "          const dataTable =\n",
              "            await google.colab.kernel.invokeFunction('convertToInteractive',\n",
              "                                                     [key], {});\n",
              "          if (!dataTable) return;\n",
              "\n",
              "          const docLinkHtml = 'Like what you see? Visit the ' +\n",
              "            '<a target=\"_blank\" href=https://colab.research.google.com/notebooks/data_table.ipynb>data table notebook</a>'\n",
              "            + ' to learn more about interactive tables.';\n",
              "          element.innerHTML = '';\n",
              "          dataTable['output_type'] = 'display_data';\n",
              "          await google.colab.output.renderOutput(dataTable, element);\n",
              "          const docLink = document.createElement('div');\n",
              "          docLink.innerHTML = docLinkHtml;\n",
              "          element.appendChild(docLink);\n",
              "        }\n",
              "      </script>\n",
              "    </div>\n",
              "  </div>\n",
              "  "
            ]
          },
          "metadata": {},
          "execution_count": 28
        }
      ]
    },
    {
      "cell_type": "code",
      "source": [
        "# Merging the two dfs\n",
        "rfm = pd.merge(rfm_m, rfm_f, on='CustomerID', how='inner')   \n",
        "#inner: use intersection of keys from both frames, similar to a SQL innerjoin; preserve the order of the left keys\n",
        "rfm.head()"
      ],
      "metadata": {
        "colab": {
          "base_uri": "https://localhost:8080/",
          "height": 206
        },
        "id": "cVNUDQvQ-skj",
        "outputId": "2b3b30fe-6836-41f6-8ba0-5cbf4a9eaf4e"
      },
      "execution_count": 29,
      "outputs": [
        {
          "output_type": "execute_result",
          "data": {
            "text/plain": [
              "  CustomerID   Amount  Frequency\n",
              "0    12346.0     0.00          2\n",
              "1    12347.0  4310.00        182\n",
              "2    12348.0  1797.24         31\n",
              "3    12349.0  1757.55         73\n",
              "4    12350.0   334.40         17"
            ],
            "text/html": [
              "\n",
              "  <div id=\"df-ca01345e-0e0a-405a-90e4-6120092d0094\">\n",
              "    <div class=\"colab-df-container\">\n",
              "      <div>\n",
              "<style scoped>\n",
              "    .dataframe tbody tr th:only-of-type {\n",
              "        vertical-align: middle;\n",
              "    }\n",
              "\n",
              "    .dataframe tbody tr th {\n",
              "        vertical-align: top;\n",
              "    }\n",
              "\n",
              "    .dataframe thead th {\n",
              "        text-align: right;\n",
              "    }\n",
              "</style>\n",
              "<table border=\"1\" class=\"dataframe\">\n",
              "  <thead>\n",
              "    <tr style=\"text-align: right;\">\n",
              "      <th></th>\n",
              "      <th>CustomerID</th>\n",
              "      <th>Amount</th>\n",
              "      <th>Frequency</th>\n",
              "    </tr>\n",
              "  </thead>\n",
              "  <tbody>\n",
              "    <tr>\n",
              "      <th>0</th>\n",
              "      <td>12346.0</td>\n",
              "      <td>0.00</td>\n",
              "      <td>2</td>\n",
              "    </tr>\n",
              "    <tr>\n",
              "      <th>1</th>\n",
              "      <td>12347.0</td>\n",
              "      <td>4310.00</td>\n",
              "      <td>182</td>\n",
              "    </tr>\n",
              "    <tr>\n",
              "      <th>2</th>\n",
              "      <td>12348.0</td>\n",
              "      <td>1797.24</td>\n",
              "      <td>31</td>\n",
              "    </tr>\n",
              "    <tr>\n",
              "      <th>3</th>\n",
              "      <td>12349.0</td>\n",
              "      <td>1757.55</td>\n",
              "      <td>73</td>\n",
              "    </tr>\n",
              "    <tr>\n",
              "      <th>4</th>\n",
              "      <td>12350.0</td>\n",
              "      <td>334.40</td>\n",
              "      <td>17</td>\n",
              "    </tr>\n",
              "  </tbody>\n",
              "</table>\n",
              "</div>\n",
              "      <button class=\"colab-df-convert\" onclick=\"convertToInteractive('df-ca01345e-0e0a-405a-90e4-6120092d0094')\"\n",
              "              title=\"Convert this dataframe to an interactive table.\"\n",
              "              style=\"display:none;\">\n",
              "        \n",
              "  <svg xmlns=\"http://www.w3.org/2000/svg\" height=\"24px\"viewBox=\"0 0 24 24\"\n",
              "       width=\"24px\">\n",
              "    <path d=\"M0 0h24v24H0V0z\" fill=\"none\"/>\n",
              "    <path d=\"M18.56 5.44l.94 2.06.94-2.06 2.06-.94-2.06-.94-.94-2.06-.94 2.06-2.06.94zm-11 1L8.5 8.5l.94-2.06 2.06-.94-2.06-.94L8.5 2.5l-.94 2.06-2.06.94zm10 10l.94 2.06.94-2.06 2.06-.94-2.06-.94-.94-2.06-.94 2.06-2.06.94z\"/><path d=\"M17.41 7.96l-1.37-1.37c-.4-.4-.92-.59-1.43-.59-.52 0-1.04.2-1.43.59L10.3 9.45l-7.72 7.72c-.78.78-.78 2.05 0 2.83L4 21.41c.39.39.9.59 1.41.59.51 0 1.02-.2 1.41-.59l7.78-7.78 2.81-2.81c.8-.78.8-2.07 0-2.86zM5.41 20L4 18.59l7.72-7.72 1.47 1.35L5.41 20z\"/>\n",
              "  </svg>\n",
              "      </button>\n",
              "      \n",
              "  <style>\n",
              "    .colab-df-container {\n",
              "      display:flex;\n",
              "      flex-wrap:wrap;\n",
              "      gap: 12px;\n",
              "    }\n",
              "\n",
              "    .colab-df-convert {\n",
              "      background-color: #E8F0FE;\n",
              "      border: none;\n",
              "      border-radius: 50%;\n",
              "      cursor: pointer;\n",
              "      display: none;\n",
              "      fill: #1967D2;\n",
              "      height: 32px;\n",
              "      padding: 0 0 0 0;\n",
              "      width: 32px;\n",
              "    }\n",
              "\n",
              "    .colab-df-convert:hover {\n",
              "      background-color: #E2EBFA;\n",
              "      box-shadow: 0px 1px 2px rgba(60, 64, 67, 0.3), 0px 1px 3px 1px rgba(60, 64, 67, 0.15);\n",
              "      fill: #174EA6;\n",
              "    }\n",
              "\n",
              "    [theme=dark] .colab-df-convert {\n",
              "      background-color: #3B4455;\n",
              "      fill: #D2E3FC;\n",
              "    }\n",
              "\n",
              "    [theme=dark] .colab-df-convert:hover {\n",
              "      background-color: #434B5C;\n",
              "      box-shadow: 0px 1px 3px 1px rgba(0, 0, 0, 0.15);\n",
              "      filter: drop-shadow(0px 1px 2px rgba(0, 0, 0, 0.3));\n",
              "      fill: #FFFFFF;\n",
              "    }\n",
              "  </style>\n",
              "\n",
              "      <script>\n",
              "        const buttonEl =\n",
              "          document.querySelector('#df-ca01345e-0e0a-405a-90e4-6120092d0094 button.colab-df-convert');\n",
              "        buttonEl.style.display =\n",
              "          google.colab.kernel.accessAllowed ? 'block' : 'none';\n",
              "\n",
              "        async function convertToInteractive(key) {\n",
              "          const element = document.querySelector('#df-ca01345e-0e0a-405a-90e4-6120092d0094');\n",
              "          const dataTable =\n",
              "            await google.colab.kernel.invokeFunction('convertToInteractive',\n",
              "                                                     [key], {});\n",
              "          if (!dataTable) return;\n",
              "\n",
              "          const docLinkHtml = 'Like what you see? Visit the ' +\n",
              "            '<a target=\"_blank\" href=https://colab.research.google.com/notebooks/data_table.ipynb>data table notebook</a>'\n",
              "            + ' to learn more about interactive tables.';\n",
              "          element.innerHTML = '';\n",
              "          dataTable['output_type'] = 'display_data';\n",
              "          await google.colab.output.renderOutput(dataTable, element);\n",
              "          const docLink = document.createElement('div');\n",
              "          docLink.innerHTML = docLinkHtml;\n",
              "          element.appendChild(docLink);\n",
              "        }\n",
              "      </script>\n",
              "    </div>\n",
              "  </div>\n",
              "  "
            ]
          },
          "metadata": {},
          "execution_count": 29
        }
      ]
    },
    {
      "cell_type": "code",
      "source": [
        "# New Attribute : Recency\n",
        "# Convert to datetime to proper datatype\n",
        "df['InvoiceDate'] = pd.to_datetime(df['InvoiceDate'],format='%d-%m-%Y %H:%M')"
      ],
      "metadata": {
        "id": "jMTQbuqP-wkW"
      },
      "execution_count": 30,
      "outputs": []
    },
    {
      "cell_type": "code",
      "source": [
        "# Compute the maximum date to know the last transaction date\n",
        "max_date = max(df['InvoiceDate'])\n",
        "max_date"
      ],
      "metadata": {
        "colab": {
          "base_uri": "https://localhost:8080/"
        },
        "id": "aFnaGlm_-zIP",
        "outputId": "94ad6cf1-b613-4c7a-b598-bf8067560320"
      },
      "execution_count": 31,
      "outputs": [
        {
          "output_type": "execute_result",
          "data": {
            "text/plain": [
              "Timestamp('2011-12-09 12:50:00')"
            ]
          },
          "metadata": {},
          "execution_count": 31
        }
      ]
    },
    {
      "cell_type": "code",
      "source": [
        "# Compute the difference between max date and transaction date\n",
        "df['Diff'] = max_date - df['InvoiceDate']\n",
        "df.head()"
      ],
      "metadata": {
        "colab": {
          "base_uri": "https://localhost:8080/",
          "height": 206
        },
        "id": "QKapX-2C-2CW",
        "outputId": "f6e21cb6-7965-4fbc-f0d9-ff1542295c96"
      },
      "execution_count": 32,
      "outputs": [
        {
          "output_type": "execute_result",
          "data": {
            "text/plain": [
              "  InvoiceNo StockCode                          Description  Quantity  \\\n",
              "0    536365    85123A   WHITE HANGING HEART T-LIGHT HOLDER         6   \n",
              "1    536365     71053                  WHITE METAL LANTERN         6   \n",
              "2    536365    84406B       CREAM CUPID HEARTS COAT HANGER         8   \n",
              "3    536365    84029G  KNITTED UNION FLAG HOT WATER BOTTLE         6   \n",
              "4    536365    84029E       RED WOOLLY HOTTIE WHITE HEART.         6   \n",
              "\n",
              "          InvoiceDate  UnitPrice CustomerID         Country  Amount  \\\n",
              "0 2010-12-01 08:26:00       2.55    17850.0  United Kingdom   15.30   \n",
              "1 2010-12-01 08:26:00       3.39    17850.0  United Kingdom   20.34   \n",
              "2 2010-12-01 08:26:00       2.75    17850.0  United Kingdom   22.00   \n",
              "3 2010-12-01 08:26:00       3.39    17850.0  United Kingdom   20.34   \n",
              "4 2010-12-01 08:26:00       3.39    17850.0  United Kingdom   20.34   \n",
              "\n",
              "               Diff  \n",
              "0 373 days 04:24:00  \n",
              "1 373 days 04:24:00  \n",
              "2 373 days 04:24:00  \n",
              "3 373 days 04:24:00  \n",
              "4 373 days 04:24:00  "
            ],
            "text/html": [
              "\n",
              "  <div id=\"df-3470a620-1843-4ebf-9e9f-4fbdadba7854\">\n",
              "    <div class=\"colab-df-container\">\n",
              "      <div>\n",
              "<style scoped>\n",
              "    .dataframe tbody tr th:only-of-type {\n",
              "        vertical-align: middle;\n",
              "    }\n",
              "\n",
              "    .dataframe tbody tr th {\n",
              "        vertical-align: top;\n",
              "    }\n",
              "\n",
              "    .dataframe thead th {\n",
              "        text-align: right;\n",
              "    }\n",
              "</style>\n",
              "<table border=\"1\" class=\"dataframe\">\n",
              "  <thead>\n",
              "    <tr style=\"text-align: right;\">\n",
              "      <th></th>\n",
              "      <th>InvoiceNo</th>\n",
              "      <th>StockCode</th>\n",
              "      <th>Description</th>\n",
              "      <th>Quantity</th>\n",
              "      <th>InvoiceDate</th>\n",
              "      <th>UnitPrice</th>\n",
              "      <th>CustomerID</th>\n",
              "      <th>Country</th>\n",
              "      <th>Amount</th>\n",
              "      <th>Diff</th>\n",
              "    </tr>\n",
              "  </thead>\n",
              "  <tbody>\n",
              "    <tr>\n",
              "      <th>0</th>\n",
              "      <td>536365</td>\n",
              "      <td>85123A</td>\n",
              "      <td>WHITE HANGING HEART T-LIGHT HOLDER</td>\n",
              "      <td>6</td>\n",
              "      <td>2010-12-01 08:26:00</td>\n",
              "      <td>2.55</td>\n",
              "      <td>17850.0</td>\n",
              "      <td>United Kingdom</td>\n",
              "      <td>15.30</td>\n",
              "      <td>373 days 04:24:00</td>\n",
              "    </tr>\n",
              "    <tr>\n",
              "      <th>1</th>\n",
              "      <td>536365</td>\n",
              "      <td>71053</td>\n",
              "      <td>WHITE METAL LANTERN</td>\n",
              "      <td>6</td>\n",
              "      <td>2010-12-01 08:26:00</td>\n",
              "      <td>3.39</td>\n",
              "      <td>17850.0</td>\n",
              "      <td>United Kingdom</td>\n",
              "      <td>20.34</td>\n",
              "      <td>373 days 04:24:00</td>\n",
              "    </tr>\n",
              "    <tr>\n",
              "      <th>2</th>\n",
              "      <td>536365</td>\n",
              "      <td>84406B</td>\n",
              "      <td>CREAM CUPID HEARTS COAT HANGER</td>\n",
              "      <td>8</td>\n",
              "      <td>2010-12-01 08:26:00</td>\n",
              "      <td>2.75</td>\n",
              "      <td>17850.0</td>\n",
              "      <td>United Kingdom</td>\n",
              "      <td>22.00</td>\n",
              "      <td>373 days 04:24:00</td>\n",
              "    </tr>\n",
              "    <tr>\n",
              "      <th>3</th>\n",
              "      <td>536365</td>\n",
              "      <td>84029G</td>\n",
              "      <td>KNITTED UNION FLAG HOT WATER BOTTLE</td>\n",
              "      <td>6</td>\n",
              "      <td>2010-12-01 08:26:00</td>\n",
              "      <td>3.39</td>\n",
              "      <td>17850.0</td>\n",
              "      <td>United Kingdom</td>\n",
              "      <td>20.34</td>\n",
              "      <td>373 days 04:24:00</td>\n",
              "    </tr>\n",
              "    <tr>\n",
              "      <th>4</th>\n",
              "      <td>536365</td>\n",
              "      <td>84029E</td>\n",
              "      <td>RED WOOLLY HOTTIE WHITE HEART.</td>\n",
              "      <td>6</td>\n",
              "      <td>2010-12-01 08:26:00</td>\n",
              "      <td>3.39</td>\n",
              "      <td>17850.0</td>\n",
              "      <td>United Kingdom</td>\n",
              "      <td>20.34</td>\n",
              "      <td>373 days 04:24:00</td>\n",
              "    </tr>\n",
              "  </tbody>\n",
              "</table>\n",
              "</div>\n",
              "      <button class=\"colab-df-convert\" onclick=\"convertToInteractive('df-3470a620-1843-4ebf-9e9f-4fbdadba7854')\"\n",
              "              title=\"Convert this dataframe to an interactive table.\"\n",
              "              style=\"display:none;\">\n",
              "        \n",
              "  <svg xmlns=\"http://www.w3.org/2000/svg\" height=\"24px\"viewBox=\"0 0 24 24\"\n",
              "       width=\"24px\">\n",
              "    <path d=\"M0 0h24v24H0V0z\" fill=\"none\"/>\n",
              "    <path d=\"M18.56 5.44l.94 2.06.94-2.06 2.06-.94-2.06-.94-.94-2.06-.94 2.06-2.06.94zm-11 1L8.5 8.5l.94-2.06 2.06-.94-2.06-.94L8.5 2.5l-.94 2.06-2.06.94zm10 10l.94 2.06.94-2.06 2.06-.94-2.06-.94-.94-2.06-.94 2.06-2.06.94z\"/><path d=\"M17.41 7.96l-1.37-1.37c-.4-.4-.92-.59-1.43-.59-.52 0-1.04.2-1.43.59L10.3 9.45l-7.72 7.72c-.78.78-.78 2.05 0 2.83L4 21.41c.39.39.9.59 1.41.59.51 0 1.02-.2 1.41-.59l7.78-7.78 2.81-2.81c.8-.78.8-2.07 0-2.86zM5.41 20L4 18.59l7.72-7.72 1.47 1.35L5.41 20z\"/>\n",
              "  </svg>\n",
              "      </button>\n",
              "      \n",
              "  <style>\n",
              "    .colab-df-container {\n",
              "      display:flex;\n",
              "      flex-wrap:wrap;\n",
              "      gap: 12px;\n",
              "    }\n",
              "\n",
              "    .colab-df-convert {\n",
              "      background-color: #E8F0FE;\n",
              "      border: none;\n",
              "      border-radius: 50%;\n",
              "      cursor: pointer;\n",
              "      display: none;\n",
              "      fill: #1967D2;\n",
              "      height: 32px;\n",
              "      padding: 0 0 0 0;\n",
              "      width: 32px;\n",
              "    }\n",
              "\n",
              "    .colab-df-convert:hover {\n",
              "      background-color: #E2EBFA;\n",
              "      box-shadow: 0px 1px 2px rgba(60, 64, 67, 0.3), 0px 1px 3px 1px rgba(60, 64, 67, 0.15);\n",
              "      fill: #174EA6;\n",
              "    }\n",
              "\n",
              "    [theme=dark] .colab-df-convert {\n",
              "      background-color: #3B4455;\n",
              "      fill: #D2E3FC;\n",
              "    }\n",
              "\n",
              "    [theme=dark] .colab-df-convert:hover {\n",
              "      background-color: #434B5C;\n",
              "      box-shadow: 0px 1px 3px 1px rgba(0, 0, 0, 0.15);\n",
              "      filter: drop-shadow(0px 1px 2px rgba(0, 0, 0, 0.3));\n",
              "      fill: #FFFFFF;\n",
              "    }\n",
              "  </style>\n",
              "\n",
              "      <script>\n",
              "        const buttonEl =\n",
              "          document.querySelector('#df-3470a620-1843-4ebf-9e9f-4fbdadba7854 button.colab-df-convert');\n",
              "        buttonEl.style.display =\n",
              "          google.colab.kernel.accessAllowed ? 'block' : 'none';\n",
              "\n",
              "        async function convertToInteractive(key) {\n",
              "          const element = document.querySelector('#df-3470a620-1843-4ebf-9e9f-4fbdadba7854');\n",
              "          const dataTable =\n",
              "            await google.colab.kernel.invokeFunction('convertToInteractive',\n",
              "                                                     [key], {});\n",
              "          if (!dataTable) return;\n",
              "\n",
              "          const docLinkHtml = 'Like what you see? Visit the ' +\n",
              "            '<a target=\"_blank\" href=https://colab.research.google.com/notebooks/data_table.ipynb>data table notebook</a>'\n",
              "            + ' to learn more about interactive tables.';\n",
              "          element.innerHTML = '';\n",
              "          dataTable['output_type'] = 'display_data';\n",
              "          await google.colab.output.renderOutput(dataTable, element);\n",
              "          const docLink = document.createElement('div');\n",
              "          docLink.innerHTML = docLinkHtml;\n",
              "          element.appendChild(docLink);\n",
              "        }\n",
              "      </script>\n",
              "    </div>\n",
              "  </div>\n",
              "  "
            ]
          },
          "metadata": {},
          "execution_count": 32
        }
      ]
    },
    {
      "cell_type": "code",
      "source": [
        "# Compute last transaction date to get the recency of customers\n",
        "rfm_p = df.groupby('CustomerID')['Diff'].min()\n",
        "rfm_p = rfm_p.reset_index()\n",
        "rfm_p.head()"
      ],
      "metadata": {
        "colab": {
          "base_uri": "https://localhost:8080/",
          "height": 206
        },
        "id": "3IhEk8RC-4_J",
        "outputId": "00c7e271-215f-4eda-e43a-9be329ec7597"
      },
      "execution_count": 33,
      "outputs": [
        {
          "output_type": "execute_result",
          "data": {
            "text/plain": [
              "  CustomerID              Diff\n",
              "0    12346.0 325 days 02:33:00\n",
              "1    12347.0   1 days 20:58:00\n",
              "2    12348.0  74 days 23:37:00\n",
              "3    12349.0  18 days 02:59:00\n",
              "4    12350.0 309 days 20:49:00"
            ],
            "text/html": [
              "\n",
              "  <div id=\"df-cfa1e7e8-4eb1-48fe-92bd-da1fa4b5d7e8\">\n",
              "    <div class=\"colab-df-container\">\n",
              "      <div>\n",
              "<style scoped>\n",
              "    .dataframe tbody tr th:only-of-type {\n",
              "        vertical-align: middle;\n",
              "    }\n",
              "\n",
              "    .dataframe tbody tr th {\n",
              "        vertical-align: top;\n",
              "    }\n",
              "\n",
              "    .dataframe thead th {\n",
              "        text-align: right;\n",
              "    }\n",
              "</style>\n",
              "<table border=\"1\" class=\"dataframe\">\n",
              "  <thead>\n",
              "    <tr style=\"text-align: right;\">\n",
              "      <th></th>\n",
              "      <th>CustomerID</th>\n",
              "      <th>Diff</th>\n",
              "    </tr>\n",
              "  </thead>\n",
              "  <tbody>\n",
              "    <tr>\n",
              "      <th>0</th>\n",
              "      <td>12346.0</td>\n",
              "      <td>325 days 02:33:00</td>\n",
              "    </tr>\n",
              "    <tr>\n",
              "      <th>1</th>\n",
              "      <td>12347.0</td>\n",
              "      <td>1 days 20:58:00</td>\n",
              "    </tr>\n",
              "    <tr>\n",
              "      <th>2</th>\n",
              "      <td>12348.0</td>\n",
              "      <td>74 days 23:37:00</td>\n",
              "    </tr>\n",
              "    <tr>\n",
              "      <th>3</th>\n",
              "      <td>12349.0</td>\n",
              "      <td>18 days 02:59:00</td>\n",
              "    </tr>\n",
              "    <tr>\n",
              "      <th>4</th>\n",
              "      <td>12350.0</td>\n",
              "      <td>309 days 20:49:00</td>\n",
              "    </tr>\n",
              "  </tbody>\n",
              "</table>\n",
              "</div>\n",
              "      <button class=\"colab-df-convert\" onclick=\"convertToInteractive('df-cfa1e7e8-4eb1-48fe-92bd-da1fa4b5d7e8')\"\n",
              "              title=\"Convert this dataframe to an interactive table.\"\n",
              "              style=\"display:none;\">\n",
              "        \n",
              "  <svg xmlns=\"http://www.w3.org/2000/svg\" height=\"24px\"viewBox=\"0 0 24 24\"\n",
              "       width=\"24px\">\n",
              "    <path d=\"M0 0h24v24H0V0z\" fill=\"none\"/>\n",
              "    <path d=\"M18.56 5.44l.94 2.06.94-2.06 2.06-.94-2.06-.94-.94-2.06-.94 2.06-2.06.94zm-11 1L8.5 8.5l.94-2.06 2.06-.94-2.06-.94L8.5 2.5l-.94 2.06-2.06.94zm10 10l.94 2.06.94-2.06 2.06-.94-2.06-.94-.94-2.06-.94 2.06-2.06.94z\"/><path d=\"M17.41 7.96l-1.37-1.37c-.4-.4-.92-.59-1.43-.59-.52 0-1.04.2-1.43.59L10.3 9.45l-7.72 7.72c-.78.78-.78 2.05 0 2.83L4 21.41c.39.39.9.59 1.41.59.51 0 1.02-.2 1.41-.59l7.78-7.78 2.81-2.81c.8-.78.8-2.07 0-2.86zM5.41 20L4 18.59l7.72-7.72 1.47 1.35L5.41 20z\"/>\n",
              "  </svg>\n",
              "      </button>\n",
              "      \n",
              "  <style>\n",
              "    .colab-df-container {\n",
              "      display:flex;\n",
              "      flex-wrap:wrap;\n",
              "      gap: 12px;\n",
              "    }\n",
              "\n",
              "    .colab-df-convert {\n",
              "      background-color: #E8F0FE;\n",
              "      border: none;\n",
              "      border-radius: 50%;\n",
              "      cursor: pointer;\n",
              "      display: none;\n",
              "      fill: #1967D2;\n",
              "      height: 32px;\n",
              "      padding: 0 0 0 0;\n",
              "      width: 32px;\n",
              "    }\n",
              "\n",
              "    .colab-df-convert:hover {\n",
              "      background-color: #E2EBFA;\n",
              "      box-shadow: 0px 1px 2px rgba(60, 64, 67, 0.3), 0px 1px 3px 1px rgba(60, 64, 67, 0.15);\n",
              "      fill: #174EA6;\n",
              "    }\n",
              "\n",
              "    [theme=dark] .colab-df-convert {\n",
              "      background-color: #3B4455;\n",
              "      fill: #D2E3FC;\n",
              "    }\n",
              "\n",
              "    [theme=dark] .colab-df-convert:hover {\n",
              "      background-color: #434B5C;\n",
              "      box-shadow: 0px 1px 3px 1px rgba(0, 0, 0, 0.15);\n",
              "      filter: drop-shadow(0px 1px 2px rgba(0, 0, 0, 0.3));\n",
              "      fill: #FFFFFF;\n",
              "    }\n",
              "  </style>\n",
              "\n",
              "      <script>\n",
              "        const buttonEl =\n",
              "          document.querySelector('#df-cfa1e7e8-4eb1-48fe-92bd-da1fa4b5d7e8 button.colab-df-convert');\n",
              "        buttonEl.style.display =\n",
              "          google.colab.kernel.accessAllowed ? 'block' : 'none';\n",
              "\n",
              "        async function convertToInteractive(key) {\n",
              "          const element = document.querySelector('#df-cfa1e7e8-4eb1-48fe-92bd-da1fa4b5d7e8');\n",
              "          const dataTable =\n",
              "            await google.colab.kernel.invokeFunction('convertToInteractive',\n",
              "                                                     [key], {});\n",
              "          if (!dataTable) return;\n",
              "\n",
              "          const docLinkHtml = 'Like what you see? Visit the ' +\n",
              "            '<a target=\"_blank\" href=https://colab.research.google.com/notebooks/data_table.ipynb>data table notebook</a>'\n",
              "            + ' to learn more about interactive tables.';\n",
              "          element.innerHTML = '';\n",
              "          dataTable['output_type'] = 'display_data';\n",
              "          await google.colab.output.renderOutput(dataTable, element);\n",
              "          const docLink = document.createElement('div');\n",
              "          docLink.innerHTML = docLinkHtml;\n",
              "          element.appendChild(docLink);\n",
              "        }\n",
              "      </script>\n",
              "    </div>\n",
              "  </div>\n",
              "  "
            ]
          },
          "metadata": {},
          "execution_count": 33
        }
      ]
    },
    {
      "cell_type": "code",
      "source": [
        "# Extract number of days only\n",
        "rfm_p['Diff'] = rfm_p['Diff'].dt.days\n",
        "rfm_p.head()"
      ],
      "metadata": {
        "colab": {
          "base_uri": "https://localhost:8080/",
          "height": 206
        },
        "id": "m4yTiss8-7gV",
        "outputId": "65f76688-044f-4594-c5d9-8ced825a8d2f"
      },
      "execution_count": 34,
      "outputs": [
        {
          "output_type": "execute_result",
          "data": {
            "text/plain": [
              "  CustomerID  Diff\n",
              "0    12346.0   325\n",
              "1    12347.0     1\n",
              "2    12348.0    74\n",
              "3    12349.0    18\n",
              "4    12350.0   309"
            ],
            "text/html": [
              "\n",
              "  <div id=\"df-fe48754f-d87b-4f44-848e-94ffd02d424a\">\n",
              "    <div class=\"colab-df-container\">\n",
              "      <div>\n",
              "<style scoped>\n",
              "    .dataframe tbody tr th:only-of-type {\n",
              "        vertical-align: middle;\n",
              "    }\n",
              "\n",
              "    .dataframe tbody tr th {\n",
              "        vertical-align: top;\n",
              "    }\n",
              "\n",
              "    .dataframe thead th {\n",
              "        text-align: right;\n",
              "    }\n",
              "</style>\n",
              "<table border=\"1\" class=\"dataframe\">\n",
              "  <thead>\n",
              "    <tr style=\"text-align: right;\">\n",
              "      <th></th>\n",
              "      <th>CustomerID</th>\n",
              "      <th>Diff</th>\n",
              "    </tr>\n",
              "  </thead>\n",
              "  <tbody>\n",
              "    <tr>\n",
              "      <th>0</th>\n",
              "      <td>12346.0</td>\n",
              "      <td>325</td>\n",
              "    </tr>\n",
              "    <tr>\n",
              "      <th>1</th>\n",
              "      <td>12347.0</td>\n",
              "      <td>1</td>\n",
              "    </tr>\n",
              "    <tr>\n",
              "      <th>2</th>\n",
              "      <td>12348.0</td>\n",
              "      <td>74</td>\n",
              "    </tr>\n",
              "    <tr>\n",
              "      <th>3</th>\n",
              "      <td>12349.0</td>\n",
              "      <td>18</td>\n",
              "    </tr>\n",
              "    <tr>\n",
              "      <th>4</th>\n",
              "      <td>12350.0</td>\n",
              "      <td>309</td>\n",
              "    </tr>\n",
              "  </tbody>\n",
              "</table>\n",
              "</div>\n",
              "      <button class=\"colab-df-convert\" onclick=\"convertToInteractive('df-fe48754f-d87b-4f44-848e-94ffd02d424a')\"\n",
              "              title=\"Convert this dataframe to an interactive table.\"\n",
              "              style=\"display:none;\">\n",
              "        \n",
              "  <svg xmlns=\"http://www.w3.org/2000/svg\" height=\"24px\"viewBox=\"0 0 24 24\"\n",
              "       width=\"24px\">\n",
              "    <path d=\"M0 0h24v24H0V0z\" fill=\"none\"/>\n",
              "    <path d=\"M18.56 5.44l.94 2.06.94-2.06 2.06-.94-2.06-.94-.94-2.06-.94 2.06-2.06.94zm-11 1L8.5 8.5l.94-2.06 2.06-.94-2.06-.94L8.5 2.5l-.94 2.06-2.06.94zm10 10l.94 2.06.94-2.06 2.06-.94-2.06-.94-.94-2.06-.94 2.06-2.06.94z\"/><path d=\"M17.41 7.96l-1.37-1.37c-.4-.4-.92-.59-1.43-.59-.52 0-1.04.2-1.43.59L10.3 9.45l-7.72 7.72c-.78.78-.78 2.05 0 2.83L4 21.41c.39.39.9.59 1.41.59.51 0 1.02-.2 1.41-.59l7.78-7.78 2.81-2.81c.8-.78.8-2.07 0-2.86zM5.41 20L4 18.59l7.72-7.72 1.47 1.35L5.41 20z\"/>\n",
              "  </svg>\n",
              "      </button>\n",
              "      \n",
              "  <style>\n",
              "    .colab-df-container {\n",
              "      display:flex;\n",
              "      flex-wrap:wrap;\n",
              "      gap: 12px;\n",
              "    }\n",
              "\n",
              "    .colab-df-convert {\n",
              "      background-color: #E8F0FE;\n",
              "      border: none;\n",
              "      border-radius: 50%;\n",
              "      cursor: pointer;\n",
              "      display: none;\n",
              "      fill: #1967D2;\n",
              "      height: 32px;\n",
              "      padding: 0 0 0 0;\n",
              "      width: 32px;\n",
              "    }\n",
              "\n",
              "    .colab-df-convert:hover {\n",
              "      background-color: #E2EBFA;\n",
              "      box-shadow: 0px 1px 2px rgba(60, 64, 67, 0.3), 0px 1px 3px 1px rgba(60, 64, 67, 0.15);\n",
              "      fill: #174EA6;\n",
              "    }\n",
              "\n",
              "    [theme=dark] .colab-df-convert {\n",
              "      background-color: #3B4455;\n",
              "      fill: #D2E3FC;\n",
              "    }\n",
              "\n",
              "    [theme=dark] .colab-df-convert:hover {\n",
              "      background-color: #434B5C;\n",
              "      box-shadow: 0px 1px 3px 1px rgba(0, 0, 0, 0.15);\n",
              "      filter: drop-shadow(0px 1px 2px rgba(0, 0, 0, 0.3));\n",
              "      fill: #FFFFFF;\n",
              "    }\n",
              "  </style>\n",
              "\n",
              "      <script>\n",
              "        const buttonEl =\n",
              "          document.querySelector('#df-fe48754f-d87b-4f44-848e-94ffd02d424a button.colab-df-convert');\n",
              "        buttonEl.style.display =\n",
              "          google.colab.kernel.accessAllowed ? 'block' : 'none';\n",
              "\n",
              "        async function convertToInteractive(key) {\n",
              "          const element = document.querySelector('#df-fe48754f-d87b-4f44-848e-94ffd02d424a');\n",
              "          const dataTable =\n",
              "            await google.colab.kernel.invokeFunction('convertToInteractive',\n",
              "                                                     [key], {});\n",
              "          if (!dataTable) return;\n",
              "\n",
              "          const docLinkHtml = 'Like what you see? Visit the ' +\n",
              "            '<a target=\"_blank\" href=https://colab.research.google.com/notebooks/data_table.ipynb>data table notebook</a>'\n",
              "            + ' to learn more about interactive tables.';\n",
              "          element.innerHTML = '';\n",
              "          dataTable['output_type'] = 'display_data';\n",
              "          await google.colab.output.renderOutput(dataTable, element);\n",
              "          const docLink = document.createElement('div');\n",
              "          docLink.innerHTML = docLinkHtml;\n",
              "          element.appendChild(docLink);\n",
              "        }\n",
              "      </script>\n",
              "    </div>\n",
              "  </div>\n",
              "  "
            ]
          },
          "metadata": {},
          "execution_count": 34
        }
      ]
    },
    {
      "cell_type": "code",
      "source": [
        "# Merge tha dataframes to get the final RFM dataframe\n",
        "rfm = pd.merge(rfm, rfm_p, on='CustomerID', how='inner')\n",
        "rfm.columns = ['CustomerID', 'Amount', 'Frequency', 'Recency']\n",
        "rfm.head()"
      ],
      "metadata": {
        "colab": {
          "base_uri": "https://localhost:8080/",
          "height": 206
        },
        "id": "7IQrj1ZQ--4j",
        "outputId": "01c6f93d-d1e8-4419-9c45-6263af93e55a"
      },
      "execution_count": 35,
      "outputs": [
        {
          "output_type": "execute_result",
          "data": {
            "text/plain": [
              "  CustomerID   Amount  Frequency  Recency\n",
              "0    12346.0     0.00          2      325\n",
              "1    12347.0  4310.00        182        1\n",
              "2    12348.0  1797.24         31       74\n",
              "3    12349.0  1757.55         73       18\n",
              "4    12350.0   334.40         17      309"
            ],
            "text/html": [
              "\n",
              "  <div id=\"df-2ed1c06c-6bbc-4813-bc05-8dacd0130846\">\n",
              "    <div class=\"colab-df-container\">\n",
              "      <div>\n",
              "<style scoped>\n",
              "    .dataframe tbody tr th:only-of-type {\n",
              "        vertical-align: middle;\n",
              "    }\n",
              "\n",
              "    .dataframe tbody tr th {\n",
              "        vertical-align: top;\n",
              "    }\n",
              "\n",
              "    .dataframe thead th {\n",
              "        text-align: right;\n",
              "    }\n",
              "</style>\n",
              "<table border=\"1\" class=\"dataframe\">\n",
              "  <thead>\n",
              "    <tr style=\"text-align: right;\">\n",
              "      <th></th>\n",
              "      <th>CustomerID</th>\n",
              "      <th>Amount</th>\n",
              "      <th>Frequency</th>\n",
              "      <th>Recency</th>\n",
              "    </tr>\n",
              "  </thead>\n",
              "  <tbody>\n",
              "    <tr>\n",
              "      <th>0</th>\n",
              "      <td>12346.0</td>\n",
              "      <td>0.00</td>\n",
              "      <td>2</td>\n",
              "      <td>325</td>\n",
              "    </tr>\n",
              "    <tr>\n",
              "      <th>1</th>\n",
              "      <td>12347.0</td>\n",
              "      <td>4310.00</td>\n",
              "      <td>182</td>\n",
              "      <td>1</td>\n",
              "    </tr>\n",
              "    <tr>\n",
              "      <th>2</th>\n",
              "      <td>12348.0</td>\n",
              "      <td>1797.24</td>\n",
              "      <td>31</td>\n",
              "      <td>74</td>\n",
              "    </tr>\n",
              "    <tr>\n",
              "      <th>3</th>\n",
              "      <td>12349.0</td>\n",
              "      <td>1757.55</td>\n",
              "      <td>73</td>\n",
              "      <td>18</td>\n",
              "    </tr>\n",
              "    <tr>\n",
              "      <th>4</th>\n",
              "      <td>12350.0</td>\n",
              "      <td>334.40</td>\n",
              "      <td>17</td>\n",
              "      <td>309</td>\n",
              "    </tr>\n",
              "  </tbody>\n",
              "</table>\n",
              "</div>\n",
              "      <button class=\"colab-df-convert\" onclick=\"convertToInteractive('df-2ed1c06c-6bbc-4813-bc05-8dacd0130846')\"\n",
              "              title=\"Convert this dataframe to an interactive table.\"\n",
              "              style=\"display:none;\">\n",
              "        \n",
              "  <svg xmlns=\"http://www.w3.org/2000/svg\" height=\"24px\"viewBox=\"0 0 24 24\"\n",
              "       width=\"24px\">\n",
              "    <path d=\"M0 0h24v24H0V0z\" fill=\"none\"/>\n",
              "    <path d=\"M18.56 5.44l.94 2.06.94-2.06 2.06-.94-2.06-.94-.94-2.06-.94 2.06-2.06.94zm-11 1L8.5 8.5l.94-2.06 2.06-.94-2.06-.94L8.5 2.5l-.94 2.06-2.06.94zm10 10l.94 2.06.94-2.06 2.06-.94-2.06-.94-.94-2.06-.94 2.06-2.06.94z\"/><path d=\"M17.41 7.96l-1.37-1.37c-.4-.4-.92-.59-1.43-.59-.52 0-1.04.2-1.43.59L10.3 9.45l-7.72 7.72c-.78.78-.78 2.05 0 2.83L4 21.41c.39.39.9.59 1.41.59.51 0 1.02-.2 1.41-.59l7.78-7.78 2.81-2.81c.8-.78.8-2.07 0-2.86zM5.41 20L4 18.59l7.72-7.72 1.47 1.35L5.41 20z\"/>\n",
              "  </svg>\n",
              "      </button>\n",
              "      \n",
              "  <style>\n",
              "    .colab-df-container {\n",
              "      display:flex;\n",
              "      flex-wrap:wrap;\n",
              "      gap: 12px;\n",
              "    }\n",
              "\n",
              "    .colab-df-convert {\n",
              "      background-color: #E8F0FE;\n",
              "      border: none;\n",
              "      border-radius: 50%;\n",
              "      cursor: pointer;\n",
              "      display: none;\n",
              "      fill: #1967D2;\n",
              "      height: 32px;\n",
              "      padding: 0 0 0 0;\n",
              "      width: 32px;\n",
              "    }\n",
              "\n",
              "    .colab-df-convert:hover {\n",
              "      background-color: #E2EBFA;\n",
              "      box-shadow: 0px 1px 2px rgba(60, 64, 67, 0.3), 0px 1px 3px 1px rgba(60, 64, 67, 0.15);\n",
              "      fill: #174EA6;\n",
              "    }\n",
              "\n",
              "    [theme=dark] .colab-df-convert {\n",
              "      background-color: #3B4455;\n",
              "      fill: #D2E3FC;\n",
              "    }\n",
              "\n",
              "    [theme=dark] .colab-df-convert:hover {\n",
              "      background-color: #434B5C;\n",
              "      box-shadow: 0px 1px 3px 1px rgba(0, 0, 0, 0.15);\n",
              "      filter: drop-shadow(0px 1px 2px rgba(0, 0, 0, 0.3));\n",
              "      fill: #FFFFFF;\n",
              "    }\n",
              "  </style>\n",
              "\n",
              "      <script>\n",
              "        const buttonEl =\n",
              "          document.querySelector('#df-2ed1c06c-6bbc-4813-bc05-8dacd0130846 button.colab-df-convert');\n",
              "        buttonEl.style.display =\n",
              "          google.colab.kernel.accessAllowed ? 'block' : 'none';\n",
              "\n",
              "        async function convertToInteractive(key) {\n",
              "          const element = document.querySelector('#df-2ed1c06c-6bbc-4813-bc05-8dacd0130846');\n",
              "          const dataTable =\n",
              "            await google.colab.kernel.invokeFunction('convertToInteractive',\n",
              "                                                     [key], {});\n",
              "          if (!dataTable) return;\n",
              "\n",
              "          const docLinkHtml = 'Like what you see? Visit the ' +\n",
              "            '<a target=\"_blank\" href=https://colab.research.google.com/notebooks/data_table.ipynb>data table notebook</a>'\n",
              "            + ' to learn more about interactive tables.';\n",
              "          element.innerHTML = '';\n",
              "          dataTable['output_type'] = 'display_data';\n",
              "          await google.colab.output.renderOutput(dataTable, element);\n",
              "          const docLink = document.createElement('div');\n",
              "          docLink.innerHTML = docLinkHtml;\n",
              "          element.appendChild(docLink);\n",
              "        }\n",
              "      </script>\n",
              "    </div>\n",
              "  </div>\n",
              "  "
            ]
          },
          "metadata": {},
          "execution_count": 35
        }
      ]
    },
    {
      "cell_type": "code",
      "source": [
        "# Checking the distribution of Recency, Frequency and MonetaryValue variables.\n",
        "plt.figure(figsize=(12,10))\n",
        "# Plot distribution of var1\n",
        "plt.subplot(3, 1, 1); sns.distplot(rfm['Amount'])\n",
        "# Plot distribution of var2\n",
        "plt.subplot(3, 1, 2); sns.distplot(rfm['Frequency'])\n",
        "# Plot distribution of var3\n",
        "plt.subplot(3, 1, 3); sns.distplot(rfm['Recency'])"
      ],
      "metadata": {
        "colab": {
          "base_uri": "https://localhost:8080/",
          "height": 623
        },
        "id": "8tLenwGF_Bxq",
        "outputId": "5d317bb7-30cc-42d3-9d0d-ecb61d9e797f"
      },
      "execution_count": 36,
      "outputs": [
        {
          "output_type": "execute_result",
          "data": {
            "text/plain": [
              "<matplotlib.axes._subplots.AxesSubplot at 0x7fc239365fd0>"
            ]
          },
          "metadata": {},
          "execution_count": 36
        },
        {
          "output_type": "display_data",
          "data": {
            "text/plain": [
              "<Figure size 864x720 with 3 Axes>"
            ],
            "image/png": "[encoded data removed]"
          },
          "metadata": {
            "needs_background": "light"
          }
        }
      ]
    },
    {
      "cell_type": "markdown",
      "source": [
        "From the above figure, all the variables do not have a symmetrical distribution. All of them are skewed to the right."
      ],
      "metadata": {
        "id": "QGbGFHU8_EzW"
      }
    },
    {
      "cell_type": "markdown",
      "source": [
        "#**Outlier Analysis**"
      ],
      "metadata": {
        "id": "D90qhc1NL2W8"
      }
    },
    {
      "cell_type": "markdown",
      "source": [
        "There are 2 types of outliers and we will treat outliers as it can skew our dataset\n",
        "\n",
        "1.Statistical\n",
        "\n",
        "2.Domain specific"
      ],
      "metadata": {
        "id": "y1wI0zOCL7xm"
      }
    },
    {
      "cell_type": "code",
      "source": [
        "# Outlier Analysis of Amount Frequency and Recency\n",
        "\n",
        "attributes = ['Amount','Frequency','Recency']\n",
        "plt.rcParams['figure.figsize'] = [8,5]\n",
        "sns.boxplot(data = rfm[attributes], orient=\"v\", palette=\"Set2\" ,whis=1.5,saturation=1, width=0.7)\n",
        "plt.title(\"Outliers Variable Distribution\", fontsize = 14, fontweight = 'bold')\n",
        "plt.ylabel(\"Range\", fontweight = 'bold')\n",
        "plt.xlabel(\"Attributes\", fontweight = 'bold')"
      ],
      "metadata": {
        "colab": {
          "base_uri": "https://localhost:8080/",
          "height": 368
        },
        "id": "vA-s5TkgL1qz",
        "outputId": "079f3bd9-01f3-432c-fc3f-0097ccfcb42e"
      },
      "execution_count": 37,
      "outputs": [
        {
          "output_type": "execute_result",
          "data": {
            "text/plain": [
              "Text(0.5, 0, 'Attributes')"
            ]
          },
          "metadata": {},
          "execution_count": 37
        },
        {
          "output_type": "display_data",
          "data": {
            "text/plain": [
              "<Figure size 576x360 with 1 Axes>"
            ],
            "image/png": "[encoded data removed]"
          },
          "metadata": {
            "needs_background": "light"
          }
        }
      ]
    },
    {
      "cell_type": "code",
      "source": [
        "# Removing (statistical) outliers for Amount\n",
        "Q1 = rfm.Amount.quantile(0.05)\n",
        "Q3 = rfm.Amount.quantile(0.95)\n",
        "IQR = Q3 - Q1\n",
        "rfm = rfm[(rfm.Amount >= Q1 - 1.5*IQR) & (rfm.Amount <= Q3 + 1.5*IQR)]\n",
        "\n",
        "# Removing (statistical) outliers for Recency\n",
        "Q1 = rfm.Recency.quantile(0.05)\n",
        "Q3 = rfm.Recency.quantile(0.95)\n",
        "IQR = Q3 - Q1\n",
        "rfm = rfm[(rfm.Recency >= Q1 - 1.5*IQR) & (rfm.Recency <= Q3 + 1.5*IQR)]\n",
        "\n",
        "# Removing (statistical) outliers for Frequency\n",
        "Q1 = rfm.Frequency.quantile(0.05)\n",
        "Q3 = rfm.Frequency.quantile(0.95)\n",
        "IQR = Q3 - Q1\n",
        "rfm = rfm[(rfm.Frequency >= Q1 - 1.5*IQR) & (rfm.Frequency <= Q3 + 1.5*IQR)]"
      ],
      "metadata": {
        "id": "ACMdpRKRMCtT"
      },
      "execution_count": 38,
      "outputs": []
    },
    {
      "cell_type": "markdown",
      "source": [
        "Rescaling the Attributes It is extremely important to rescale the variables so that they have a comparable scale.| There are two common ways of rescaling:\n",
        "\n",
        "\n",
        "\n",
        "*   Min-Max scaling\n",
        "\n",
        "*   Standardisation (mean-0, sigma-1) Here, we will use Standardisation Scaling.\n",
        "\n",
        "\n"
      ],
      "metadata": {
        "id": "uu6t32-8MGgU"
      }
    },
    {
      "cell_type": "code",
      "source": [
        "# Rescaling the attributes\n",
        "rfm_df = rfm[['Amount', 'Frequency', 'Recency']]\n",
        "\n",
        "# Instantiate\n",
        "scaler = StandardScaler()\n",
        "\n",
        "# fit_transform\n",
        "rfm_df_scaled = scaler.fit_transform(rfm_df)"
      ],
      "metadata": {
        "id": "1DRB3HLpMFwB"
      },
      "execution_count": 39,
      "outputs": []
    },
    {
      "cell_type": "code",
      "source": [
        "rfm_df_scaled = pd.DataFrame(rfm_df_scaled)\n",
        "rfm_df_scaled.columns = ['Amount', 'Frequency', 'Recency']\n",
        "rfm_df_scaled"
      ],
      "metadata": {
        "colab": {
          "base_uri": "https://localhost:8080/",
          "height": 424
        },
        "id": "KsQaE1etMkGq",
        "outputId": "fec482d4-a371-4c4b-f1c5-a8573513fe27"
      },
      "execution_count": 40,
      "outputs": [
        {
          "output_type": "execute_result",
          "data": {
            "text/plain": [
              "        Amount  Frequency   Recency\n",
              "0    -0.723738  -0.752888  2.301611\n",
              "1     1.731617   1.042467 -0.906466\n",
              "2     0.300128  -0.463636 -0.183658\n",
              "3     0.277517  -0.044720 -0.738141\n",
              "4    -0.533235  -0.603275  2.143188\n",
              "...        ...        ...       ...\n",
              "4288 -0.624669  -0.683068 -0.193560\n",
              "4289 -0.620853  -0.673094  1.826341\n",
              "4290 -0.677696  -0.703017  0.865898\n",
              "4291 -0.623131  -0.643171 -0.847057\n",
              "4292  0.322938  -0.074643 -0.500505\n",
              "\n",
              "[4293 rows x 3 columns]"
            ],
            "text/html": [
              "\n",
              "  <div id=\"df-cb23271b-5d93-4a3f-b386-a04b4751acfb\">\n",
              "    <div class=\"colab-df-container\">\n",
              "      <div>\n",
              "<style scoped>\n",
              "    .dataframe tbody tr th:only-of-type {\n",
              "        vertical-align: middle;\n",
              "    }\n",
              "\n",
              "    .dataframe tbody tr th {\n",
              "        vertical-align: top;\n",
              "    }\n",
              "\n",
              "    .dataframe thead th {\n",
              "        text-align: right;\n",
              "    }\n",
              "</style>\n",
              "<table border=\"1\" class=\"dataframe\">\n",
              "  <thead>\n",
              "    <tr style=\"text-align: right;\">\n",
              "      <th></th>\n",
              "      <th>Amount</th>\n",
              "      <th>Frequency</th>\n",
              "      <th>Recency</th>\n",
              "    </tr>\n",
              "  </thead>\n",
              "  <tbody>\n",
              "    <tr>\n",
              "      <th>0</th>\n",
              "      <td>-0.723738</td>\n",
              "      <td>-0.752888</td>\n",
              "      <td>2.301611</td>\n",
              "    </tr>\n",
              "    <tr>\n",
              "      <th>1</th>\n",
              "      <td>1.731617</td>\n",
              "      <td>1.042467</td>\n",
              "      <td>-0.906466</td>\n",
              "    </tr>\n",
              "    <tr>\n",
              "      <th>2</th>\n",
              "      <td>0.300128</td>\n",
              "      <td>-0.463636</td>\n",
              "      <td>-0.183658</td>\n",
              "    </tr>\n",
              "    <tr>\n",
              "      <th>3</th>\n",
              "      <td>0.277517</td>\n",
              "      <td>-0.044720</td>\n",
              "      <td>-0.738141</td>\n",
              "    </tr>\n",
              "    <tr>\n",
              "      <th>4</th>\n",
              "      <td>-0.533235</td>\n",
              "      <td>-0.603275</td>\n",
              "      <td>2.143188</td>\n",
              "    </tr>\n",
              "    <tr>\n",
              "      <th>...</th>\n",
              "      <td>...</td>\n",
              "      <td>...</td>\n",
              "      <td>...</td>\n",
              "    </tr>\n",
              "    <tr>\n",
              "      <th>4288</th>\n",
              "      <td>-0.624669</td>\n",
              "      <td>-0.683068</td>\n",
              "      <td>-0.193560</td>\n",
              "    </tr>\n",
              "    <tr>\n",
              "      <th>4289</th>\n",
              "      <td>-0.620853</td>\n",
              "      <td>-0.673094</td>\n",
              "      <td>1.826341</td>\n",
              "    </tr>\n",
              "    <tr>\n",
              "      <th>4290</th>\n",
              "      <td>-0.677696</td>\n",
              "      <td>-0.703017</td>\n",
              "      <td>0.865898</td>\n",
              "    </tr>\n",
              "    <tr>\n",
              "      <th>4291</th>\n",
              "      <td>-0.623131</td>\n",
              "      <td>-0.643171</td>\n",
              "      <td>-0.847057</td>\n",
              "    </tr>\n",
              "    <tr>\n",
              "      <th>4292</th>\n",
              "      <td>0.322938</td>\n",
              "      <td>-0.074643</td>\n",
              "      <td>-0.500505</td>\n",
              "    </tr>\n",
              "  </tbody>\n",
              "</table>\n",
              "<p>4293 rows × 3 columns</p>\n",
              "</div>\n",
              "      <button class=\"colab-df-convert\" onclick=\"convertToInteractive('df-cb23271b-5d93-4a3f-b386-a04b4751acfb')\"\n",
              "              title=\"Convert this dataframe to an interactive table.\"\n",
              "              style=\"display:none;\">\n",
              "        \n",
              "  <svg xmlns=\"http://www.w3.org/2000/svg\" height=\"24px\"viewBox=\"0 0 24 24\"\n",
              "       width=\"24px\">\n",
              "    <path d=\"M0 0h24v24H0V0z\" fill=\"none\"/>\n",
              "    <path d=\"M18.56 5.44l.94 2.06.94-2.06 2.06-.94-2.06-.94-.94-2.06-.94 2.06-2.06.94zm-11 1L8.5 8.5l.94-2.06 2.06-.94-2.06-.94L8.5 2.5l-.94 2.06-2.06.94zm10 10l.94 2.06.94-2.06 2.06-.94-2.06-.94-.94-2.06-.94 2.06-2.06.94z\"/><path d=\"M17.41 7.96l-1.37-1.37c-.4-.4-.92-.59-1.43-.59-.52 0-1.04.2-1.43.59L10.3 9.45l-7.72 7.72c-.78.78-.78 2.05 0 2.83L4 21.41c.39.39.9.59 1.41.59.51 0 1.02-.2 1.41-.59l7.78-7.78 2.81-2.81c.8-.78.8-2.07 0-2.86zM5.41 20L4 18.59l7.72-7.72 1.47 1.35L5.41 20z\"/>\n",
              "  </svg>\n",
              "      </button>\n",
              "      \n",
              "  <style>\n",
              "    .colab-df-container {\n",
              "      display:flex;\n",
              "      flex-wrap:wrap;\n",
              "      gap: 12px;\n",
              "    }\n",
              "\n",
              "    .colab-df-convert {\n",
              "      background-color: #E8F0FE;\n",
              "      border: none;\n",
              "      border-radius: 50%;\n",
              "      cursor: pointer;\n",
              "      display: none;\n",
              "      fill: #1967D2;\n",
              "      height: 32px;\n",
              "      padding: 0 0 0 0;\n",
              "      width: 32px;\n",
              "    }\n",
              "\n",
              "    .colab-df-convert:hover {\n",
              "      background-color: #E2EBFA;\n",
              "      box-shadow: 0px 1px 2px rgba(60, 64, 67, 0.3), 0px 1px 3px 1px rgba(60, 64, 67, 0.15);\n",
              "      fill: #174EA6;\n",
              "    }\n",
              "\n",
              "    [theme=dark] .colab-df-convert {\n",
              "      background-color: #3B4455;\n",
              "      fill: #D2E3FC;\n",
              "    }\n",
              "\n",
              "    [theme=dark] .colab-df-convert:hover {\n",
              "      background-color: #434B5C;\n",
              "      box-shadow: 0px 1px 3px 1px rgba(0, 0, 0, 0.15);\n",
              "      filter: drop-shadow(0px 1px 2px rgba(0, 0, 0, 0.3));\n",
              "      fill: #FFFFFF;\n",
              "    }\n",
              "  </style>\n",
              "\n",
              "      <script>\n",
              "        const buttonEl =\n",
              "          document.querySelector('#df-cb23271b-5d93-4a3f-b386-a04b4751acfb button.colab-df-convert');\n",
              "        buttonEl.style.display =\n",
              "          google.colab.kernel.accessAllowed ? 'block' : 'none';\n",
              "\n",
              "        async function convertToInteractive(key) {\n",
              "          const element = document.querySelector('#df-cb23271b-5d93-4a3f-b386-a04b4751acfb');\n",
              "          const dataTable =\n",
              "            await google.colab.kernel.invokeFunction('convertToInteractive',\n",
              "                                                     [key], {});\n",
              "          if (!dataTable) return;\n",
              "\n",
              "          const docLinkHtml = 'Like what you see? Visit the ' +\n",
              "            '<a target=\"_blank\" href=https://colab.research.google.com/notebooks/data_table.ipynb>data table notebook</a>'\n",
              "            + ' to learn more about interactive tables.';\n",
              "          element.innerHTML = '';\n",
              "          dataTable['output_type'] = 'display_data';\n",
              "          await google.colab.output.renderOutput(dataTable, element);\n",
              "          const docLink = document.createElement('div');\n",
              "          docLink.innerHTML = docLinkHtml;\n",
              "          element.appendChild(docLink);\n",
              "        }\n",
              "      </script>\n",
              "    </div>\n",
              "  </div>\n",
              "  "
            ]
          },
          "metadata": {},
          "execution_count": 40
        }
      ]
    },
    {
      "cell_type": "markdown",
      "source": [
        "#**Building the Model**"
      ],
      "metadata": {
        "id": "IVnG8EmXaBj1"
      }
    },
    {
      "cell_type": "markdown",
      "source": [
        "##**K-Means Clustering**\n",
        "\n",
        "K-means clustering is one of the simplest and popular unsupervised machine learning algorithms.\n",
        "\n",
        "The algorithm works as follows:\n",
        "\n",
        "\n",
        "*   First we initialize k points, called means, randomly.\n",
        "\n",
        "\n",
        "*   We categorize each item to its closest mean and we update the mean’s coordinates, which are the averages of the items categorized in that mean so far.\n",
        "\n",
        "\n",
        "*   We repeat the process for a given number of iterations and at the end, we have our clusters.\n",
        "\n"
      ],
      "metadata": {
        "id": "ZPnZIxMRaGer"
      }
    },
    {
      "cell_type": "code",
      "source": [
        "# k-means with some arbitrary k\n",
        "\n",
        "kmeans = KMeans(n_clusters=4, max_iter=50)\n",
        "kmeans.fit(rfm_df_scaled)"
      ],
      "metadata": {
        "colab": {
          "base_uri": "https://localhost:8080/"
        },
        "id": "8nLqPfnKadYz",
        "outputId": "1ee10c13-b453-4e67-e92b-165f580661f3"
      },
      "execution_count": 41,
      "outputs": [
        {
          "output_type": "execute_result",
          "data": {
            "text/plain": [
              "KMeans(max_iter=50, n_clusters=4)"
            ]
          },
          "metadata": {},
          "execution_count": 41
        }
      ]
    },
    {
      "cell_type": "code",
      "source": [
        "kmeans.labels_"
      ],
      "metadata": {
        "colab": {
          "base_uri": "https://localhost:8080/"
        },
        "id": "i5OppklOadQT",
        "outputId": "efef1829-627d-4407-b033-27fd7a108db4"
      },
      "execution_count": 42,
      "outputs": [
        {
          "output_type": "execute_result",
          "data": {
            "text/plain": [
              "array([2, 3, 0, ..., 2, 0, 0], dtype=int32)"
            ]
          },
          "metadata": {},
          "execution_count": 42
        }
      ]
    },
    {
      "cell_type": "markdown",
      "source": [
        "**Finding the Optimal Number of Clusters**\n",
        "\n",
        "Elbow Curve to get the right number of Clusters\n",
        "\n",
        "A fundamental step for any unsupervised algorithm is to determine the optimal number of clusters into which the data may be clustered. The Elbow Method is one of the most popular methods to determine this optimal value of k."
      ],
      "metadata": {
        "id": "MhxzPC0YakW6"
      }
    },
    {
      "cell_type": "code",
      "source": [
        "# Elbow-curve/SSD\n",
        "\n",
        "ssd = []\n",
        "range_n_clusters = [2, 3, 4, 5, 6, 7, 8]\n",
        "for num_clusters in range_n_clusters:\n",
        "    kmeans = KMeans(n_clusters=num_clusters, max_iter=50)\n",
        "    kmeans.fit(rfm_df_scaled)\n",
        "    \n",
        "    ssd.append(kmeans.inertia_)\n",
        "    \n",
        "# plot the SSDs for each n_clusters\n",
        "plt.plot(ssd)"
      ],
      "metadata": {
        "colab": {
          "base_uri": "https://localhost:8080/",
          "height": 337
        },
        "id": "wMQyLEaiauNb",
        "outputId": "0e5e223e-4c8a-4828-9a0a-5f67bb9f04df"
      },
      "execution_count": 43,
      "outputs": [
        {
          "output_type": "execute_result",
          "data": {
            "text/plain": [
              "[<matplotlib.lines.Line2D at 0x7fc212c0bb10>]"
            ]
          },
          "metadata": {},
          "execution_count": 43
        },
        {
          "output_type": "display_data",
          "data": {
            "text/plain": [
              "<Figure size 576x360 with 1 Axes>"
            ],
            "image/png": "[encoded data removed]"
          },
          "metadata": {
            "needs_background": "light"
          }
        }
      ]
    },
    {
      "cell_type": "markdown",
      "source": [
        "**Silhouette Analysis**\n",
        "\n",
        "**silhouette score = p−q / max(p,q)**\n",
        "\n",
        "p is the mean distance to the points in the nearest cluster that the data point is not a part of\n",
        "\n",
        "q is the mean intra-cluster distance to all the points in its own cluster.\n",
        "\n",
        "\n",
        "\n",
        "*   The value of the silhouette score range lies between -1 to 1.\n",
        "\n",
        "\n",
        "*   A score closer to 1 indicates that the data point is very similar to other data points in the cluster.\n",
        "\n",
        "\n",
        "*   A score closer to -1 indicates that the data point is not similar to the data points in its cluster.\n",
        "\n",
        "\n",
        "\n"
      ],
      "metadata": {
        "id": "im9QCGxSayhW"
      }
    },
    {
      "cell_type": "code",
      "source": [
        "# Silhouette analysis\n",
        "range_n_clusters = [2, 3, 4, 5, 6, 7, 8]\n",
        "\n",
        "for num_clusters in range_n_clusters:\n",
        "    \n",
        "    # intialise kmeans\n",
        "    kmeans = KMeans(n_clusters=num_clusters, max_iter=50)\n",
        "    kmeans.fit(rfm_df_scaled)\n",
        "    \n",
        "    cluster_labels = kmeans.labels_\n",
        "    \n",
        "    # silhouette score\n",
        "    silhouette_avg = silhouette_score(rfm_df_scaled, cluster_labels)\n",
        "    print(\"For n_clusters={0}, the silhouette score is {1}\".format(num_clusters, silhouette_avg))"
      ],
      "metadata": {
        "colab": {
          "base_uri": "https://localhost:8080/"
        },
        "id": "9EKKh_xQbFju",
        "outputId": "e54ee74e-8cb4-4c54-c856-e301f462a972"
      },
      "execution_count": 44,
      "outputs": [
        {
          "output_type": "stream",
          "name": "stdout",
          "text": [
            "For n_clusters=2, the silhouette score is 0.5415858652525395\n",
            "For n_clusters=3, the silhouette score is 0.5084896296141937\n",
            "For n_clusters=4, the silhouette score is 0.4777820100216849\n",
            "For n_clusters=5, the silhouette score is 0.4645801831125689\n",
            "For n_clusters=6, the silhouette score is 0.41701094135102007\n",
            "For n_clusters=7, the silhouette score is 0.41478776203298984\n",
            "For n_clusters=8, the silhouette score is 0.40803935307450223\n"
          ]
        }
      ]
    },
    {
      "cell_type": "code",
      "source": [
        "# Final model with k=3\n",
        "kmeans = KMeans(n_clusters=3, max_iter=50)\n",
        "kmeans.fit(rfm_df_scaled)"
      ],
      "metadata": {
        "colab": {
          "base_uri": "https://localhost:8080/"
        },
        "id": "_H0TdMvubIx6",
        "outputId": "a44125e4-22ff-43fd-8500-9aa5374af808"
      },
      "execution_count": 60,
      "outputs": [
        {
          "output_type": "execute_result",
          "data": {
            "text/plain": [
              "KMeans(max_iter=50, n_clusters=3)"
            ]
          },
          "metadata": {},
          "execution_count": 60
        }
      ]
    },
    {
      "cell_type": "code",
      "source": [
        "kmeans.labels_"
      ],
      "metadata": {
        "colab": {
          "base_uri": "https://localhost:8080/"
        },
        "id": "0xrJsekjbMIa",
        "outputId": "be651019-3bb2-4ee7-fe38-c62187682fbb"
      },
      "execution_count": 61,
      "outputs": [
        {
          "output_type": "execute_result",
          "data": {
            "text/plain": [
              "array([1, 2, 0, ..., 1, 0, 0], dtype=int32)"
            ]
          },
          "metadata": {},
          "execution_count": 61
        }
      ]
    },
    {
      "cell_type": "code",
      "source": [
        "# assign the label\n",
        "rfm['Cluster_Id'] = kmeans.labels_\n",
        "rfm.head()"
      ],
      "metadata": {
        "colab": {
          "base_uri": "https://localhost:8080/",
          "height": 206
        },
        "id": "aSQ52cNEbPIV",
        "outputId": "05660e2e-aaa6-4a1c-ddc9-4ef3545c367e"
      },
      "execution_count": 62,
      "outputs": [
        {
          "output_type": "execute_result",
          "data": {
            "text/plain": [
              "  CustomerID   Amount  Frequency  Recency  Cluster_Id  Cluster_Labels\n",
              "0    12346.0     0.00          2      325           1               0\n",
              "1    12347.0  4310.00        182        1           2               0\n",
              "2    12348.0  1797.24         31       74           0               0\n",
              "3    12349.0  1757.55         73       18           0               0\n",
              "4    12350.0   334.40         17      309           1               0"
            ],
            "text/html": [
              "\n",
              "  <div id=\"df-48079596-7215-426a-b9f7-890db6c872c4\">\n",
              "    <div class=\"colab-df-container\">\n",
              "      <div>\n",
              "<style scoped>\n",
              "    .dataframe tbody tr th:only-of-type {\n",
              "        vertical-align: middle;\n",
              "    }\n",
              "\n",
              "    .dataframe tbody tr th {\n",
              "        vertical-align: top;\n",
              "    }\n",
              "\n",
              "    .dataframe thead th {\n",
              "        text-align: right;\n",
              "    }\n",
              "</style>\n",
              "<table border=\"1\" class=\"dataframe\">\n",
              "  <thead>\n",
              "    <tr style=\"text-align: right;\">\n",
              "      <th></th>\n",
              "      <th>CustomerID</th>\n",
              "      <th>Amount</th>\n",
              "      <th>Frequency</th>\n",
              "      <th>Recency</th>\n",
              "      <th>Cluster_Id</th>\n",
              "      <th>Cluster_Labels</th>\n",
              "    </tr>\n",
              "  </thead>\n",
              "  <tbody>\n",
              "    <tr>\n",
              "      <th>0</th>\n",
              "      <td>12346.0</td>\n",
              "      <td>0.00</td>\n",
              "      <td>2</td>\n",
              "      <td>325</td>\n",
              "      <td>1</td>\n",
              "      <td>0</td>\n",
              "    </tr>\n",
              "    <tr>\n",
              "      <th>1</th>\n",
              "      <td>12347.0</td>\n",
              "      <td>4310.00</td>\n",
              "      <td>182</td>\n",
              "      <td>1</td>\n",
              "      <td>2</td>\n",
              "      <td>0</td>\n",
              "    </tr>\n",
              "    <tr>\n",
              "      <th>2</th>\n",
              "      <td>12348.0</td>\n",
              "      <td>1797.24</td>\n",
              "      <td>31</td>\n",
              "      <td>74</td>\n",
              "      <td>0</td>\n",
              "      <td>0</td>\n",
              "    </tr>\n",
              "    <tr>\n",
              "      <th>3</th>\n",
              "      <td>12349.0</td>\n",
              "      <td>1757.55</td>\n",
              "      <td>73</td>\n",
              "      <td>18</td>\n",
              "      <td>0</td>\n",
              "      <td>0</td>\n",
              "    </tr>\n",
              "    <tr>\n",
              "      <th>4</th>\n",
              "      <td>12350.0</td>\n",
              "      <td>334.40</td>\n",
              "      <td>17</td>\n",
              "      <td>309</td>\n",
              "      <td>1</td>\n",
              "      <td>0</td>\n",
              "    </tr>\n",
              "  </tbody>\n",
              "</table>\n",
              "</div>\n",
              "      <button class=\"colab-df-convert\" onclick=\"convertToInteractive('df-48079596-7215-426a-b9f7-890db6c872c4')\"\n",
              "              title=\"Convert this dataframe to an interactive table.\"\n",
              "              style=\"display:none;\">\n",
              "        \n",
              "  <svg xmlns=\"http://www.w3.org/2000/svg\" height=\"24px\"viewBox=\"0 0 24 24\"\n",
              "       width=\"24px\">\n",
              "    <path d=\"M0 0h24v24H0V0z\" fill=\"none\"/>\n",
              "    <path d=\"M18.56 5.44l.94 2.06.94-2.06 2.06-.94-2.06-.94-.94-2.06-.94 2.06-2.06.94zm-11 1L8.5 8.5l.94-2.06 2.06-.94-2.06-.94L8.5 2.5l-.94 2.06-2.06.94zm10 10l.94 2.06.94-2.06 2.06-.94-2.06-.94-.94-2.06-.94 2.06-2.06.94z\"/><path d=\"M17.41 7.96l-1.37-1.37c-.4-.4-.92-.59-1.43-.59-.52 0-1.04.2-1.43.59L10.3 9.45l-7.72 7.72c-.78.78-.78 2.05 0 2.83L4 21.41c.39.39.9.59 1.41.59.51 0 1.02-.2 1.41-.59l7.78-7.78 2.81-2.81c.8-.78.8-2.07 0-2.86zM5.41 20L4 18.59l7.72-7.72 1.47 1.35L5.41 20z\"/>\n",
              "  </svg>\n",
              "      </button>\n",
              "      \n",
              "  <style>\n",
              "    .colab-df-container {\n",
              "      display:flex;\n",
              "      flex-wrap:wrap;\n",
              "      gap: 12px;\n",
              "    }\n",
              "\n",
              "    .colab-df-convert {\n",
              "      background-color: #E8F0FE;\n",
              "      border: none;\n",
              "      border-radius: 50%;\n",
              "      cursor: pointer;\n",
              "      display: none;\n",
              "      fill: #1967D2;\n",
              "      height: 32px;\n",
              "      padding: 0 0 0 0;\n",
              "      width: 32px;\n",
              "    }\n",
              "\n",
              "    .colab-df-convert:hover {\n",
              "      background-color: #E2EBFA;\n",
              "      box-shadow: 0px 1px 2px rgba(60, 64, 67, 0.3), 0px 1px 3px 1px rgba(60, 64, 67, 0.15);\n",
              "      fill: #174EA6;\n",
              "    }\n",
              "\n",
              "    [theme=dark] .colab-df-convert {\n",
              "      background-color: #3B4455;\n",
              "      fill: #D2E3FC;\n",
              "    }\n",
              "\n",
              "    [theme=dark] .colab-df-convert:hover {\n",
              "      background-color: #434B5C;\n",
              "      box-shadow: 0px 1px 3px 1px rgba(0, 0, 0, 0.15);\n",
              "      filter: drop-shadow(0px 1px 2px rgba(0, 0, 0, 0.3));\n",
              "      fill: #FFFFFF;\n",
              "    }\n",
              "  </style>\n",
              "\n",
              "      <script>\n",
              "        const buttonEl =\n",
              "          document.querySelector('#df-48079596-7215-426a-b9f7-890db6c872c4 button.colab-df-convert');\n",
              "        buttonEl.style.display =\n",
              "          google.colab.kernel.accessAllowed ? 'block' : 'none';\n",
              "\n",
              "        async function convertToInteractive(key) {\n",
              "          const element = document.querySelector('#df-48079596-7215-426a-b9f7-890db6c872c4');\n",
              "          const dataTable =\n",
              "            await google.colab.kernel.invokeFunction('convertToInteractive',\n",
              "                                                     [key], {});\n",
              "          if (!dataTable) return;\n",
              "\n",
              "          const docLinkHtml = 'Like what you see? Visit the ' +\n",
              "            '<a target=\"_blank\" href=https://colab.research.google.com/notebooks/data_table.ipynb>data table notebook</a>'\n",
              "            + ' to learn more about interactive tables.';\n",
              "          element.innerHTML = '';\n",
              "          dataTable['output_type'] = 'display_data';\n",
              "          await google.colab.output.renderOutput(dataTable, element);\n",
              "          const docLink = document.createElement('div');\n",
              "          docLink.innerHTML = docLinkHtml;\n",
              "          element.appendChild(docLink);\n",
              "        }\n",
              "      </script>\n",
              "    </div>\n",
              "  </div>\n",
              "  "
            ]
          },
          "metadata": {},
          "execution_count": 62
        }
      ]
    },
    {
      "cell_type": "code",
      "source": [
        "#Box plot to visualize Cluster Id vs Amount\n",
        "sns.boxplot(x='Cluster_Id', y='Amount', data=rfm)"
      ],
      "metadata": {
        "colab": {
          "base_uri": "https://localhost:8080/",
          "height": 352
        },
        "id": "riXHruFhbR99",
        "outputId": "d01972c9-13fa-43ce-d250-2fb2e10b03b1"
      },
      "execution_count": 63,
      "outputs": [
        {
          "output_type": "execute_result",
          "data": {
            "text/plain": [
              "<matplotlib.axes._subplots.AxesSubplot at 0x7fc2125569d0>"
            ]
          },
          "metadata": {},
          "execution_count": 63
        },
        {
          "output_type": "display_data",
          "data": {
            "text/plain": [
              "<Figure size 576x360 with 1 Axes>"
            ],
            "image/png": "[encoded data removed]"
          },
          "metadata": {
            "needs_background": "light"
          }
        }
      ]
    },
    {
      "cell_type": "code",
      "source": [
        "# Box plot to visualize Cluster Id vs Frequency\n",
        "sns.boxplot(x='Cluster_Id', y='Frequency', data=rfm)"
      ],
      "metadata": {
        "colab": {
          "base_uri": "https://localhost:8080/",
          "height": 352
        },
        "id": "a8KujTm6bUrs",
        "outputId": "e574dd7a-8d97-4e98-967c-13aac02b76d9"
      },
      "execution_count": 64,
      "outputs": [
        {
          "output_type": "execute_result",
          "data": {
            "text/plain": [
              "<matplotlib.axes._subplots.AxesSubplot at 0x7fc217cfc510>"
            ]
          },
          "metadata": {},
          "execution_count": 64
        },
        {
          "output_type": "display_data",
          "data": {
            "text/plain": [
              "<Figure size 576x360 with 1 Axes>"
            ],
            "image/png": "[encoded data removed]"
          },
          "metadata": {
            "needs_background": "light"
          }
        }
      ]
    },
    {
      "cell_type": "code",
      "source": [
        "# Box plot to visualize Cluster Id vs Recency\n",
        "sns.boxplot(x='Cluster_Id', y='Recency', data=rfm)"
      ],
      "metadata": {
        "colab": {
          "base_uri": "https://localhost:8080/",
          "height": 352
        },
        "id": "H63dtSGzbXmL",
        "outputId": "c4cdb6ae-f492-4d01-8c4a-b02f4288c126"
      },
      "execution_count": 65,
      "outputs": [
        {
          "output_type": "execute_result",
          "data": {
            "text/plain": [
              "<matplotlib.axes._subplots.AxesSubplot at 0x7fc212901050>"
            ]
          },
          "metadata": {},
          "execution_count": 65
        },
        {
          "output_type": "display_data",
          "data": {
            "text/plain": [
              "<Figure size 576x360 with 1 Axes>"
            ],
            "image/png": "[encoded data removed]"
          },
          "metadata": {
            "needs_background": "light"
          }
        }
      ]
    },
    {
      "cell_type": "code",
      "source": [
        "#Scatter plot for Amount,Frequency and Recency\n",
        "plt.scatter(rfm['Amount'],rfm['Frequency'],rfm['Recency'],\n",
        "                     c=kmeans.labels_, cmap='rainbow');"
      ],
      "metadata": {
        "colab": {
          "base_uri": "https://localhost:8080/",
          "height": 320
        },
        "id": "qtD3YJVlbgu2",
        "outputId": "a263cc53-937f-4934-ec36-76cb2d9d23d5"
      },
      "execution_count": 51,
      "outputs": [
        {
          "output_type": "display_data",
          "data": {
            "text/plain": [
              "<Figure size 576x360 with 1 Axes>"
            ],
            "image/png": "[encoded data removed]"
          },
          "metadata": {
            "needs_background": "light"
          }
        }
      ]
    },
    {
      "cell_type": "markdown",
      "source": [
        "#**Analysis**\n",
        "\n",
        "RFM analysis is used to organize customer databases into specific segments. Basing these segments off customer’s purchase behavior gives crucial insight into the type of marketing which should be used to target them and to move them between segments.\n",
        "\n",
        "Frequency and monetary values are core to calculating the customer lifetime value (CLV); meanwhile, recency gives insight into customer engagement and indicates the likelihood of that customer coming back again.\n",
        "\n",
        "The Pareto principle states that for many outcomes roughly 80% of consequences come from 20% of the causes, so 80% of the revenue could be attributable to 20% of your customers. This means that the most purchasing and most loyal customers are important to remain. It is important to acquiring new customers, however it will costs more to make new friends then to remain the established good one.\n",
        "\n",
        "The company mainly sells unique all-occasion gifts, and many customers of the company are wholesalers, so this online store has seasonal characteristic, its peak season based on different festivals, for example: customers will purchase and stock up big amount of product before Christmas."
      ],
      "metadata": {
        "id": "yuyNUqhybj4v"
      }
    },
    {
      "cell_type": "markdown",
      "source": [
        "**In this online retail data set, K-means clustering has gave 3 ClusterID:**\n",
        "\n",
        "\n",
        "\n",
        "1.   2- Best customer(highR/highF/highM): this customer segmentation shows customer has high loyalty, who visit the retail store most recent, high frequently purchased and have purchased with high amount of goods, therefore this segmentation is the best customer who brings the highlest value to the company. \"Recency\" shows customer from this segmentation purchase 1-2 months ago before December with monetary amount of 1300-2200£, so the online store could start to prepare and send marketing information to customer before Octorber to increase customer's attention, the company should give most of the marketing budget to this segmentation. The company could launch new product information through email marketing for promotion, provide VIP service to increase customer satisfaction, send customer questionaire to know the need of specific product and prepare enough stock. Furthermore, can trace back the CustomerID in order to know this customer segmentation's demographic,geographic,psychographics,etc, information to predict the customer buying behavior, and combine with \"frequency\" and \"Monetary\" data to predict customer life cycle in this segmentation.\n",
        "\n",
        "2.   0- Passive customer(lowR/lowF/lowM): Customer visit online store 5-9 months ago, with very low purchase amount and very low buying frequency, should reduce or withdrawal budget for marketing and service for this segmentation.\n",
        "\n",
        "\n",
        "\n",
        "\n",
        "3.   1- Potential customer(highR/lowF/lowM): customer have purchased recently few times, with small amount of goods. Apply more detailed customer segmentation in this segmentation, in order to know the reason of low frequency and low purchase amount.The customer could be new customer who purchase frist time through this online store, or existing customer who purchase small amount in general. The company should create marketing strategy by understanding each sub-segmentation's customer pain point and needs, in order to transfer this customer segmentation into the Best Customer segmentation.\n",
        "\n",
        "\n"
      ],
      "metadata": {
        "id": "tnhFCcGsbtLO"
      }
    },
    {
      "cell_type": "markdown",
      "source": [
        "##**Hierarchical Clustering**\n",
        "\n",
        "Hierarchical clustering involves creating clusters that have a predetermined ordering from top to bottom. For example, all files and folders on the hard disk are organized in a hierarchy. There are two types of hierarchical clustering,\n",
        "\n",
        "\n",
        "\n",
        "*  Divisive \n",
        "*  Agglomerative. \n",
        "\n",
        "\n",
        "**Single Linkage:**\n",
        "\n",
        "In single linkage hierarchical clustering, the distance between two clusters is defined as the shortest distance between two points in each cluster. For example, the distance between clusters “r” and “s” to the left is equal to the length of the arrow between their two closest points.\n",
        "\n",
        "\n",
        "![image.png](data:image/png;base64,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)\n",
        "\n",
        "\n"
      ],
      "metadata": {
        "id": "ztn1HYO6cU8B"
      }
    },
    {
      "cell_type": "markdown",
      "source": [
        "**Clustering Using Single Linkage:**"
      ],
      "metadata": {
        "id": "KEj46yIdcvqF"
      }
    },
    {
      "cell_type": "code",
      "source": [
        "# Single linkage: \n",
        "mergings = linkage(rfm_df_scaled, method=\"single\", metric='euclidean')\n",
        "dendrogram(mergings)\n",
        "plt.show()"
      ],
      "metadata": {
        "colab": {
          "base_uri": "https://localhost:8080/",
          "height": 323
        },
        "id": "GwbZZkMCc5BU",
        "outputId": "7e1347eb-c848-4078-a763-c438fd84db88"
      },
      "execution_count": 52,
      "outputs": [
        {
          "output_type": "display_data",
          "data": {
            "text/plain": [
              "<Figure size 576x360 with 1 Axes>"
            ],
            "image/png": "[encoded data removed]"
          },
          "metadata": {
            "needs_background": "light"
          }
        }
      ]
    },
    {
      "cell_type": "markdown",
      "source": [
        "**Complete Linkage :**\n",
        "\n",
        "In complete linkage hierarchical clustering, the distance between two clusters is defined as the longest distance between two points in each cluster. For example, the distance between clusters “r” and “s” to the left is equal to the length of the arrow between their two furthest points.\n",
        "\n",
        "![image.png](data:image/png;base64,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)\n",
        "\n",
        "\n",
        "\n"
      ],
      "metadata": {
        "id": "lC9DbSRvc8Mr"
      }
    },
    {
      "cell_type": "code",
      "source": [
        "# Complete linkage\n",
        "mergings = linkage(rfm_df_scaled, method=\"complete\", metric='euclidean')\n",
        "dendrogram(mergings)\n",
        "plt.show()"
      ],
      "metadata": {
        "colab": {
          "base_uri": "https://localhost:8080/",
          "height": 323
        },
        "id": "PBnOQvLRdJ8o",
        "outputId": "029b407f-c23f-4e30-d4f3-ad55bd798c24"
      },
      "execution_count": 53,
      "outputs": [
        {
          "output_type": "display_data",
          "data": {
            "text/plain": [
              "<Figure size 576x360 with 1 Axes>"
            ],
            "image/png": "[encoded data removed]"
          },
          "metadata": {
            "needs_background": "light"
          }
        }
      ]
    },
    {
      "cell_type": "markdown",
      "source": [
        "**Average Linkage :**\n",
        "\n",
        "In average linkage hierarchical clustering, the distance between two clusters is defined as the average distance between each point in one cluster to every point in the other cluster. For example, the distance between clusters “r” and “s” to the left is equal to the average length each arrow between connecting the points of one cluster to the other.\n",
        "\n",
        "![image.png](data:image/png;base64,iVBORw0KGgoAAAANSUhEUgAAAVQAAAD8CAIAAACnyMvVAAAgAElEQVR4nO2de0CT1/nHn4RAEki4BBDCTbkIUu8KVourVC3a2U6mtV1txc5iu66167pCq11nu1XbitO1uu7XKq6o7dq6MF3bVWih0qIVuYioQCJ3QsI1FxLIhVx+fxyMAULIPSE5n7/gTXLek7zney7PeZ7nELRaLWAwGM+D6OwKYDAY54DFj8F4KFj8GIyHgsWPwXgoWPwYjIeCxY/BeChY/BiMh4LFj8F4KFj8GIyHgsWPwXgoWPwYjIeCxY/BeChY/BiMh4LFj8F4KFj8GIyHQnJ2BdyQIS53qL1d3tMjunxZ/zpt3jxKeHjAXXf5RUU5q24YjA4CTuZhKwS1tf3l5X0nT6oqK9EVenY2KSgI/a0SCiXHj6O/KRs3hm7aFPngg2QGwzl1xWCw+K1HJZP1/vhj5wcfyM+dA4DQfftCVq3ymznT4PA+xOWK6+u7z5xBHQHzyJGZW7fiLgDjFLD4raKjsLDznXdUlZX07OyoJ59kLFlColJN+aBCIGj/9FP+rl2k1NTYt96KyMiwd1UxmHFgg5+FiDmciszM1s2b6enpi9jsJceOzUhLM1H5AEBmMBKffz6ls5Oenn5r3bq63FyVTGbXCmMw48Ajv9moZDLO4cN9r71GSk2dffjwjLQ0KwvsKCxs3byZnp2dtHcvtgViHAYWv3mIOZzG3Fz5uXPRBQUxW7aYPtQbp/fixVu//z0ALCosxPrHOAYsfjPgFRffWreOlJqa/NFHjEWLbFv4EJdbu2kTANxdVmarPgWDMQJe85sK5+jRW+vW0bOz7y4rs7nyAcAvKmre6dOqysq6F17A63+MA8DinxqVTFazcyd/1y7mkSNLjh2z37AckJiYXF4uOX68JT/fTrfAYHTgaf8UqGSyuhdekBw/HstixWza5IA7co4e5e/aNf/qVXvMLzAYHVj8xtApP7m83Hqrvuk3rX7sMRWPhxf/GLuCp/2TYq3yNY356+IzjlVzK0/mpkcQCEtyinmmdLUkKnXOgQOqyko8+cfYFTzyG8YGY/5g6a7E55vWzBmSp72cu9ab3+IVFHLP0sU0Gs2UT9fv39/32mspnZ145w9jJ/DIb5j6vXutnO2reC01PQ3na6i//FXCUEu9TKP11qhM/3j8b34DAM3vv2/Z3TGYKcEhvQbgHD0qzMuLLiiwYp2vEXXcYkNc2qp5EVrF3PnzIyMjvb29fX19Tfw8mcFgHjnC37VLnJ0dkJhoaTUwmEnBI/94eMXFaFcvLivLimIEFeeLBxhL705mzE5ISEpKCgoKotFoRKIZP/jMrVsBoKe42IpqYDCTgsU/BkFtLfLkSXz+easK0vQ3XeVDFCM6LHDWrFne3t4WlKEb/BUCgVWVwWAMgcV/B4VA0PD006TU1AXWr7SlvIb6nsCogISwGXQ63eJiIjMzAaDnwgVr64PBTACL/w43X3lFVVm5qLDQ+t11Nb/1eu9dK+6KjAoKIpEsN6z4RUXRs7P5J09aWR8MZiJY/KO0nDwpOX58dlGRLbbWNIOdTWyYwQym+vv7EwgEa8qKevJJ+blzYg7H6lphMGPA1n4AADGH07l9e+i+fcYz6vB6BJ38/mGZIikuMiLMSO4twZXzRQOM2cwZfibu6huBsWQJAPQUF2ObP8a2YCcfUMlkFatWgdFYWrlc+faH/y2ubtVdSU1kvrrz55N1AYODg8XFxWQyOT093Zo1P6J+/37JlSt3nz1rZTkYjD542g+cw4dVlZXJH31kRPk79xYUV7fSgiODY+4KjrmLFhxZ09z39J8/EYqlBj9CIpFmzZqVlJREtYVzfmBKivzcuSEu1/qiMBgdnj7tF9TW9r32Wui+fUZC6L67WNfEFwWEx1Joo+M8yYdK9gsY6Kj/4uvLz2xdO/Ejvr6+ixYtIhKJZm3sT0ZwSsotgIErV7Crr0omG+rsHGprU0mlch5P3tEBALR580g0GolG85s1Cy+OTMejp/0mxs89nvMRV6INipg97vpgX4dM3PfTyRw7VxMAoCIzk5qYuODAAQfcywUZ4nJ7SktFP/6oO/sAAEipqfT0dAAQ5uXpvzkoJydk7drglBScE904Hj3yd5w5Iz93bv7Vq8b39lp6xLTgyInXvUg+dqvaeEI3bercvh08T/y9Fy9yP/4YaZ6enR3LYgXMm0cJCRkj7AMHAGCIy1X094vq6voKC2/l5d0CCMrJmYmdoyfHc9f8Q1xu5/btQTk5U+bMYNAoapVy4nWtRq3/r0git2X9xkKLjwcAj9rw6714sSIzs2HlypG+vlgWa/nAwJJjx2I2bQpITDQ4pPtFRTEWLYrLyrr77NmUzs7oggLJhQu1SUl1ubke9buZjueKHwXMJb366pTvvG9JrFIqHKd/rUYtE/elJjL5/dLzl9tez7/y+MHy1i6RnWobkJwMAENtbXYq36UY4nJrdu5sWLkSAJLLy+8+ezZm0yaz5vB+UVFxWVl3l5XFslioC6jfvx97SY/DQ9f8gtra64sXm5iZi9cj2JyT7032pYdGe1NoAKBWKcX8ZnLAjNiIsC6x8sFFYfcuZM6NC7FrnS8uWxaUmXnXnj12vYvTQacY6B9k1Nol6uyTLrsrnOJjySpVJZN1nDnTuX27ndIuT188VPwVmZkAsPRf/zLRk7eilvPmh+eFQwovbzKR6DWiGAaA3z669rMrA+gNS2L8F8czkmICI0NpgXTKlAU2t/MvVNQ3tvWTiIRFcyIzfrYwKGAKd6C63FyVULjk2DFTKjwdUclk9Xv3CvPygnJykl59VTfUd/dL3v3X1ZYBRbC3fG6418qlCXcvMnsZP8Tl3nj+efm5c8wjR6yN2nIXPFH8KP2+uYk65HLlT1fZ5dW3AGBxckxaypygAFpVQ/fez2688ss50aE0dqeorkVQxhbEh1BTZzOSZwYlRAUa7Ajyvyg5/lUNkehFovhp1aoRxXCQH3nvM+uNt2k0JK5y0+elE+e46ZhcrvzDgc9rmrrJdAYlIIzo5aOQ9M2bQXj3pYcpFPMMriqZrCU/n79rFz07e8H77+P8iB4nfuTPR1240FZDKL9fmptf/btfJKUkh6MrrV0idqeolS+5xBEAwD2JjLmxQbOjApkhNAD4qqRqX8H31IBQenAkgegFACqlbLCnjUZSf/LODiPjf+/Fiw0rV7pTYi+diWS4p+/ioU8UJErEhnv9oiNa+RKJbAS9dInTN6L1GvMxrVba154+J/DN3z1swU1R14/1Dx4ofjR+LmKzbbgDhPR/6pVVBl+6xRXdbBU2cAeFw6r50fSyq7eGZbKAGTH6b1MpZQMd9dkPLnnqkTWT3UXM4dQmJblsSm+RRC4cHN3vGFaoOntHfR+H5aom3qDubWXsO1a3+BBqVDBVJZMP3GihqhSpP08hBwWgl5KiAwGA09a97+QFKi2IGhCq1WrVGi0QwItIHBZ2Swe6WHlPGY2wmBTUjWL9e9Y+v0om63znnaCcHNvu/TJDaAaVj15ihtDuXRQFACKJvOIG99saoi8jYkStIRCASCAAAJFAIPlQfXz9K+u7ngIAALlSNdG45RcdDQDSlhbHiF9/54Ldeedv/WH5eqdEMDyie2lV0h0pJkT4+1JIAOBLIW1YHuNLHv06Tz90l/5SSHdImcFDCm82No3IJEHMeLVGq9FqvYgE9ItR6AzpQFfNjRbLxD8jLQ3KyxtWrqwD8GT9e5b4ed98o6qsnHn6tFPuHkinJET4SXvbGFFJ3hSaRqvVakELWrVGSyAAmR4yoFCKJPKuPuk7Z27uXBePugwdqI2qpIajCYzD75fKFaPpQwcG5f3i0SG6TyTjC0aPBpPIVDUdd4ZoNCyjv5kMamjg6N9zY4OiQ0fXJtvIJLSWsQzjytdBIHqBRkvyIupCo613r8L6B48Sv52GfbOIDAsGAMWQ2JtCIxIIQAAAAgBotVqNesTLP+jxg+VEAmHVHIYvmcTvl46TVlBOjvTGDblSxe+7PanWm2ADQF3LnUm1/rDM8PWeH30nuHBB3OiAGRpIXTmfqbv+WijNsu00C1DJZOw331RVVhqxYvj5kgFArVKOU7tiWAwAocH+1lRAp39ObKzbb6AaxIPE79xhH0Gh+GQsjS2ubqXQGSSfO6PNsKhnRD6sCZ4BoHloSZhMof7ih7am3mGNVsvw9Q70JQ0r1J0iBVAzAAD2XVgS40+njj47/WF59eKIYP/RSbWVw7K94Rw+jJKjGxnzF90VCwBifnNQZCIyjgKAVqMeGuAF+ZEXzpllZR1mpKVJCwo6t2/vmDPHMWexuRQeZPC7uGyZDY38FiMUS7ft+adoWEXxDyH7BWg0avngwIhiOCY2UTxCYvh6P75qpu7NDDq5vUfCG5Dd7BzsEisWecvCm24+uO83sZGBTvwK1oNM7tEFBVOmSEabI95kX9+gMC+Sj1qllA7w1COKv7200YLdfoPU5eYK8/JsawOeFniK+JGB15FH7hmB1yP48LNS/dQgLz5yz8a1qfyB4TNlLdwBWdbaeN3GoQ6RRH7pzLeV5S2qtBU1HYOrkhgJEf5JMYHxUYEOm6vbhCEutyo6mp6dbWJHXFHL+fNHRQLpqJ0iLizg1afWzZ8z0/inTMeUbC5uiaeIH7n0uVQyHKFYKhBJACAyLFjfX6W1S3TiPCeCQX32l/PHfUTn5yNXqpq5InaH6GqzoKZjEPkXxoTRJnMrcilqdu6UXbuWcv68We76ze189Ef8TKbxd1oA2kYN3bfPoxb/HiF+9GhnFxUZT9Hn+kzm5Ifcisb5F0aG0lxwzY++ggs+i5aTJzu3b3dZNwp74BHir9+/X3j2rBtM6lAvZnx1qnMr0vcvjA6luYKZQCEQXA4ODsrJcUpWEg2/+j+n39uVe4oP4fe+vP/gi4+lRt6ZJaHJPykiwvSIj+mO+4sfNTjbhnMIxdLCoorSyuaWHnH6gplpi+PWpi0w19XcAkwRvz78fmlXn7ShXVh5S9DcL1uVxFgQx0iKDnRWR4BMa8sHBpyQY0d65e2f/+o/iS8++4ukGV6DvVfOfUl69JPcDCqZrHuLWbGeboD7ix/NM23oEs/rEWS/cVo4pPDx9fcm+yqHB0cUw6mJzAMvP2Jv/Zsrfn1EEnkTV9TRI9U3EzjSXogq7yRpaQTf7pmTUZN5cGtm8oyAgACpVEokEpctWxYQEKD/vrrcXMmFC+baI6Yp08lKbBn8kyfp2dm2Ur5crtz55idimSo45q7RjfrgSLlUUMlpffvD/1oWauIYAumUlOTwlGTYlA46e+HXlzvK2LVLYvwTI+lGwhBtQnNeHik1NeKBB+xUvnGGZCMqYDd3yhbsWBFGoymVSqVS6efnN+5t8S+8UJWX1/7pp54Q9uvm4hfU1srPnYstL7dVgT9dZQukckZUkr6LDoXGUAZIi6tbXxRLpwzLdwUoPqS5cSEo+0jubXth6VXe3s9uIHvhzHC6LgzRJvRevCg5fjyWxXLScppInr/x4Z+dOfbeb1N7B46+tOOXKRETlQ8AflFR6HDUmVu3uv3g7+bi7y8vJ6WmokNvbMK1xk4vbzLK56OPb0CoTNzHaeXZyvPEkcRGBsZGBq5fPitXz154rKgZbGcvbHXqsA8AvqFLHt5zIOKbosayvz2cevrJz7/KfyTBYBK7mVu38nft8oTB353Fr5LJ+Lt2MY8cseFoIxmSE4leE68j59NhmcJWN3IWujDEZ2+bCRrahf/+sV3fXsg0MwRAzOGgLB1OtKL7+fktXHyfBgJnJkcR3z/68Xuf5mzcfRfZwNHpupPR3X7wd+cEnoKaGgAIWbnShmUuTo4ZUQxPTOY7IpcCQEzEnTR+dk3m6xiQmWDb+uT3d6V98vLKDctjhuWqE+c5m/ddeD3/SuGFppst/XKlaspy2o8fd+6wDwAEAmHGjBn33HPPsrS7/b0JMMQXT57PE52M3vXVVw6soBNw55G/v6yMsnGjbX020lLmQMH340JNVEqZpLcjNiqiS6i+1NDA6ZLUdAw+uChsoove9CWQTgmkU+bGhejshZ29UmQvNJ62TCEQCPPyogsKnDbsaxrzd54k/XbXtqVMf3+Ahh+v1M159M2FEUq5Vqs1eIayX1RUUE4O/+jRmC1b3HjP3223+lQy2UVfX1NCR8ylopbz4qFzXt5kv8AworfPiEwqH+z3D4ki+AYBQHwI9ZkNSXbaP7Nmq89+6PwLr3dKgnxJyVH++mnLOEeP8nftcs7ePgAAaLXq5kv/+c/pI7n/9wNA+D3Pv7w6YcaCKN/V6enBwcGTfQrt+btIMIidcFvx2zXj3fXG9gP/LG7ij+a3yVga+8yvVpdc7fnsp64lMf41HYO/WhG5JDHU5sm8UYt0NfHrM9G/UHXu6zkJ9Pv/+JyzqqRSqa5evdrU1OTv7+/t7S2RSORy+YIFC5KTk0kkYx10RWamd2io08NA7Yfbit8Bx1qjyBxdWI5cqdp3qiYxkv5QWmxdc/+31by2flnGwhk27AWmVwJfkUReVXzl4tdXe5IXtEvVFtsLrUSr1Q4MDLS3twuFQo1G4+vrGx4eHh0dTdbz7TMI8vZ34pzF3rin+O035zeOXKnK/bAifX7YpvQEABBJ5LbtBaaX+OF2VEXalSsGwxBNP+bAetRqtUql0mq1Xl5eJBLJ4FJ/HMgx3PGtyGG4p/jRnN8p02N+v/RUMSd36xjPApFEXlrNvXC9RzissqYXmF7iR13wxKgKlIbM9GMOnEjNzp0jfX0uFQluQ9xT/LoBx9kVGQ+/X/rTjW6LewE0EZ0u4kdd8JRBssaPOTDyKQeEJ6GMQ+50VoI+7rnVJzx7NtQlp2rMENqm9IRN6QmoF/jwa7Zw+GbGwhlrU6JN8aWV3rgRlJPjgHrahP6yMlJq6pRbrci/EACe1bMX/vvHdnTMwWRhiH86fS1j4Yxt65PtVXsAAAhOSbkFMHDliluK3w1HfrQfNl02aXRzAQBInx+2Yl64kV6gLjcXAJwSDG8BZQSCNZHUOv9C/Xjk6Bk0tI2qM6/aW/81O3cCgFva/N1Q/GhunDY8PL3cM0zpBSoyM+nLlk2LVFNoV9JWiXEmS1v23n/Z9h7/p2lzMgU3FL/rdNX6Z3smzgpLmR9nSv451Av8p6IryJc0rhcoIxCmS6oJu2pGP20ZAIRTRqJp8pS7otHpqba91/SaSJqFu4nfWZt8E+H1CJ7+8ycDErmXN9nLm6wcHgQA46fxjeNmS38Np6/4Wi/qBZYlBDVHh0wX8du1C0b945eV3F6JckQuVcmH1IohpUwCADZM6a3DyvWLy+Ju4rftbNNi5HLlw3/4UDg0EhiRgOJ/tRr1YG+7XCp8bft9D65JGX2bUnWlvnvKgFnUC5yv4XuLxPenRmxYv9DVtsTGYdcuWCSR//WLutgZ1IL/VWhVCnpoNPqF1SqlmN88ohg+/ZcnbJvhty43V8bhuN+Gn7tF9Ynq6gDAPynJudX47mLdgESuUz4AEIheAeFxPr7+H/z7ErryQy135+GLl+t7g/ynUPLcuJBt65OP/Jyxtvqr4RHtrg8qXs+/8kMt12UDB4c6OwEgcMECexQeSKf85allgp52tVwSwIzX/cJeJJ+gyEQi0eu9UyU2vuPy5fJz51QymW2LdTruttUn+vFHena2020zl+tavcm+E3N+UP2Dhd2t/y1r/K5uICqY+ucnFpq+WS1taYkuPbGqJH/n7bnAsaLmWSHU+5dGLIgPcam5gPjGDbBzF8z6oYEaEDruDD8C0YsaEFrJ4dv2XgHz5gHAUGeny4ZUWIa7iV9y/Hh0QYGzawGKEQ3By8Bv60Xy8fEL+rCUCwDN/TL9w+r1j99D6B/CBwDdTSPKx/fGdIkAwJdMWjmfuXI+s6lL3N4tcbVeQNrYSNm40d5dsMGzegmGUq1YCTocXXzjBha/6yLmcMBus02zCGP4qeq7Jl5XKWTKIeG+xx4orunhDsh+v2kuGvn1D97Vwe4U6f87IpbwZyWfKWvRv8gdkDX3ywBA0DGiO2A7JogSwaCQSXfWdAkR/r6UMc86JIASPHa5QbHdwZ6SK1foy5aZ+6kDn9bQqd6PrZ1tSv8VFxbAlUj8gsYfajYxz4r1kKhUysaN0sZGm5fsXNxL/DduAIBfTIyzKwI/S0lk/dAwJOzWb50qpUw60JUYEbRoTuSiOZE/1HJ1bmoUH9LE+f+4K2Urdq4pKIjbaiwfoVypqmH3ll3jl98SJoX5rpgTkhgVSCIR9Y/xRpRe5Y27on+kt45VSeMD2qbsR1QKBb9zhJk1x0g9DZJ1f/wR1rXtf/0xiaF5IDVixeIkI6nQH1u/ZF/B93KpgEK7U0OVUiYT9z25frG5t54SamKixPW8xa3Eraz9DgjjNZ297/27uLqVQgvyDZwBAGqVUtLbodGoWXlPRYSNtlcU8LN6adSUYx2KMDN9n0+uVN1o7q9s7PuqtmdVEmP14oh58SHmBtKKJHLh4Bib4rBCNa4fGZarmniD+leU0uGfusZbIhm+3vOj6eMuLoi7o9vmzr7CixyVQubjS/ehBasUQ6Th3mOvbdb9VuO/oFz5hwOf1zR104Ijfag0AtFLMSSWiXoCfUmn9v/a5rv90yukykTcSvwu5QAnlyvPfVf5ty8u6a4kRgT96dkNlu1CWZzDR78XeHBRWOqcUAt6AbMwmEaF3y+VK8Zk+xsYlPeLR/uIzm7hZxfqvUhkb78AAoGAmqRKMewlbvvknR2TKVkuV7794X/1Dztes3jWb7eumay/sP5LuXIaFQtwH/GjvWVX84HRHcUL1h0vi0YeaxzmHNYLWDBIbnvlWGu/LDg6WUsgajRaIIAXgaAekQ901E/pFsXrEXTy+wEgmhliD9kjUOfrdP8R2+I+a360t4x2ZVyHoACaTaag0sZGUmqqNfZzig8pJTk8JTn81xuSr9R3n7vUsfezG/boBZCp3/T3C8XSJr7IPzRGDQTQaIlEApFAAACSD9XH17+yvuspox+PCGPYT/M6kMFf2tKCxe+KIGsfJcTGafNcBMmVK/T0dJsURfEh3bso6t5FUSjRkM17AZVIRDVnboxmRiQy1YtAJIx1OvMm+15r6bayPjbB6Z4j9sB9PPzkPB4AuGW6NZVMJj93LnD5ctsWG0in3Lso6i9PLfvk5ZVzY4POXerYvO/CP/5z/WZLvzXFSi5cIAWakWYjMiwYABRD4omZtZTDg+kLZlpTGRtCz84WXb7s7FrYEvcZ+eUdHdMo0YVZ2HtFg3oB3Vzgs+9b2s7ctDjdmKqykvbqq6a/n0LxyVgaW1LbSaEz9E9AlEsFI4rhjDT7huubDikoyNlVsDHuI35hXh7zyBFH3pHXI5DJFWCdJc8URv0XoqPtehewdS9gOs/8anVFw2khl02fEeNNoWk1asWQWDrQlZrIXLHYyWEaOkiBgW621e8m4kdBF5SICMfc7npj+zv5RS09YvQvg0b509Pr7HdEp+jyZQd4y+ozrhfQpRubshcY4nIBgBYXZ9btIsIYJ958YvfhQg7vzr5dxtLY3c/8woifj4OhzZnT99przq6FLXET8TvS1K87sScgPNaL5KNWKSXCnhcPndv/7Pr7VtjlfC7HT2p06HqBcUkHJ+sFVMPDAODl62vujSLCGAXvZDe38zt4/b5UcmJsxLQ47Hxa4ybiV/T1AQDJ/DZnLnK58s8fFXmTfXVn9XkDkH0DhF2cPf84/7+7YlGTFUnkl292t/Il1h/Xh8bSwMW2d1k1i8lSj9p2RRA/k2nvNRRGh5uIX97TAwAOSLF6rbFNIJUHRiToR48RiF4BzPj+tuu19a2L583+8mLrZz91/WpF5PplNlili+vrASAg2VXsXhN7AQD2lKlHMS6Iu4ifNz5MxUSEYmltfeu1xk66HzkueobxYBIA6BsYBACyb8C4614kHy9vcmHFwMHzPQDw1H2zFs+2zXjY/913lI0bXXALc1wv8Pa/rgHA3eEkvyU/d3bV7AIyZIg5HLfx8HUX8Vu0z1dRy3nzw/PCIQWR6AUAGo2aQbtwbO/jU3qMqVXKicHk6hFFbIh3i1DF8PXuEcrOlLVIZCoUZhsfQo0KptKp3rFMOgBEz6D5kkkmhtA6ccFvIvq9QOn3N8+uyS7+krd2KdHN5gIWGDJcHDcRvwU0t/NfPHTOm+zLiEpCKXdG5FIRryn7jdNGgkmWzIsD+F4uEYyLJJeJ+wDg/pSox9YHv/2vaxLZyAsPL9B5y7V2iUAvlOXryx2gF0KLwmZ1qTuSogMBAJ1mOZqhwNkLfhNhhtAemE2OemRTUH3XtXZxbn71xATEGNfBTQJ7yggEc9NFvvDW6eqm3pBZ8/VX7yqlTD+YhN8v/a6q87Ofuo7vWq5rvihW1z80hhoQiq7IpQJxd2tqIvP9Pz4BAHKl6kzpreJrvUd+e/eUsbq6NB4odUefSMYXyAAAJfnxJ2qZ/bywZXNnRwf6Uki6yHkHnFRlGeNC+sYlIJ7WvYDFgZUui/uM/CSaea2qksP3Cwofl/WJ5EOl0IIKL9QvnD+39Crveqfkl3dHfvLySn0N737mF8KDX1RyOoZEPV7eZPWIQj2iWJIQ/uauTPQGig9p2/rkJYmhFPLUP68ujcc4PecCAMC3v92tJPrMStuAougrG/skshFd9h6Dq4kgf4oTM3mRQ0Ph9oYfAMyNC0HZR1EvgOYCD/9spoukG/Nw3Ef8ZiEUS2GSfG8ksu+IN2PvZzcAYEmMPwBcvtmNdIWm4hSKz/t/fKKilvO/srphhdqX7JW+LGmipdD6DTCFQODzj3eSWKyYuBCDpemvJoblKiOrCV8KKTqUBrdXE1ZWzALG9QKulnTQM3EH8aOFsVleZWhJbzDfm0IqnMnwyViR/NlPXYvjGShlFdIVmoqj8ZbJoK64OwXNw4P8KfZwRBuoqgKA4MmT4d2eMhh4SZeEB60m2rsll+t7dTuuaDwAACAASURBVAZIXV4dlEvH3quJ643t/yurO3uxkUGj3Lck9pf3L52OvYDDnKwdhjuIH2GuMXbzvcmsHxp8A0L1g0kUw+IRxfCjGXc/uCY5eWbQe/9lP75q5vrls9YvnwW3p+JovEWiQpnwxnUKoYFUJCcrU2KiTT7LnBcC6aOTf4N6Rnl1dDm50LfQrSZQHmFbrSbyvyg5/lUNkehFDQiVAfynnMP6oQFZVXRzgR+u8d/9T+OSGH/X7wXcKbbXfcRvLlsfuqe0ugUFk5B9AzQatVwikA50JTAD16YtAICU5PADobQPztX7Ukj3LrqjQP0lun6ngBTV2ScdlqvQ4hzNwNEwi7SEpt9iyRCdSowMCzYyX1DJZMK8PDulIdd1SWg1gb6FDtS7oS+iW03osoyj1QRK4znlaqKilnP8qxpqQCg9OBItsrTBkZKBruNf1SxbkDB/zky4vSL49YZklGjIyl4ARVsZ/20xCHew9ltshuX1CHYfLuTwhLoraxbP+sOOB/T3+eRKFQBYs07W7xSuNHTXtPQrwZtA9NJq1IFk7eK40PlxwToV6QZqg5nwnM641UQrXyKRjehWE6E0b6lcRZVKMxaGhMZFhgRQ/nryO55IFsSM1y9Eq1EPdDYsiWWgzZFx6KcbQ73AsrvCTfn9rze2H/hncRN/NN+5zfP5uV8OT3cQPzqfz+I9mOZ2fkNTFwAsmRdn14RQn3918W9fXPLyJvsFhpHIVKVMOiIfolIo2x9YOqIh8AUy3cR7VRJDdKsjsqc1PuuXaNvfZff29OH3S2+0DHx1uqwzOCLEn0wje9V39hNJZDTmo1wdBCAQCKAclgyLugv+9CsjqwkjSQeRvWDL6tm6TuGrkqp9Bd/rflvFkFg+2E8je5148wlbPVPO0aN9J0+muVFUrzuIf1p0ybweweacfB9f/8DwON0ug0opE3LZCeH+Be9k694pksh7uL3lfzjove4+QtIcvkCmG1rRlBtZ6fQ3IJzxhQzQ2iXq7JN+/z5rMGlO47AXAAwLeCQSCTlEoZaGHtKIQqbRqNcsiDa+mtCdaDKuF0iIDvzXt7cucQTovDOhWPrzXf8w5be1hrrcXABYcOCATUpzBVyl3bg9P1Y2AID/jJn6+4skHyotOJLD6+D1CHQDVCCdMtzZmPDNkZSPcvXn/MgdCFnp0FJc1ykgEx1SjsM6BVQfdqeolS/hCWQ1HYNLYvwTI+kMjYyuGWoE/zd/NW/vkQbpiA8SP4FAAACUqmuor30mwyd360ZkLkGrCZ0B8marUH9vAllSAeA398dx+4ZY5W11XGn6nOD75oW+frr2iVWzxP1d6LcFgpdao/Uijub/pM+I4fBam9v5OFLQIFj8DoLT1uNN9p0YEUAiUwFgQCjRn512nzkz0c6vcwcat+c/sVOA2/Y5/U5BtytpsS1dJJF39Uk7e6V1LQK0QlmVxGAyqHNjg9Yvi/7L7YXJyR/Kvpb5Hn0mJTYy8NnNKyaeqzMk7EZbKrorur2JKd0ZYpl0iWxkRXxgZYtoSKkGgCPfNPl5ach+Aei31Wq1ag0g/SOv7Q5ev03Ebz/7q7PA4nccGo16spd8qXc6hSEuV3L8+OyiIhOLNdgpmLsrabBT4PdLu/qk/WJ5XYsA7VysSmIkRPivXhwRGUozuIv5Qy33a9Ks7P6y2Mj1ALA2bUFJRePlxlaZ7wDVPxgAZIMDyuHB5XOYD65JMfELjnNnQHsTIon8y4ut52t7wvx9ugRDfjPi1BotgQBeRKJao0H616iUAOBLJZt4oykx14vUxcHidxArl87+35XmEbl03LndMokAABiBd46y6iktBYDgFFO1YYTJdiX1OwX9XcnIAHKgn/eIWqNWa5v7Zf4UUlK43/Lk0A3LY55+iGbKlGFBfMhb82W8R96BD94GAArF5+2XHjn3XWXB19XC7lYACPIj52y/z3TlG+TU+QaUMeHvzy0PpFO+/+n668e/D2AmEEg+Wo2WQACNVkvQjv62ibE2SO5mgSOZ64PF7yBWLE5i0C6IeE1BUUk6tyKZuE8m7tt8b7L+5iL/6NHQffvsGsCv6xRau0S+FFJ7t0QiUwk6RogECPLz9iWTGHSf2DDFiEpzvVNS2dY00VVhMv+lQDplOMAPABQCAfoKFIrPow+mPfpgGq9HAAA2sb0nzwz6JC1W1xmtWJwUQL4g4jYGRSV5eVPUGi0AqDVatUo17re1GLWl6clcGSx+B0Gh+Bzb+3j2G6cHOup9fP29vMnK4UH1iGL5HObzT2To3tZ78aKqsjLk8GF71EHfRNfAHWzulyETXWggdeV85muT2wj1XRWQpzBa849zE0a7koxZswBA3t8/rv+y4TZqSvKYeGr02+58r1zrRR5RKrQa1YhMOiIbXBRN0/9tDcLrEdTcGD31PDkhcjLrgLSlBQDcJp4P4Q5bfa7pD2MQoVhaWFRRWd91raVnzeJZa5bPGZfzsy43V8bh2Oqg4clMdDPD6dGhNOt9B5CVHpniUDCyzlVhKV1NiwjV7xTs7arQ2Np7sfK6kd92Ih9++t3H56/qX9l8b/LzT2RM9A6s379fePasO23yg3uI320CrYe43KroaGvOGh1nogOA+dH0hAj/mDDaZCY6e1C05pc+D/5ixsaH0AZEE2/QubuSBjl99se/F17WuR5rNeohYfeQsHvzvckvZz847s01O3eSgoLcaZMf8LTfpeg6exYAwsw5kw/51fSL5E28wTK2AM3DF8QxTDfR2QPm0tmq+ktzf//rKXclndUpCMXSvxdeptCC/ENj0BUC0YsWHAkArB8atj50z7hFiuT48VgWy06VcRZY/K6CSibj79rFPHLEiKkPiaezT9reLeF0SWo6BuNDqMlR/rFM+pZVcfqJw5xL4PLlrZs3w7Fj464bd1WA2xsQBgOoje9KmkhrlwhVoLa+FQBoIePXiX5B4UPC7pobLfrid0tTP7iT+NW3s8dMU3jffAMAYRljDFSTmehmhtONm+ici7mJbselM7JfADXKqvratiVDwwoAmOhzZTC/y2gkf0yMKd9lGuGKTcdcUAub1menq2SyznfeCcrJ0TJjbrb0IxOdvl8N8qKbFuE9cFsn4hs3rLfCWB9Ard8pvPDwgjOlt3YevrhhAQ0AVEqZfjYHmCS/i7Sx0TWzp1uJO4h/WoNMdLWlNfV3P9cTGE38oAKZ6FYvjtiW4TgTnW0hMxiUjRtFly9bbLmcEvTLTOwN9TsFFCMwsVOYFUI9dVnoy4gYEvADwsdM5qX9XBjN0XwH4dmzoebkhp0uuIn4KRs3ShsbLfsschR9SM9pxK6MM9Gh6Su1sm45YTBj16OunMTGLILWruXv2gUON49P1ino70qiK5SAMGlvm5B3ix4SRfKhqpSyIQFfLhW++MgYa98Ql6uqrAy0j+eFc3ET8VMTE1Ui0WSvCsXS4h+v1TZ2qTRasjfxofsWohN1keyRo6gpmXYtQLdo7xPJJjPR9V682FCwO7m83G2UDwCBixfzAQS1tS6yFkOxQwOD3Rdv9rb1y3Y9kLB8bnj5lcB9Bd8PdNTr3vbiI/c8+mCa/gdd7bg0G+IO+/xg1AeD1yPIfuO0cEjhTfYleJFQpu2UpKjFCxewKvnxIdTfb5prw7U0GmEMmugM+tWoZLKKVatIERG2cuxxEVQy2UVfX3MPU7ArP9Ryv63mbbwnRt9BEJ3XNjSs8PMlL7p9zqo+NTt3jvT1udnTQbiJ+CfL5yGXKze/9KFoeGScR71CPhwUFq1Uw5IYf7TPjNCFjgOALoMlAOjSSyD0NazvRadvoosJowX7U6bsVlDNk8vLZ6SlGX/ntMMNZOOCXZgNcZNpPyUsDAztLf10lS2Qyhl6ygcAakDoiLKjr71+3b0r+gaVR59O0UkUbSwhkNEI/Y1MR+jv2vZB8e3rAODtRfAnkwL9SBRvrw1LwwNpowGkVDJJV+Bk/io6I7/7KR8AwrdsubVu3RCX6/pu15MhqKkBgODly51dEbvgJuJHB8Uo+vpgrPjLq295eZPHRdECAJXOkIn7tqZHdQnVL/+zZmUi4/ePLIKxQ7p+j4BC3/gCGTLRLZrpvyCOET2DRqN6azSj0w19Y5IuqQYA6JzYEPqTC2p/jzp2w8y0n/Mut+lPLqzM+e0iBKek3ALoKS2dvsNmf1kZKTV1uruNT4abiB89HnlPz8SXvLwnzeWgGFFfru+dHeqbEOGvu2jERLdyPtOIF53BwzMmoptcKAcHv3njS7+ESGpYKIydXOhO3QG9AzYQKFQGgQJmEC6VzA9BZjDo2dl9hYXTVPwqmazvtddc/Ihka3Ct5mIN9OzsiRvLibPC/neleeKJ2mqVkkD0OvFtR3w4fVtGolyhOn+5zaAX3V9s7Vejm1DUF3yw+Is3lg8MGPceQRvX6G/9yUWfSFbXMpr9ctzkAvnJo791h/+C3sk84KjJBZr5T9Mz7Xt//BEAIjMznV0Re+EmBj+YJLMyyplLoQXp+3KolLLB3k5/ZpwWiAxfb30TncNC31Akoj0sSTo/eQRyjEXoOgvQO4QDxk4u9M2cMHZyYcGeCDKYMY8cSXz+eSNvq2rormzs+/WGZJeavFRkZgLAtDZYGsd9xM8rLr61bt3EqH5dtnxacIQXyQdldKcHhsxNjG/oHl4S4/+r++KsP1TTXCoyM1U83t1lZa5w/JP+5ELfzKk7Lxz0DvNC6E8uUCge+lt/coEicDhHj/J37UobHjbyTeVK1T+/brjEEby6Za7uWfB6BOyWrqFhhZEcG/YD9c6zi4oiMqZIBzJ9cR/xo2B4g0/r+5+uHy/8qaVHjP7VneUiksjrmvv//WO7cFj1u18kjcsPYz+m+/ae/uRCl28bMdnkIpoCcTNHVzeT7aFevdX/n4quexIZj62JP/zP/xVXt+o+nsAMfPelzXY9UmUcpvRZ0x33ET8AXFy2LCgz8649ewy+ik5xYwTSJzpy8PulVDLJMQ52qJMKyslxs8wQRqjIzOz2j1/w9uvoX/3JBTrwC/2tm1wQQTvQft0vKJzsF0Ageo3IpZLeDjqFZMPjd4yjEAguBwdPuVqZ7riV+KdFrqWanTslx49PaedzJ1CeNeMzHZ2rdWoM9btL1bTgCP1U/yqlTNTFSV8Q9dbvtzigwi0nT3Zu3z4tEsNZA9HZFbAlIatWqSorh7hcZ1dkUjoKC1FOGM9RPgDMSEujbNzYmpc32RvOX257/GA5AHzy8krVIA8A9JUPACQfKsU/pORqm1AsNVyE7VDJZPyjR4Nyctxb+eBm4kfRFyjvvQsyxOW2bt5Mz862X6CryxKbkyM/d6734kWDr0bPoH3y8spt65MD6ZSrt7q9yQYyZJP9AgBAIJLYt6IAvG++UVVWzsy2zQl/roxbiV/nVeLsihhAJZOx33yTlJo69913nV0XJ2B88J8bF6IzuMwKD1SPKCa+R6WQAQCVYrPjdwyiEAhaN28OysmZjo4J5uJW4geA8C1b5OfOueDMvyU/X3L8+OzDhz1qwq8PGvx5xcXG33bvkrgRxfCIfMz0XqtRD4l6EpiB9jb4tX/6KQDEv/CCXe/iIrib+NEpV10u5pjRe/EiSs45Tff2bMKMtDR6dnbrH/+oksmMvC3jZwsZNIqI16TTv1qlFHZx1COK3F/bd8tdzOGgx+T2q32EW1n7Ecjm7yL+MwAwxOXWbtpEXbhwwfvvu0iVnAXynJlyC43XI9j55icCqZxI9EIpGADgby9tRClY7EfNzp2ya9dcp+XYGzcUv6C29vrixS7im6WSyaofe0zF4y0qLPSQ8cQ4yHlmyhNW5HLlT1fZ1xo7JUPyxckxaSlzbHLknhGQ55WLNBvH4IbiB5fxylbJZHUvvCA5fnz+1asuks3K6egyFy39179cZ4BFnlf07OwlE84acGPcbc2PML6x5DBGjXxFRVj5OkhUavJHH8nPneO4UkpMtBGTtHevsyviWLRuyuWNGy9v3OjECrCPHLkAwD5yxIl1cFnQj9NTXu7simi1tyvTVVTk7Io4GrcVf095+QWAdhbLKXfHyjfOyPBwdXb2BQBpZ6dza4LaiWc+Kfdc8yPqcnMlFy6knD/v4K11ZNPyqNAdC1AIBFXr1wOA4x+QDt1S30M3Ypzd+9gRaWfnBYBrOTmOvCka86uzs0eGhx153+mIiM124m8l7ewsT00tT02VDww4/u6ugDuLX6vVtrNYjlzO4dm+uaBZt+P1r1O+09cdTsTNxa/Vah2zthwZHr6Wk4OVbwGO1z9WPsKd1/wI3drSfm42Q1zujeefl587F8tieWDEnvWggH96dnbS3r32doUSczg3nngC7Nkepgvuuc+vD5nBWFRYCAC1mzbZI+CHV1xcu2mTisebf/UqVr5lzEhLSy4vl127Vrtpk6C21n434hUX1yYlAVY+AHiC+AHALyrKHvpXCAT1+/ffWreOunDhosJC7MljDTPS0hYVFpIiIq4vXtxy8qTNy1fJZOhh0bOz7y4rw8oHcGtr/zh0Kz2b+JZ0FRWVp6Y60ZXALRkZHr65bx8yAYjYbFsV21Nejh5Wc0GBrcp0Azxi5Eeg8Z+6cGHDypX1+/cbDyw1Qu/FixWZmWjAT+nsxFN9G0KiUu/as2d2UZHs2rXapKT6/fsVAsHUH5scMYdTl5vbsHIlKSJiEZs9Tc8OshfO7n0czcjwcHNBwQWA8tTUdhbLdAvzyPBwV1HR5Y0bLwBc3rjRRVxT3ZWR4WG0b3oB4Oa+fQNXr5pbQk95Odp/QQ/aHpWc7ri/td8gYg6n/fhxYV4eAITu2xeyalVAcrJBP7MhLldcXy+qqup77TUAoGdnRz35pCfn5HAkCoGg/dNP+06eVFVWUjZuDN20KXDBAv+kpMm88RQCgbihQXT1KvoIKTU1+tVXIx54wBO990zAQ8WPGOJyu86eRQ0FXQnKydG9qhIKJcePo79RywtbvRobihyPSiYT1NT0l5Wh/hcASKmp9PT0cW8T3k4QSEpNDc3KClm5EptgjePR4tch5nCG2tqkHI68o0P/euDy5ZSwsMkmBRjHI+ZwxDduyHm8cU8KAGjz5lHCw/1mzfKE3Js2AYsfg/FQPMjaj8Fg9MHix2A8FCx+DMZDweLHYDwULH4MxkPB4sdgPBQsfgzGQ8Hix2A8FCx+DMZDweLHYDwULH4MxkPB4sdgPBQsfgzGQ8Hix2A8FCx+DMZDweLHYDwULH4PRDNYuieCQCCsO8EZbCx8ZR2B8MgJjtzaUgdLX4kgEAiPnOD0cgr33EeIWHeiUWOL6mLsBBa/B0L0X/3natYz8fdRrub+n+jXf2VltZTd6LO2VP/V71azsuLn+l/967uiLR+yflFcVt9ji+pi7AQWv4sh5ZQWFv774PYIm4zGkyJqqLgeVlTC2/nGjojeim8hPND6/LaawYaqb8Mufcnb/N6OaG5FFTM80M8GVcXYCyx+V2KwdM/v/tvXcu6FnJN8+96oruhUq8+GZ3Yu9R+s+u4UZKxLsT5DqaCqqJjvs/6FnSm0wbqiU7Bt3QJ/G9QVYy+w+F0J/9X7819+9Ont25h2vY1msOq7U/Dk60+n0EBQVVQM29am+FvdEgbrik5B7uvbltLAdh0Kxo5g8bsetIik+XZVv6CqqGz+W1np/kRQtdew4LEkdTNfaV2ZmsGq707N/+1T6SEAw7dqfoLHEqC5RwOi6oMPEggEQsLBapVtao+xFVj8noemv62Wdv/CKCIA9LVfb4YbTYoZYYOlr6QQCCl/OPb+UxG/KeSbq1Rld1uT7/0L44gAIGy/3h97o00yI5ioEbc3JLF4I9qml5eS7PBdMFaA8/a7HprGEw+sfqp4ZT775I5EiuNuyznxQNIHkJsxr5a04cwbq61fCCCk1SeOiR/43WomHmhcDPxAMAiNlNt0nbn8mRfe+GvRn22k/P7SPe+UaqJndR/624V+WxSIsSVY/BgEMgQ8nxnpY7syZaKu42sCwtZcSV2XjA3/Lgdeh2EAANnqIx+9MMumo0H0poImbYEtS8TYECx+DAAA+K9+l7fa2ZXAOBQ87cdgPBQsfvdH01X4VATBOu47WC21d5kYB4PF7/4QIzPfK/04S+c3lH6oSqLWmoRawi7Jz80A6LzeLrR3mRgH47LiH+R8+/6eAvvFhMo5BfsOfsvxjKGHSJvz2Dun30hH/1146aHnTjVKTflpibTE1Tve/bwqb4lDyrQV9m48tkfD+XTPwSKOST+g7TCtt7YacUnueI9VZkZ+g+HBQtLAyt2SdaicZ+JYYhmSBlbuhvTdxfa9i/mouawdTADYkFcltGnBCi7rOd1DYO5gcU3+4mp2fmZe1YiDykQvN+RnGPRxnpeV9wmrhC2Z7IOOaTy2R8xm7U5Pf6OEp3DYLR0lfq1Wq1VLqg6lAwBk5LIaJn146jbWjvSs/OuTvsGWCKvyMl1I/xNbPHN3idiGlRM35O+4fQOmGV9c3XDy45pJhGqPMkffMdpg9H4ENa/qbH5uOgAz62jFRJ04tPHYHLWk6pAj9e9I8WvV7PwMAGZuiXjStwir8jYYfYPN6zStm4sFCKvyNui6lvS8Clt8cXuUqdVO2mAUvJI30gGYWR83jDE0OLzx2B4Fl/Vc/PjvZS8cKX4ZO38LwNLckr7J3qFm52fAlny2zIG10qrZ+RnM51hcx023nIyaW7I7484s2iYdnz3KHG0wBpeHfSW5SwHm7WC16V5ySuOxPeqG/Iyl+t/LfjhQ/GhOa2we21eSuxQy8tkOnoSrG/IzmNN8xDATyfX8rHm3tZqxu8T0pboDyxxdBBnUM+oXQK+1OKnx2B4ZO3+LrZd7hnGc+Kec86u5rB1Mw1ZANa/qLIvFys/NQB+XNLByM0x90mpe1ce56QDAzMorZkskVR+zxn3OcT+3C+Hy+kcNZpKnrBaX7GYC6LoGI41Hq1Xwqr5mncnLytDtR6olbFZuOtOcHUqjVeVVnWV9kpe19Y6NFjVRi6y2anZ+htEJsq1wmPiNTOEQ6HFO/M66xwyjSwZdCzNJ/EjYO/IbxFqtWtLwcRZzsls44ud2KdS84t3pOlMd+olcp0zjDWac+I08wdtzBIDbpekMz7axp452UqM9Xj5brdVKKvJGfwSLGpW4JJdp3DRmGxwmfrRIM7IkM/6GvpLcpcDcXSJsOXvoswZJT0luhknrovFrjb6S3Gcm3GK0JRn8ucc82smYtrMGF9a/8fYwTvxTti7U7wNk5LPFFYdy/2Fgp8BKRsekLflsXtWh1w9VWLGDhPbF7d+oHLvPb2SsNrbA0y3Lv755Nv+seZY51CymmIIanWG6N7dVgbDNPpMtypyiwdwez5FCjDeeUVBLSM/KPWqfvTTUHzHTs3IPWbmGMunr2ADHePhpBqu+O8VnZjx6T4JFN9Q0Xfq8GJJU7MaYTRvNCzgPSX9hzw5m8dtP/OnjxkFL7u3mEGlztv39y9vTYHZHm9j6fOHWlzllg5Fy2S0AwDQj9SgjZV0GE9jdSWvSmTbMWaCD6J+ydhuTf6E7aUN6pMt6zurjmEoKqoqK+bDy0ZWWhYvLm8rPF4OvD3PF2sWB5n541AsdTjz17OFSa9NUmoGVUS/WY3JNibSlOw/mpQNsyPvyrzvm2CTrhpVlTtVgBuuKTlUDbHnrqXtMLnpUnNfZPHv5dPsvWLdtKVxv4jrYS9dSHCJ+9Kgy1q9MsCwjnZTLbgHm+mceW2JRwyTS5jy2/+hzzAtvPPG3coeN/nadsJmCyTXVSBtZ7x/q38H6+0tLze5b7VLmFA1GVP3RoQN8YOb+5mEzchxqpM19cN88/qnvqgbtI05plwDimPzioiqBXcq3NQ4Qv9EpnLS6oJCjAQBiyKxFEYYLGKwrOlXN3LZprXkT/v7SPe+Ujj5mn8jMnKM7pnjwzEWzwifUUMM5sW7KQTZiT6md2pP90fBL9j97BN7613ubZtqqNVhXpvE5v5Jf+t7LOV8zsz4ufT19dDAw0nh0SK9+cTXikTXJwG9q67bHBFBU/cXNmEfunw+82rZ+G7QGZsKscHssT+5gf/FrOr/75EvDUzhNe+HvPlDPiyEC3F6StbC54yZlqClseOkRM4d9TX9b9fU7j5noFxhCnuytUm7TdVhq8IQZYuKOoikHWd5+m+W6dTDSK4e2PvvTirffeXIezUXKNNJgYJBT+MbWNR9CLuvC37fNoelen6zx6BBVf8Fe+Eja4pXrM6D88/I2DYCG39w86fy8s3B7AmF7ocnnJmmk1f+7tvDnyxb/7NEMKP78UpMGQNPLaZ58oqmqPpiQsL2w08BLUh77Ot8cc4al2HnuKWazdqcDTDBditkln+VlzRuzuyYuyTXgp3F7k2+ybY9Rx9IJLqVos3Q0/AM5dcRP4nbukU4+WhTXMG+Ch7xzy7zdYMY8DgWv6msW66PcdOaop5aBzxlqPKOusi3imi9ZaMcRbSKk55VUfZnPummyD/Jk0QQydv4W5g4WV1zLGi0N7SlsyCspP5v/pWU/ghs4+eg750zGuG9oyENzSocHdRtrB/IqG9O/qNmfHSrpuZ03AoCZlceqMrz36oHuvVrtaDSOjWPIrCnTeIOZl5X3CevsJE9QqzXceFDbGONrgGKQdHGlev4CVTWs3AzIYvG0HayseBjj96GLXB7Xv6Dr+gMP8iBipuey2BK9zqvkjTFuRTxW1qTeru7o3msKVsRmqMUlb++2qLN0k4AQ8xA35O9g2jicyR5lmoHFz1HNzs9gbs19+x/5eVtG54biklwDnqBarbhk924LBokOVta8sb2GjJ2/1bDzorohPyN+ckdYW+Ja4kcNKN6cnBC36SvZ/bYlnaW6jbVjqQ2jUKcDaCCybbIQe5RpLpY1HuQvpF9ztbhkN9PA2GvxADMhbYS6IT9jq6F+SsFlPce0UcTBlLia+NEafouZMaEKXsk/dzBlRAAABeNJREFULHKrsrivmb4g9zvzo26MDXr2KNMiLGg86ob8jLHGoEmWgWpeyaFDJRZ67Y5LGyEuyY030LlIGj7Oinfc1Mn1xK9Fj3DD2FXT5EgazuafLGab34TUvIpDOzJMvIu7oOaydjAtiLdXi0te3zDJXNQeZVqOWY1ndM4/RoeGlg9i9tmP8w0aGs2oF2sH804YUvzEDCUVR7MydrMsaMmW4pLi12q1WjG7+L3dH9tv5SNjf/yWYbuxGyOpyEuPtyBtmZpXvDt9Xharw0FlWovpjUfGzt8ydpCXsfO3QMbRkqrrtknuNlKVt+FQlUSt5rJ2MNPzqiRabV9J7j3jVvVq9ie78847eBxyWfFjbA3ahDNzjaPmVZ09k5fFBADUcO1fpiNRN+Rn3DPWsNfByopnbn0u76xtcunoRYXOG00rOlKVF+8SBmYsfs9gTJoty3iGxRuxe5kegJqdn+Ea8aPT0y8NYx6DjR//6Ym3i60qg8kI9NNvLfYo073pLNy+/URj84WPz0c9s8ay8Fbb4gJVcHuknNLCwsITr6x7pXQQAGCQ8+3h7REEwn2Hq42Hf1n8wbFoOP/+3VMnTPZUnYT5CVF33GntUqa7Qw0Mv/lUcmZB6O/eyrRZGIVVOHvq4e7cOa0EOY2IG1gnz7LFanZ+hrGkZlZ8EIMxDZfogNwZ/9Xv8pAbSVxSlE9X6XfdKx7dmEiTcpuu2+mDGIxpYPE7ACmX3QIZ9y8UfVUUsDqd6QOg7G5rMiG7icUfxGCmBjch+6Ppb6sVpS8a+P5G0iMos4Wmrfzz8qmzm1j8QQzGBLD47Y6m6dLnxc0XrpDve2Qx7c4VmDKjocUftBolv/qrE6+sSzhYrZo2JWPMBovf3qAEhEtzX9+2dNSyja5MOXW3+INTwS/cTpgkjcToG756NeWhpw6YvY2nqj6YQPhNIX9yXVtaMsYeYPHbG7Ru/+1T6SGjF0ydulv8walgbirQNhVsijb6htGYdrMgLX25Sft/m5gkm5eMsQdY/HZmsK7oFG/MRF3KY1+HjEfviesxkkbKig8ah1+4nUAgEFJeKe23sATDqPiFv7FDsRg7gsVvV1ACQv2J+u0r95CvsdVhk7q4WPzBqWBmHinZzWRmrEthWFiCYUjMzBfzM5KSomyWChBjb7D47YqgqqiYb2CiLmZX9EXcm0gDgMHSVyIIBELEuhOXGwv33De6ZjbhgwCg6SrdM5pbOGLUC9CkKsG2tSn+RFX1wQQDqYiNLtonR9N06XNYszKBAiCtPnifgYLNyIeJcQSTL88wNiBk9btVYxPoE/1X7+fpX/Jf/S63IemBJ8rYF35M8vNJD51JJ5r0QQDoqSh4OyCfLdthcvp6Dee/7x6AbSUL/AFg6ctN2pfN/k6TFCzlNjUvWhtOBADa0pe/t1nBGLuBR37no2m69HkxryN09WM7Xiv6/vdLTZ/S06Pmpw83cQdMNgDIm8rPF982Itp05BdUFdVtHs19jkf+6QEWv9ORN5WfL07POfibFLOXy7RlL53e0fO0yccQatrKP6/JeDhaco2vGTXOT+T/NjFJoBkSdQ+bUZPBuqJTvrcX/LSlL39voOCCTUwAs0vG2A97Bw9gpsBAPgmzUHBZzzFNjA/nsbJg3tYdeVOcdDxSlafbjMti8UwoeKQqL96UOphfMsZ+4DW/k9E0Xfr8+qpXzLe9q6oPZ36f9tnLiwAAmgUSjQnTOOamAu2mqYsmmWsMkLdcuxr/6OtT+x2aXTLGjuBpv3ORN5Wfv27JwUzylms/fZ1zN51AjnpekvPp44ud0o3zC7evO9HY9ePHn4c+sy4ON6bpBUFrxnGuGMxYBktfmbPmAGQdOvvO75YxsfinF1j8GIyHgjtrDMZDweLHYDwULH4MxkPB4sdgPBQsfgzGQ8Hix2A8FCx+DMZDweLHYDwULH4MxkPB4sdgPBQsfgzGQ8Hix2A8FCx+DMZDweLHYDwULH4MxkPB4sdgPBQsfgzGQ8Hix2A8lP8H0CsdSppLN2cAAAAASUVORK5CYII=)\n"
      ],
      "metadata": {
        "id": "GcUu-vu9dOdA"
      }
    },
    {
      "cell_type": "code",
      "source": [
        "# Average linkage\n",
        "mergings = linkage(rfm_df_scaled, method=\"average\", metric='euclidean')\n",
        "dendrogram(mergings)\n",
        "plt.show()"
      ],
      "metadata": {
        "colab": {
          "base_uri": "https://localhost:8080/",
          "height": 323
        },
        "id": "_gNjkWuAdW1O",
        "outputId": "a2697590-3dc0-40e1-d0a9-0ecfc5169a89"
      },
      "execution_count": 54,
      "outputs": [
        {
          "output_type": "display_data",
          "data": {
            "text/plain": [
              "<Figure size 576x360 with 1 Axes>"
            ],
            "image/png": "[encoded data removed]"
          },
          "metadata": {
            "needs_background": "light"
          }
        }
      ]
    },
    {
      "cell_type": "markdown",
      "source": [
        "**Cutting the Dendrogram based on K**"
      ],
      "metadata": {
        "id": "Rr1HJZ_qdZ37"
      }
    },
    {
      "cell_type": "code",
      "source": [
        "# 3 clusters\n",
        "cluster_labels = cut_tree(mergings, n_clusters=3).reshape(-1, )\n",
        "cluster_labels"
      ],
      "metadata": {
        "colab": {
          "base_uri": "https://localhost:8080/"
        },
        "id": "J7EcaWQVdfHQ",
        "outputId": "f91adba7-bcfc-4b0f-8980-ad9d79f0ddc9"
      },
      "execution_count": 55,
      "outputs": [
        {
          "output_type": "execute_result",
          "data": {
            "text/plain": [
              "array([0, 0, 0, ..., 0, 0, 0])"
            ]
          },
          "metadata": {},
          "execution_count": 55
        }
      ]
    },
    {
      "cell_type": "code",
      "source": [
        "# Assign cluster labels\n",
        "rfm['Cluster_Labels'] = cluster_labels\n",
        "rfm.head()"
      ],
      "metadata": {
        "colab": {
          "base_uri": "https://localhost:8080/",
          "height": 206
        },
        "id": "QpsbloaSdiLU",
        "outputId": "ca401488-998a-474a-d745-9aaf720a96b4"
      },
      "execution_count": 56,
      "outputs": [
        {
          "output_type": "execute_result",
          "data": {
            "text/plain": [
              "  CustomerID   Amount  Frequency  Recency  Cluster_Id  Cluster_Labels\n",
              "0    12346.0     0.00          2      325           2               0\n",
              "1    12347.0  4310.00        182        1           1               0\n",
              "2    12348.0  1797.24         31       74           0               0\n",
              "3    12349.0  1757.55         73       18           0               0\n",
              "4    12350.0   334.40         17      309           2               0"
            ],
            "text/html": [
              "\n",
              "  <div id=\"df-c98bd691-817f-457d-854d-f4cb4965f921\">\n",
              "    <div class=\"colab-df-container\">\n",
              "      <div>\n",
              "<style scoped>\n",
              "    .dataframe tbody tr th:only-of-type {\n",
              "        vertical-align: middle;\n",
              "    }\n",
              "\n",
              "    .dataframe tbody tr th {\n",
              "        vertical-align: top;\n",
              "    }\n",
              "\n",
              "    .dataframe thead th {\n",
              "        text-align: right;\n",
              "    }\n",
              "</style>\n",
              "<table border=\"1\" class=\"dataframe\">\n",
              "  <thead>\n",
              "    <tr style=\"text-align: right;\">\n",
              "      <th></th>\n",
              "      <th>CustomerID</th>\n",
              "      <th>Amount</th>\n",
              "      <th>Frequency</th>\n",
              "      <th>Recency</th>\n",
              "      <th>Cluster_Id</th>\n",
              "      <th>Cluster_Labels</th>\n",
              "    </tr>\n",
              "  </thead>\n",
              "  <tbody>\n",
              "    <tr>\n",
              "      <th>0</th>\n",
              "      <td>12346.0</td>\n",
              "      <td>0.00</td>\n",
              "      <td>2</td>\n",
              "      <td>325</td>\n",
              "      <td>2</td>\n",
              "      <td>0</td>\n",
              "    </tr>\n",
              "    <tr>\n",
              "      <th>1</th>\n",
              "      <td>12347.0</td>\n",
              "      <td>4310.00</td>\n",
              "      <td>182</td>\n",
              "      <td>1</td>\n",
              "      <td>1</td>\n",
              "      <td>0</td>\n",
              "    </tr>\n",
              "    <tr>\n",
              "      <th>2</th>\n",
              "      <td>12348.0</td>\n",
              "      <td>1797.24</td>\n",
              "      <td>31</td>\n",
              "      <td>74</td>\n",
              "      <td>0</td>\n",
              "      <td>0</td>\n",
              "    </tr>\n",
              "    <tr>\n",
              "      <th>3</th>\n",
              "      <td>12349.0</td>\n",
              "      <td>1757.55</td>\n",
              "      <td>73</td>\n",
              "      <td>18</td>\n",
              "      <td>0</td>\n",
              "      <td>0</td>\n",
              "    </tr>\n",
              "    <tr>\n",
              "      <th>4</th>\n",
              "      <td>12350.0</td>\n",
              "      <td>334.40</td>\n",
              "      <td>17</td>\n",
              "      <td>309</td>\n",
              "      <td>2</td>\n",
              "      <td>0</td>\n",
              "    </tr>\n",
              "  </tbody>\n",
              "</table>\n",
              "</div>\n",
              "      <button class=\"colab-df-convert\" onclick=\"convertToInteractive('df-c98bd691-817f-457d-854d-f4cb4965f921')\"\n",
              "              title=\"Convert this dataframe to an interactive table.\"\n",
              "              style=\"display:none;\">\n",
              "        \n",
              "  <svg xmlns=\"http://www.w3.org/2000/svg\" height=\"24px\"viewBox=\"0 0 24 24\"\n",
              "       width=\"24px\">\n",
              "    <path d=\"M0 0h24v24H0V0z\" fill=\"none\"/>\n",
              "    <path d=\"M18.56 5.44l.94 2.06.94-2.06 2.06-.94-2.06-.94-.94-2.06-.94 2.06-2.06.94zm-11 1L8.5 8.5l.94-2.06 2.06-.94-2.06-.94L8.5 2.5l-.94 2.06-2.06.94zm10 10l.94 2.06.94-2.06 2.06-.94-2.06-.94-.94-2.06-.94 2.06-2.06.94z\"/><path d=\"M17.41 7.96l-1.37-1.37c-.4-.4-.92-.59-1.43-.59-.52 0-1.04.2-1.43.59L10.3 9.45l-7.72 7.72c-.78.78-.78 2.05 0 2.83L4 21.41c.39.39.9.59 1.41.59.51 0 1.02-.2 1.41-.59l7.78-7.78 2.81-2.81c.8-.78.8-2.07 0-2.86zM5.41 20L4 18.59l7.72-7.72 1.47 1.35L5.41 20z\"/>\n",
              "  </svg>\n",
              "      </button>\n",
              "      \n",
              "  <style>\n",
              "    .colab-df-container {\n",
              "      display:flex;\n",
              "      flex-wrap:wrap;\n",
              "      gap: 12px;\n",
              "    }\n",
              "\n",
              "    .colab-df-convert {\n",
              "      background-color: #E8F0FE;\n",
              "      border: none;\n",
              "      border-radius: 50%;\n",
              "      cursor: pointer;\n",
              "      display: none;\n",
              "      fill: #1967D2;\n",
              "      height: 32px;\n",
              "      padding: 0 0 0 0;\n",
              "      width: 32px;\n",
              "    }\n",
              "\n",
              "    .colab-df-convert:hover {\n",
              "      background-color: #E2EBFA;\n",
              "      box-shadow: 0px 1px 2px rgba(60, 64, 67, 0.3), 0px 1px 3px 1px rgba(60, 64, 67, 0.15);\n",
              "      fill: #174EA6;\n",
              "    }\n",
              "\n",
              "    [theme=dark] .colab-df-convert {\n",
              "      background-color: #3B4455;\n",
              "      fill: #D2E3FC;\n",
              "    }\n",
              "\n",
              "    [theme=dark] .colab-df-convert:hover {\n",
              "      background-color: #434B5C;\n",
              "      box-shadow: 0px 1px 3px 1px rgba(0, 0, 0, 0.15);\n",
              "      filter: drop-shadow(0px 1px 2px rgba(0, 0, 0, 0.3));\n",
              "      fill: #FFFFFF;\n",
              "    }\n",
              "  </style>\n",
              "\n",
              "      <script>\n",
              "        const buttonEl =\n",
              "          document.querySelector('#df-c98bd691-817f-457d-854d-f4cb4965f921 button.colab-df-convert');\n",
              "        buttonEl.style.display =\n",
              "          google.colab.kernel.accessAllowed ? 'block' : 'none';\n",
              "\n",
              "        async function convertToInteractive(key) {\n",
              "          const element = document.querySelector('#df-c98bd691-817f-457d-854d-f4cb4965f921');\n",
              "          const dataTable =\n",
              "            await google.colab.kernel.invokeFunction('convertToInteractive',\n",
              "                                                     [key], {});\n",
              "          if (!dataTable) return;\n",
              "\n",
              "          const docLinkHtml = 'Like what you see? Visit the ' +\n",
              "            '<a target=\"_blank\" href=https://colab.research.google.com/notebooks/data_table.ipynb>data table notebook</a>'\n",
              "            + ' to learn more about interactive tables.';\n",
              "          element.innerHTML = '';\n",
              "          dataTable['output_type'] = 'display_data';\n",
              "          await google.colab.output.renderOutput(dataTable, element);\n",
              "          const docLink = document.createElement('div');\n",
              "          docLink.innerHTML = docLinkHtml;\n",
              "          element.appendChild(docLink);\n",
              "        }\n",
              "      </script>\n",
              "    </div>\n",
              "  </div>\n",
              "  "
            ]
          },
          "metadata": {},
          "execution_count": 56
        }
      ]
    },
    {
      "cell_type": "code",
      "source": [
        "# Plot Cluster Id vs Amount\n",
        "sns.boxplot(x='Cluster_Labels', y='Amount', data=rfm)"
      ],
      "metadata": {
        "colab": {
          "base_uri": "https://localhost:8080/",
          "height": 352
        },
        "id": "DckDCzUmdplT",
        "outputId": "6e2a2945-7e53-4739-9df9-a46a7ce9a211"
      },
      "execution_count": 57,
      "outputs": [
        {
          "output_type": "execute_result",
          "data": {
            "text/plain": [
              "<matplotlib.axes._subplots.AxesSubplot at 0x7fc21453b610>"
            ]
          },
          "metadata": {},
          "execution_count": 57
        },
        {
          "output_type": "display_data",
          "data": {
            "text/plain": [
              "<Figure size 576x360 with 1 Axes>"
            ],
            "image/png": "[encoded data removed]"
          },
          "metadata": {
            "needs_background": "light"
          }
        }
      ]
    },
    {
      "cell_type": "code",
      "source": [
        "# Plot Cluster Id vs Frequency\n",
        "sns.boxplot(x='Cluster_Labels', y='Frequency', data=rfm)"
      ],
      "metadata": {
        "colab": {
          "base_uri": "https://localhost:8080/",
          "height": 352
        },
        "id": "2bsNIOIEdtMT",
        "outputId": "17cc2c2f-3193-4485-eeb5-372b3ae386e6"
      },
      "execution_count": 58,
      "outputs": [
        {
          "output_type": "execute_result",
          "data": {
            "text/plain": [
              "<matplotlib.axes._subplots.AxesSubplot at 0x7fc21453b890>"
            ]
          },
          "metadata": {},
          "execution_count": 58
        },
        {
          "output_type": "display_data",
          "data": {
            "text/plain": [
              "<Figure size 576x360 with 1 Axes>"
            ],
            "image/png": "[encoded data removed]"
          },
          "metadata": {
            "needs_background": "light"
          }
        }
      ]
    },
    {
      "cell_type": "code",
      "source": [
        "# Plot Cluster Id vs Recency\n",
        "sns.boxplot(x='Cluster_Labels', y='Recency', data=rfm)"
      ],
      "metadata": {
        "colab": {
          "base_uri": "https://localhost:8080/",
          "height": 352
        },
        "id": "HXxJ_64udxGD",
        "outputId": "1266d0ca-50d9-4586-c352-2fe94b12c466"
      },
      "execution_count": 59,
      "outputs": [
        {
          "output_type": "execute_result",
          "data": {
            "text/plain": [
              "<matplotlib.axes._subplots.AxesSubplot at 0x7fc2131b5190>"
            ]
          },
          "metadata": {},
          "execution_count": 59
        },
        {
          "output_type": "display_data",
          "data": {
            "text/plain": [
              "<Figure size 576x360 with 1 Axes>"
            ],
            "image/png": "[encoded data removed]"
          },
          "metadata": {
            "needs_background": "light"
          }
        }
      ]
    },
    {
      "cell_type": "markdown",
      "source": [
        "#**Final Analysis**"
      ],
      "metadata": {
        "id": "cf80j5mTd1hW"
      }
    },
    {
      "cell_type": "markdown",
      "source": [
        "**Inference:**\n",
        "\n",
        "**K-Means Clustering with 3 Cluster Ids**\n",
        "\n",
        "\n",
        "\n",
        "\n",
        "\n",
        "*   Customers with Cluster Id 2 are the customers with high amount of transactions as compared to other customers.\n",
        "\n",
        "*   Customers with Cluster Id 2 are frequent buyers.\n",
        "\n",
        "\n",
        "\n",
        "\n",
        "\n",
        "\n",
        "*   Customers with Cluster Id 1 are not recent buyers and hence least of importance from business point of view.\n"
      ],
      "metadata": {
        "id": "2tuENeyrd_Rm"
      }
    },
    {
      "cell_type": "markdown",
      "source": [
        "**Hierarchical Clustering with 3 Cluster Labels**\n",
        "\n",
        "\n",
        "\n",
        "\n",
        "\n",
        "*   Customers with Cluster_Labels 2 are the customers with high amount of transactions as compared to other customers.\n",
        "\n",
        "\n",
        "*   Customers with Cluster_Labels 2 are frequent buyers.\n",
        "\n",
        "\n",
        "*   Customers with Cluster_Labels 0 are not recent buyers and hence least of importance from business point of view.\n",
        "\n",
        "\n",
        "\n",
        "\n"
      ],
      "metadata": {
        "id": "I0nwNseZefMe"
      }
    }
  ]
}